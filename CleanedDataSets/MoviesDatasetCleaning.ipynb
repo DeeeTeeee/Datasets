{
  "nbformat": 4,
  "nbformat_minor": 0,
  "metadata": {
    "colab": {
      "provenance": []
    },
    "kernelspec": {
      "name": "python3",
      "display_name": "Python 3"
    },
    "language_info": {
      "name": "python"
    }
  },
  "cells": [
    {
      "cell_type": "code",
      "execution_count": 494,
      "metadata": {
        "id": "_zoRR_33WzpQ"
      },
      "outputs": [],
      "source": [
        "import numpy as np\n",
        "import pandas as pd\n",
        "import re\n",
        "import warnings\n",
        "warnings.filterwarnings('ignore')"
      ]
    },
    {
      "cell_type": "code",
      "source": [
        "#load in the dataset from github\n",
        "movies = pd.read_csv('https://raw.githubusercontent.com/DeeeTeeee/Datasets/main/DirtyDatasets/movies.csv')\n",
        "movies"
      ],
      "metadata": {
        "colab": {
          "base_uri": "https://localhost:8080/",
          "height": 1000
        },
        "id": "n_iWVZAMW-q8",
        "outputId": "b252fbca-045c-4baf-f340-73609dfdae2a"
      },
      "execution_count": 495,
      "outputs": [
        {
          "output_type": "execute_result",
          "data": {
            "text/plain": [
              "                                   MOVIES         YEAR  \\\n",
              "0                           Blood Red Sky       (2021)   \n",
              "1     Masters of the Universe: Revelation     (2021– )   \n",
              "2                        The Walking Dead  (2010–2022)   \n",
              "3                          Rick and Morty     (2013– )   \n",
              "4                         Army of Thieves       (2021)   \n",
              "...                                   ...          ...   \n",
              "9994                       The Imperfects     (2021– )   \n",
              "9995                               Arcane     (2021– )   \n",
              "9996                    Heart of Invictus     (2022– )   \n",
              "9997                       The Imperfects     (2021– )   \n",
              "9998                       The Imperfects     (2021– )   \n",
              "\n",
              "                                           GENRE  RATING  \\\n",
              "0         \\nAction, Horror, Thriller                 6.1   \n",
              "1     \\nAnimation, Action, Adventure                 5.0   \n",
              "2          \\nDrama, Horror, Thriller                 8.2   \n",
              "3     \\nAnimation, Adventure, Comedy                 9.2   \n",
              "4            \\nAction, Crime, Horror                 NaN   \n",
              "...                                          ...     ...   \n",
              "9994     \\nAdventure, Drama, Fantasy                 NaN   \n",
              "9995  \\nAnimation, Action, Adventure                 NaN   \n",
              "9996            \\nDocumentary, Sport                 NaN   \n",
              "9997     \\nAdventure, Drama, Fantasy                 NaN   \n",
              "9998     \\nAdventure, Drama, Fantasy                 NaN   \n",
              "\n",
              "                                                                                                                                                                                                                   ONE-LINE  \\\n",
              "0                                                                                  \\nA woman with a mysterious illness is forced into action when a group of terrorists attempt to hijack a transatlantic overnight flight.   \n",
              "1                                                                   \\nThe war for Eternia begins again in what may be the final battle between He-Man and Skeletor. A new animated series from writer-director Kevin Smith.   \n",
              "2                                                                                        \\nSheriff Deputy Rick Grimes wakes up from a coma to learn the world is in ruins and must lead a group of survivors to stay alive.   \n",
              "3                                                                                                                       \\nAn animated series that follows the exploits of a super scientist and his not-so-bright grandson.   \n",
              "4     \\nA prequel, set before the events of Army of the Dead, which focuses on German safecracker Ludwig Dieter leading a group of aspiring thieves on a top secret heist during the early stages of the zombie apocalypse.   \n",
              "...                                                                                                                                                                                                                     ...   \n",
              "9994                                                                                                                                                                                                         \\nAdd a Plot\\n   \n",
              "9995                                                                                                                                                                                                         \\nAdd a Plot\\n   \n",
              "9996                                                                                                                                                                                                         \\nAdd a Plot\\n   \n",
              "9997                                                                                                                                                                                                         \\nAdd a Plot\\n   \n",
              "9998                                                                                                                                                                                                         \\nAdd a Plot\\n   \n",
              "\n",
              "                                                                                                                                      STARS  \\\n",
              "0                  \\n    Director:\\nPeter Thorwarth\\n| \\n    Stars:\\nPeri Baumeister, \\nCarl Anton Koch, \\nAlexander Scheer, \\nKais Setti\\n   \n",
              "1                                           \\n            \\n    Stars:\\nChris Wood, \\nSarah Michelle Gellar, \\nLena Headey, \\nMark Hamill\\n   \n",
              "2                                          \\n            \\n    Stars:\\nAndrew Lincoln, \\nNorman Reedus, \\nMelissa McBride, \\nLauren Cohan\\n   \n",
              "3                                          \\n            \\n    Stars:\\nJustin Roiland, \\nChris Parnell, \\nSpencer Grammer, \\nSarah Chalke\\n   \n",
              "4      \\n    Director:\\nMatthias Schweighöfer\\n| \\n    Stars:\\nMatthias Schweighöfer, \\nNathalie Emmanuel, \\nRuby O. Fee, \\nStuart Martin\\n   \n",
              "...                                                                                                                                     ...   \n",
              "9994                                    \\n            \\n    Stars:\\nMorgan Taylor Campbell, \\nChris Cope, \\nIñaki Godoy, \\nRhianna Jagpal\\n   \n",
              "9995                                                                                                                                     \\n   \n",
              "9996                                                                  \\n    Director:\\nOrlando von Einsiedel\\n| \\n    Star:\\nPrince Harry\\n   \n",
              "9997      \\n    Director:\\nJovanka Vuckovic\\n| \\n    Stars:\\nMorgan Taylor Campbell, \\nIñaki Godoy, \\nRhianna Jagpal, \\nSiddhartha Minhas\\n   \n",
              "9998  \\n    Director:\\nJovanka Vuckovic\\n| \\n    Stars:\\nMorgan Taylor Campbell, \\nJennifer Cheon Garcia, \\nIñaki Godoy, \\nRhianna Jagpal\\n   \n",
              "\n",
              "        VOTES  RunTime Gross  \n",
              "0      21,062    121.0   NaN  \n",
              "1      17,870     25.0   NaN  \n",
              "2     885,805     44.0   NaN  \n",
              "3     414,849     23.0   NaN  \n",
              "4         NaN      NaN   NaN  \n",
              "...       ...      ...   ...  \n",
              "9994      NaN      NaN   NaN  \n",
              "9995      NaN      NaN   NaN  \n",
              "9996      NaN      NaN   NaN  \n",
              "9997      NaN      NaN   NaN  \n",
              "9998      NaN      NaN   NaN  \n",
              "\n",
              "[9999 rows x 9 columns]"
            ],
            "text/html": [
              "\n",
              "  <div id=\"df-864bd09c-081c-4a6e-ba49-9b3e3983ce18\" class=\"colab-df-container\">\n",
              "    <div>\n",
              "<style scoped>\n",
              "    .dataframe tbody tr th:only-of-type {\n",
              "        vertical-align: middle;\n",
              "    }\n",
              "\n",
              "    .dataframe tbody tr th {\n",
              "        vertical-align: top;\n",
              "    }\n",
              "\n",
              "    .dataframe thead th {\n",
              "        text-align: right;\n",
              "    }\n",
              "</style>\n",
              "<table border=\"1\" class=\"dataframe\">\n",
              "  <thead>\n",
              "    <tr style=\"text-align: right;\">\n",
              "      <th></th>\n",
              "      <th>MOVIES</th>\n",
              "      <th>YEAR</th>\n",
              "      <th>GENRE</th>\n",
              "      <th>RATING</th>\n",
              "      <th>ONE-LINE</th>\n",
              "      <th>STARS</th>\n",
              "      <th>VOTES</th>\n",
              "      <th>RunTime</th>\n",
              "      <th>Gross</th>\n",
              "    </tr>\n",
              "  </thead>\n",
              "  <tbody>\n",
              "    <tr>\n",
              "      <th>0</th>\n",
              "      <td>Blood Red Sky</td>\n",
              "      <td>(2021)</td>\n",
              "      <td>\\nAction, Horror, Thriller</td>\n",
              "      <td>6.1</td>\n",
              "      <td>\\nA woman with a mysterious illness is forced into action when a group of terrorists attempt to hijack a transatlantic overnight flight.</td>\n",
              "      <td>\\n    Director:\\nPeter Thorwarth\\n| \\n    Stars:\\nPeri Baumeister, \\nCarl Anton Koch, \\nAlexander Scheer, \\nKais Setti\\n</td>\n",
              "      <td>21,062</td>\n",
              "      <td>121.0</td>\n",
              "      <td>NaN</td>\n",
              "    </tr>\n",
              "    <tr>\n",
              "      <th>1</th>\n",
              "      <td>Masters of the Universe: Revelation</td>\n",
              "      <td>(2021– )</td>\n",
              "      <td>\\nAnimation, Action, Adventure</td>\n",
              "      <td>5.0</td>\n",
              "      <td>\\nThe war for Eternia begins again in what may be the final battle between He-Man and Skeletor. A new animated series from writer-director Kevin Smith.</td>\n",
              "      <td>\\n            \\n    Stars:\\nChris Wood, \\nSarah Michelle Gellar, \\nLena Headey, \\nMark Hamill\\n</td>\n",
              "      <td>17,870</td>\n",
              "      <td>25.0</td>\n",
              "      <td>NaN</td>\n",
              "    </tr>\n",
              "    <tr>\n",
              "      <th>2</th>\n",
              "      <td>The Walking Dead</td>\n",
              "      <td>(2010–2022)</td>\n",
              "      <td>\\nDrama, Horror, Thriller</td>\n",
              "      <td>8.2</td>\n",
              "      <td>\\nSheriff Deputy Rick Grimes wakes up from a coma to learn the world is in ruins and must lead a group of survivors to stay alive.</td>\n",
              "      <td>\\n            \\n    Stars:\\nAndrew Lincoln, \\nNorman Reedus, \\nMelissa McBride, \\nLauren Cohan\\n</td>\n",
              "      <td>885,805</td>\n",
              "      <td>44.0</td>\n",
              "      <td>NaN</td>\n",
              "    </tr>\n",
              "    <tr>\n",
              "      <th>3</th>\n",
              "      <td>Rick and Morty</td>\n",
              "      <td>(2013– )</td>\n",
              "      <td>\\nAnimation, Adventure, Comedy</td>\n",
              "      <td>9.2</td>\n",
              "      <td>\\nAn animated series that follows the exploits of a super scientist and his not-so-bright grandson.</td>\n",
              "      <td>\\n            \\n    Stars:\\nJustin Roiland, \\nChris Parnell, \\nSpencer Grammer, \\nSarah Chalke\\n</td>\n",
              "      <td>414,849</td>\n",
              "      <td>23.0</td>\n",
              "      <td>NaN</td>\n",
              "    </tr>\n",
              "    <tr>\n",
              "      <th>4</th>\n",
              "      <td>Army of Thieves</td>\n",
              "      <td>(2021)</td>\n",
              "      <td>\\nAction, Crime, Horror</td>\n",
              "      <td>NaN</td>\n",
              "      <td>\\nA prequel, set before the events of Army of the Dead, which focuses on German safecracker Ludwig Dieter leading a group of aspiring thieves on a top secret heist during the early stages of the zombie apocalypse.</td>\n",
              "      <td>\\n    Director:\\nMatthias Schweighöfer\\n| \\n    Stars:\\nMatthias Schweighöfer, \\nNathalie Emmanuel, \\nRuby O. Fee, \\nStuart Martin\\n</td>\n",
              "      <td>NaN</td>\n",
              "      <td>NaN</td>\n",
              "      <td>NaN</td>\n",
              "    </tr>\n",
              "    <tr>\n",
              "      <th>...</th>\n",
              "      <td>...</td>\n",
              "      <td>...</td>\n",
              "      <td>...</td>\n",
              "      <td>...</td>\n",
              "      <td>...</td>\n",
              "      <td>...</td>\n",
              "      <td>...</td>\n",
              "      <td>...</td>\n",
              "      <td>...</td>\n",
              "    </tr>\n",
              "    <tr>\n",
              "      <th>9994</th>\n",
              "      <td>The Imperfects</td>\n",
              "      <td>(2021– )</td>\n",
              "      <td>\\nAdventure, Drama, Fantasy</td>\n",
              "      <td>NaN</td>\n",
              "      <td>\\nAdd a Plot\\n</td>\n",
              "      <td>\\n            \\n    Stars:\\nMorgan Taylor Campbell, \\nChris Cope, \\nIñaki Godoy, \\nRhianna Jagpal\\n</td>\n",
              "      <td>NaN</td>\n",
              "      <td>NaN</td>\n",
              "      <td>NaN</td>\n",
              "    </tr>\n",
              "    <tr>\n",
              "      <th>9995</th>\n",
              "      <td>Arcane</td>\n",
              "      <td>(2021– )</td>\n",
              "      <td>\\nAnimation, Action, Adventure</td>\n",
              "      <td>NaN</td>\n",
              "      <td>\\nAdd a Plot\\n</td>\n",
              "      <td>\\n</td>\n",
              "      <td>NaN</td>\n",
              "      <td>NaN</td>\n",
              "      <td>NaN</td>\n",
              "    </tr>\n",
              "    <tr>\n",
              "      <th>9996</th>\n",
              "      <td>Heart of Invictus</td>\n",
              "      <td>(2022– )</td>\n",
              "      <td>\\nDocumentary, Sport</td>\n",
              "      <td>NaN</td>\n",
              "      <td>\\nAdd a Plot\\n</td>\n",
              "      <td>\\n    Director:\\nOrlando von Einsiedel\\n| \\n    Star:\\nPrince Harry\\n</td>\n",
              "      <td>NaN</td>\n",
              "      <td>NaN</td>\n",
              "      <td>NaN</td>\n",
              "    </tr>\n",
              "    <tr>\n",
              "      <th>9997</th>\n",
              "      <td>The Imperfects</td>\n",
              "      <td>(2021– )</td>\n",
              "      <td>\\nAdventure, Drama, Fantasy</td>\n",
              "      <td>NaN</td>\n",
              "      <td>\\nAdd a Plot\\n</td>\n",
              "      <td>\\n    Director:\\nJovanka Vuckovic\\n| \\n    Stars:\\nMorgan Taylor Campbell, \\nIñaki Godoy, \\nRhianna Jagpal, \\nSiddhartha Minhas\\n</td>\n",
              "      <td>NaN</td>\n",
              "      <td>NaN</td>\n",
              "      <td>NaN</td>\n",
              "    </tr>\n",
              "    <tr>\n",
              "      <th>9998</th>\n",
              "      <td>The Imperfects</td>\n",
              "      <td>(2021– )</td>\n",
              "      <td>\\nAdventure, Drama, Fantasy</td>\n",
              "      <td>NaN</td>\n",
              "      <td>\\nAdd a Plot\\n</td>\n",
              "      <td>\\n    Director:\\nJovanka Vuckovic\\n| \\n    Stars:\\nMorgan Taylor Campbell, \\nJennifer Cheon Garcia, \\nIñaki Godoy, \\nRhianna Jagpal\\n</td>\n",
              "      <td>NaN</td>\n",
              "      <td>NaN</td>\n",
              "      <td>NaN</td>\n",
              "    </tr>\n",
              "  </tbody>\n",
              "</table>\n",
              "<p>9999 rows × 9 columns</p>\n",
              "</div>\n",
              "    <div class=\"colab-df-buttons\">\n",
              "\n",
              "  <div class=\"colab-df-container\">\n",
              "    <button class=\"colab-df-convert\" onclick=\"convertToInteractive('df-864bd09c-081c-4a6e-ba49-9b3e3983ce18')\"\n",
              "            title=\"Convert this dataframe to an interactive table.\"\n",
              "            style=\"display:none;\">\n",
              "\n",
              "  <svg xmlns=\"http://www.w3.org/2000/svg\" height=\"24px\" viewBox=\"0 -960 960 960\">\n",
              "    <path d=\"M120-120v-720h720v720H120Zm60-500h600v-160H180v160Zm220 220h160v-160H400v160Zm0 220h160v-160H400v160ZM180-400h160v-160H180v160Zm440 0h160v-160H620v160ZM180-180h160v-160H180v160Zm440 0h160v-160H620v160Z\"/>\n",
              "  </svg>\n",
              "    </button>\n",
              "\n",
              "  <style>\n",
              "    .colab-df-container {\n",
              "      display:flex;\n",
              "      gap: 12px;\n",
              "    }\n",
              "\n",
              "    .colab-df-convert {\n",
              "      background-color: #E8F0FE;\n",
              "      border: none;\n",
              "      border-radius: 50%;\n",
              "      cursor: pointer;\n",
              "      display: none;\n",
              "      fill: #1967D2;\n",
              "      height: 32px;\n",
              "      padding: 0 0 0 0;\n",
              "      width: 32px;\n",
              "    }\n",
              "\n",
              "    .colab-df-convert:hover {\n",
              "      background-color: #E2EBFA;\n",
              "      box-shadow: 0px 1px 2px rgba(60, 64, 67, 0.3), 0px 1px 3px 1px rgba(60, 64, 67, 0.15);\n",
              "      fill: #174EA6;\n",
              "    }\n",
              "\n",
              "    .colab-df-buttons div {\n",
              "      margin-bottom: 4px;\n",
              "    }\n",
              "\n",
              "    [theme=dark] .colab-df-convert {\n",
              "      background-color: #3B4455;\n",
              "      fill: #D2E3FC;\n",
              "    }\n",
              "\n",
              "    [theme=dark] .colab-df-convert:hover {\n",
              "      background-color: #434B5C;\n",
              "      box-shadow: 0px 1px 3px 1px rgba(0, 0, 0, 0.15);\n",
              "      filter: drop-shadow(0px 1px 2px rgba(0, 0, 0, 0.3));\n",
              "      fill: #FFFFFF;\n",
              "    }\n",
              "  </style>\n",
              "\n",
              "    <script>\n",
              "      const buttonEl =\n",
              "        document.querySelector('#df-864bd09c-081c-4a6e-ba49-9b3e3983ce18 button.colab-df-convert');\n",
              "      buttonEl.style.display =\n",
              "        google.colab.kernel.accessAllowed ? 'block' : 'none';\n",
              "\n",
              "      async function convertToInteractive(key) {\n",
              "        const element = document.querySelector('#df-864bd09c-081c-4a6e-ba49-9b3e3983ce18');\n",
              "        const dataTable =\n",
              "          await google.colab.kernel.invokeFunction('convertToInteractive',\n",
              "                                                    [key], {});\n",
              "        if (!dataTable) return;\n",
              "\n",
              "        const docLinkHtml = 'Like what you see? Visit the ' +\n",
              "          '<a target=\"_blank\" href=https://colab.research.google.com/notebooks/data_table.ipynb>data table notebook</a>'\n",
              "          + ' to learn more about interactive tables.';\n",
              "        element.innerHTML = '';\n",
              "        dataTable['output_type'] = 'display_data';\n",
              "        await google.colab.output.renderOutput(dataTable, element);\n",
              "        const docLink = document.createElement('div');\n",
              "        docLink.innerHTML = docLinkHtml;\n",
              "        element.appendChild(docLink);\n",
              "      }\n",
              "    </script>\n",
              "  </div>\n",
              "\n",
              "\n",
              "<div id=\"df-f4dc279e-db1a-49b5-b098-e3971ae55c98\">\n",
              "  <button class=\"colab-df-quickchart\" onclick=\"quickchart('df-f4dc279e-db1a-49b5-b098-e3971ae55c98')\"\n",
              "            title=\"Suggest charts.\"\n",
              "            style=\"display:none;\">\n",
              "\n",
              "<svg xmlns=\"http://www.w3.org/2000/svg\" height=\"24px\"viewBox=\"0 0 24 24\"\n",
              "     width=\"24px\">\n",
              "    <g>\n",
              "        <path d=\"M19 3H5c-1.1 0-2 .9-2 2v14c0 1.1.9 2 2 2h14c1.1 0 2-.9 2-2V5c0-1.1-.9-2-2-2zM9 17H7v-7h2v7zm4 0h-2V7h2v10zm4 0h-2v-4h2v4z\"/>\n",
              "    </g>\n",
              "</svg>\n",
              "  </button>\n",
              "\n",
              "<style>\n",
              "  .colab-df-quickchart {\n",
              "      --bg-color: #E8F0FE;\n",
              "      --fill-color: #1967D2;\n",
              "      --hover-bg-color: #E2EBFA;\n",
              "      --hover-fill-color: #174EA6;\n",
              "      --disabled-fill-color: #AAA;\n",
              "      --disabled-bg-color: #DDD;\n",
              "  }\n",
              "\n",
              "  [theme=dark] .colab-df-quickchart {\n",
              "      --bg-color: #3B4455;\n",
              "      --fill-color: #D2E3FC;\n",
              "      --hover-bg-color: #434B5C;\n",
              "      --hover-fill-color: #FFFFFF;\n",
              "      --disabled-bg-color: #3B4455;\n",
              "      --disabled-fill-color: #666;\n",
              "  }\n",
              "\n",
              "  .colab-df-quickchart {\n",
              "    background-color: var(--bg-color);\n",
              "    border: none;\n",
              "    border-radius: 50%;\n",
              "    cursor: pointer;\n",
              "    display: none;\n",
              "    fill: var(--fill-color);\n",
              "    height: 32px;\n",
              "    padding: 0;\n",
              "    width: 32px;\n",
              "  }\n",
              "\n",
              "  .colab-df-quickchart:hover {\n",
              "    background-color: var(--hover-bg-color);\n",
              "    box-shadow: 0 1px 2px rgba(60, 64, 67, 0.3), 0 1px 3px 1px rgba(60, 64, 67, 0.15);\n",
              "    fill: var(--button-hover-fill-color);\n",
              "  }\n",
              "\n",
              "  .colab-df-quickchart-complete:disabled,\n",
              "  .colab-df-quickchart-complete:disabled:hover {\n",
              "    background-color: var(--disabled-bg-color);\n",
              "    fill: var(--disabled-fill-color);\n",
              "    box-shadow: none;\n",
              "  }\n",
              "\n",
              "  .colab-df-spinner {\n",
              "    border: 2px solid var(--fill-color);\n",
              "    border-color: transparent;\n",
              "    border-bottom-color: var(--fill-color);\n",
              "    animation:\n",
              "      spin 1s steps(1) infinite;\n",
              "  }\n",
              "\n",
              "  @keyframes spin {\n",
              "    0% {\n",
              "      border-color: transparent;\n",
              "      border-bottom-color: var(--fill-color);\n",
              "      border-left-color: var(--fill-color);\n",
              "    }\n",
              "    20% {\n",
              "      border-color: transparent;\n",
              "      border-left-color: var(--fill-color);\n",
              "      border-top-color: var(--fill-color);\n",
              "    }\n",
              "    30% {\n",
              "      border-color: transparent;\n",
              "      border-left-color: var(--fill-color);\n",
              "      border-top-color: var(--fill-color);\n",
              "      border-right-color: var(--fill-color);\n",
              "    }\n",
              "    40% {\n",
              "      border-color: transparent;\n",
              "      border-right-color: var(--fill-color);\n",
              "      border-top-color: var(--fill-color);\n",
              "    }\n",
              "    60% {\n",
              "      border-color: transparent;\n",
              "      border-right-color: var(--fill-color);\n",
              "    }\n",
              "    80% {\n",
              "      border-color: transparent;\n",
              "      border-right-color: var(--fill-color);\n",
              "      border-bottom-color: var(--fill-color);\n",
              "    }\n",
              "    90% {\n",
              "      border-color: transparent;\n",
              "      border-bottom-color: var(--fill-color);\n",
              "    }\n",
              "  }\n",
              "</style>\n",
              "\n",
              "  <script>\n",
              "    async function quickchart(key) {\n",
              "      const quickchartButtonEl =\n",
              "        document.querySelector('#' + key + ' button');\n",
              "      quickchartButtonEl.disabled = true;  // To prevent multiple clicks.\n",
              "      quickchartButtonEl.classList.add('colab-df-spinner');\n",
              "      try {\n",
              "        const charts = await google.colab.kernel.invokeFunction(\n",
              "            'suggestCharts', [key], {});\n",
              "      } catch (error) {\n",
              "        console.error('Error during call to suggestCharts:', error);\n",
              "      }\n",
              "      quickchartButtonEl.classList.remove('colab-df-spinner');\n",
              "      quickchartButtonEl.classList.add('colab-df-quickchart-complete');\n",
              "    }\n",
              "    (() => {\n",
              "      let quickchartButtonEl =\n",
              "        document.querySelector('#df-f4dc279e-db1a-49b5-b098-e3971ae55c98 button');\n",
              "      quickchartButtonEl.style.display =\n",
              "        google.colab.kernel.accessAllowed ? 'block' : 'none';\n",
              "    })();\n",
              "  </script>\n",
              "</div>\n",
              "    </div>\n",
              "  </div>\n"
            ]
          },
          "metadata": {},
          "execution_count": 495
        }
      ]
    },
    {
      "cell_type": "markdown",
      "source": [
        "I will live to check the shape of the dataset"
      ],
      "metadata": {
        "id": "hGADb9fjX47m"
      }
    },
    {
      "cell_type": "code",
      "source": [
        "movies.shape"
      ],
      "metadata": {
        "colab": {
          "base_uri": "https://localhost:8080/"
        },
        "id": "hH4YXj-YW-tw",
        "outputId": "8cc8304b-986c-4d56-ec0c-6e64502fcbb5"
      },
      "execution_count": 496,
      "outputs": [
        {
          "output_type": "execute_result",
          "data": {
            "text/plain": [
              "(9999, 9)"
            ]
          },
          "metadata": {},
          "execution_count": 496
        }
      ]
    },
    {
      "cell_type": "code",
      "source": [
        "movies.info()"
      ],
      "metadata": {
        "colab": {
          "base_uri": "https://localhost:8080/"
        },
        "id": "MrTytBbNW-wf",
        "outputId": "afe438b6-1b01-437a-fa15-aff808a81aec"
      },
      "execution_count": 497,
      "outputs": [
        {
          "output_type": "stream",
          "name": "stdout",
          "text": [
            "<class 'pandas.core.frame.DataFrame'>\n",
            "RangeIndex: 9999 entries, 0 to 9998\n",
            "Data columns (total 9 columns):\n",
            " #   Column    Non-Null Count  Dtype  \n",
            "---  ------    --------------  -----  \n",
            " 0   MOVIES    9999 non-null   object \n",
            " 1   YEAR      9355 non-null   object \n",
            " 2   GENRE     9919 non-null   object \n",
            " 3   RATING    8179 non-null   float64\n",
            " 4   ONE-LINE  9999 non-null   object \n",
            " 5   STARS     9999 non-null   object \n",
            " 6   VOTES     8179 non-null   object \n",
            " 7   RunTime   7041 non-null   float64\n",
            " 8   Gross     460 non-null    object \n",
            "dtypes: float64(2), object(7)\n",
            "memory usage: 703.2+ KB\n"
          ]
        }
      ]
    },
    {
      "cell_type": "code",
      "source": [
        "movies.isnull().sum()"
      ],
      "metadata": {
        "colab": {
          "base_uri": "https://localhost:8080/"
        },
        "id": "Sar5Be2kYTPI",
        "outputId": "9c3720d4-a1d4-46ad-fc45-dbb147fb1959"
      },
      "execution_count": 498,
      "outputs": [
        {
          "output_type": "execute_result",
          "data": {
            "text/plain": [
              "MOVIES         0\n",
              "YEAR         644\n",
              "GENRE         80\n",
              "RATING      1820\n",
              "ONE-LINE       0\n",
              "STARS          0\n",
              "VOTES       1820\n",
              "RunTime     2958\n",
              "Gross       9539\n",
              "dtype: int64"
            ]
          },
          "metadata": {},
          "execution_count": 498
        }
      ]
    },
    {
      "cell_type": "markdown",
      "source": [
        "we can see there are lots of `null` values in the dataset, its one of the major this we are cleaning.\n",
        "\n",
        "\n",
        "Let me first remove all the '\\n's in the dataset"
      ],
      "metadata": {
        "id": "EHJccCndYa4u"
      }
    },
    {
      "cell_type": "code",
      "source": [
        "# Remove '\\n' characters from all columns\n",
        "movies = movies.replace(r'\\n', ' ', regex=True)"
      ],
      "metadata": {
        "id": "iOg9_U7Fa1sN"
      },
      "execution_count": 499,
      "outputs": []
    },
    {
      "cell_type": "markdown",
      "source": [
        "Let me check for duplicates rows:\n"
      ],
      "metadata": {
        "id": "AgBdLyZVcOxs"
      }
    },
    {
      "cell_type": "code",
      "source": [
        "\n",
        "# Count duplicate rows\n",
        "duplicate_count = len(movies[movies.duplicated()])\n",
        "\n",
        "# Print the count of duplicate rows\n",
        "print(f\"Number of duplicate rows in the 'movies' dataset: {duplicate_count}\")\n"
      ],
      "metadata": {
        "colab": {
          "base_uri": "https://localhost:8080/"
        },
        "id": "Eq1HdCLLcUWa",
        "outputId": "5fb7d8c4-0c43-48e1-ba2e-b608a3ef329f"
      },
      "execution_count": 500,
      "outputs": [
        {
          "output_type": "stream",
          "name": "stdout",
          "text": [
            "Number of duplicate rows in the 'movies' dataset: 431\n"
          ]
        }
      ]
    },
    {
      "cell_type": "code",
      "source": [
        "# Check for duplicate rows\n",
        "duplicate_rows = movies[movies.duplicated()]"
      ],
      "metadata": {
        "id": "JZEv80JdbqfD"
      },
      "execution_count": 501,
      "outputs": []
    },
    {
      "cell_type": "code",
      "source": [
        "duplicate_rows"
      ],
      "metadata": {
        "colab": {
          "base_uri": "https://localhost:8080/",
          "height": 805
        },
        "id": "X2aMU0D9b_H4",
        "outputId": "ef454238-9e42-44f4-f9ed-6c7377315528"
      },
      "execution_count": 502,
      "outputs": [
        {
          "output_type": "execute_result",
          "data": {
            "text/plain": [
              "                    MOVIES      YEAR  \\\n",
              "6833   Mighty Little Bheem  (2019– )   \n",
              "6835   Mighty Little Bheem  (2019– )   \n",
              "6836   Mighty Little Bheem  (2019– )   \n",
              "6837   Mighty Little Bheem  (2019– )   \n",
              "6838   Mighty Little Bheem  (2019– )   \n",
              "...                    ...       ...   \n",
              "9989                  1899  (2022– )   \n",
              "9990                  1899  (2022– )   \n",
              "9991                  1899  (2022– )   \n",
              "9992                  1899  (2022– )   \n",
              "9994        The Imperfects  (2021– )   \n",
              "\n",
              "                                         GENRE  RATING      ONE-LINE  \\\n",
              "6833   Animation, Short, Adventure                 NaN   Add a Plot    \n",
              "6835   Animation, Short, Adventure                 9.0   Add a Plot    \n",
              "6836   Animation, Short, Adventure                 9.0   Add a Plot    \n",
              "6837   Animation, Short, Adventure                 NaN   Add a Plot    \n",
              "6838   Animation, Short, Adventure                 NaN   Add a Plot    \n",
              "...                                        ...     ...           ...   \n",
              "9989        Drama, History, Horror                 NaN   Add a Plot    \n",
              "9990        Drama, History, Horror                 NaN   Add a Plot    \n",
              "9991        Drama, History, Horror                 NaN   Add a Plot    \n",
              "9992        Drama, History, Horror                 NaN   Add a Plot    \n",
              "9994     Adventure, Drama, Fantasy                 NaN   Add a Plot    \n",
              "\n",
              "                                                                                             STARS  \\\n",
              "6833                                         Directors: Rajiv Chilaka,  Krishna Mohan Chintapatla    \n",
              "6835                                         Directors: Rajiv Chilaka,  Krishna Mohan Chintapatla    \n",
              "6836                                         Directors: Rajiv Chilaka,  Krishna Mohan Chintapatla    \n",
              "6837                                         Directors: Rajiv Chilaka,  Krishna Mohan Chintapatla    \n",
              "6838                                         Directors: Rajiv Chilaka,  Krishna Mohan Chintapatla    \n",
              "...                                                                                            ...   \n",
              "9989                                                                      Director: Baran bo Odar    \n",
              "9990                                                                      Director: Baran bo Odar    \n",
              "9991                                                                      Director: Baran bo Odar    \n",
              "9992                                                                      Director: Baran bo Odar    \n",
              "9994                    Stars: Morgan Taylor Campbell,  Chris Cope,  Iñaki Godoy,  Rhianna Jagpal    \n",
              "\n",
              "     VOTES  RunTime Gross  \n",
              "6833   NaN      NaN   NaN  \n",
              "6835     6      NaN   NaN  \n",
              "6836     6      NaN   NaN  \n",
              "6837   NaN      NaN   NaN  \n",
              "6838   NaN      NaN   NaN  \n",
              "...    ...      ...   ...  \n",
              "9989   NaN      NaN   NaN  \n",
              "9990   NaN      NaN   NaN  \n",
              "9991   NaN      NaN   NaN  \n",
              "9992   NaN      NaN   NaN  \n",
              "9994   NaN      NaN   NaN  \n",
              "\n",
              "[431 rows x 9 columns]"
            ],
            "text/html": [
              "\n",
              "  <div id=\"df-e95135d5-5549-41b6-b11b-8f6f58ec409d\" class=\"colab-df-container\">\n",
              "    <div>\n",
              "<style scoped>\n",
              "    .dataframe tbody tr th:only-of-type {\n",
              "        vertical-align: middle;\n",
              "    }\n",
              "\n",
              "    .dataframe tbody tr th {\n",
              "        vertical-align: top;\n",
              "    }\n",
              "\n",
              "    .dataframe thead th {\n",
              "        text-align: right;\n",
              "    }\n",
              "</style>\n",
              "<table border=\"1\" class=\"dataframe\">\n",
              "  <thead>\n",
              "    <tr style=\"text-align: right;\">\n",
              "      <th></th>\n",
              "      <th>MOVIES</th>\n",
              "      <th>YEAR</th>\n",
              "      <th>GENRE</th>\n",
              "      <th>RATING</th>\n",
              "      <th>ONE-LINE</th>\n",
              "      <th>STARS</th>\n",
              "      <th>VOTES</th>\n",
              "      <th>RunTime</th>\n",
              "      <th>Gross</th>\n",
              "    </tr>\n",
              "  </thead>\n",
              "  <tbody>\n",
              "    <tr>\n",
              "      <th>6833</th>\n",
              "      <td>Mighty Little Bheem</td>\n",
              "      <td>(2019– )</td>\n",
              "      <td>Animation, Short, Adventure</td>\n",
              "      <td>NaN</td>\n",
              "      <td>Add a Plot</td>\n",
              "      <td>Directors: Rajiv Chilaka,  Krishna Mohan Chintapatla</td>\n",
              "      <td>NaN</td>\n",
              "      <td>NaN</td>\n",
              "      <td>NaN</td>\n",
              "    </tr>\n",
              "    <tr>\n",
              "      <th>6835</th>\n",
              "      <td>Mighty Little Bheem</td>\n",
              "      <td>(2019– )</td>\n",
              "      <td>Animation, Short, Adventure</td>\n",
              "      <td>9.0</td>\n",
              "      <td>Add a Plot</td>\n",
              "      <td>Directors: Rajiv Chilaka,  Krishna Mohan Chintapatla</td>\n",
              "      <td>6</td>\n",
              "      <td>NaN</td>\n",
              "      <td>NaN</td>\n",
              "    </tr>\n",
              "    <tr>\n",
              "      <th>6836</th>\n",
              "      <td>Mighty Little Bheem</td>\n",
              "      <td>(2019– )</td>\n",
              "      <td>Animation, Short, Adventure</td>\n",
              "      <td>9.0</td>\n",
              "      <td>Add a Plot</td>\n",
              "      <td>Directors: Rajiv Chilaka,  Krishna Mohan Chintapatla</td>\n",
              "      <td>6</td>\n",
              "      <td>NaN</td>\n",
              "      <td>NaN</td>\n",
              "    </tr>\n",
              "    <tr>\n",
              "      <th>6837</th>\n",
              "      <td>Mighty Little Bheem</td>\n",
              "      <td>(2019– )</td>\n",
              "      <td>Animation, Short, Adventure</td>\n",
              "      <td>NaN</td>\n",
              "      <td>Add a Plot</td>\n",
              "      <td>Directors: Rajiv Chilaka,  Krishna Mohan Chintapatla</td>\n",
              "      <td>NaN</td>\n",
              "      <td>NaN</td>\n",
              "      <td>NaN</td>\n",
              "    </tr>\n",
              "    <tr>\n",
              "      <th>6838</th>\n",
              "      <td>Mighty Little Bheem</td>\n",
              "      <td>(2019– )</td>\n",
              "      <td>Animation, Short, Adventure</td>\n",
              "      <td>NaN</td>\n",
              "      <td>Add a Plot</td>\n",
              "      <td>Directors: Rajiv Chilaka,  Krishna Mohan Chintapatla</td>\n",
              "      <td>NaN</td>\n",
              "      <td>NaN</td>\n",
              "      <td>NaN</td>\n",
              "    </tr>\n",
              "    <tr>\n",
              "      <th>...</th>\n",
              "      <td>...</td>\n",
              "      <td>...</td>\n",
              "      <td>...</td>\n",
              "      <td>...</td>\n",
              "      <td>...</td>\n",
              "      <td>...</td>\n",
              "      <td>...</td>\n",
              "      <td>...</td>\n",
              "      <td>...</td>\n",
              "    </tr>\n",
              "    <tr>\n",
              "      <th>9989</th>\n",
              "      <td>1899</td>\n",
              "      <td>(2022– )</td>\n",
              "      <td>Drama, History, Horror</td>\n",
              "      <td>NaN</td>\n",
              "      <td>Add a Plot</td>\n",
              "      <td>Director: Baran bo Odar</td>\n",
              "      <td>NaN</td>\n",
              "      <td>NaN</td>\n",
              "      <td>NaN</td>\n",
              "    </tr>\n",
              "    <tr>\n",
              "      <th>9990</th>\n",
              "      <td>1899</td>\n",
              "      <td>(2022– )</td>\n",
              "      <td>Drama, History, Horror</td>\n",
              "      <td>NaN</td>\n",
              "      <td>Add a Plot</td>\n",
              "      <td>Director: Baran bo Odar</td>\n",
              "      <td>NaN</td>\n",
              "      <td>NaN</td>\n",
              "      <td>NaN</td>\n",
              "    </tr>\n",
              "    <tr>\n",
              "      <th>9991</th>\n",
              "      <td>1899</td>\n",
              "      <td>(2022– )</td>\n",
              "      <td>Drama, History, Horror</td>\n",
              "      <td>NaN</td>\n",
              "      <td>Add a Plot</td>\n",
              "      <td>Director: Baran bo Odar</td>\n",
              "      <td>NaN</td>\n",
              "      <td>NaN</td>\n",
              "      <td>NaN</td>\n",
              "    </tr>\n",
              "    <tr>\n",
              "      <th>9992</th>\n",
              "      <td>1899</td>\n",
              "      <td>(2022– )</td>\n",
              "      <td>Drama, History, Horror</td>\n",
              "      <td>NaN</td>\n",
              "      <td>Add a Plot</td>\n",
              "      <td>Director: Baran bo Odar</td>\n",
              "      <td>NaN</td>\n",
              "      <td>NaN</td>\n",
              "      <td>NaN</td>\n",
              "    </tr>\n",
              "    <tr>\n",
              "      <th>9994</th>\n",
              "      <td>The Imperfects</td>\n",
              "      <td>(2021– )</td>\n",
              "      <td>Adventure, Drama, Fantasy</td>\n",
              "      <td>NaN</td>\n",
              "      <td>Add a Plot</td>\n",
              "      <td>Stars: Morgan Taylor Campbell,  Chris Cope,  Iñaki Godoy,  Rhianna Jagpal</td>\n",
              "      <td>NaN</td>\n",
              "      <td>NaN</td>\n",
              "      <td>NaN</td>\n",
              "    </tr>\n",
              "  </tbody>\n",
              "</table>\n",
              "<p>431 rows × 9 columns</p>\n",
              "</div>\n",
              "    <div class=\"colab-df-buttons\">\n",
              "\n",
              "  <div class=\"colab-df-container\">\n",
              "    <button class=\"colab-df-convert\" onclick=\"convertToInteractive('df-e95135d5-5549-41b6-b11b-8f6f58ec409d')\"\n",
              "            title=\"Convert this dataframe to an interactive table.\"\n",
              "            style=\"display:none;\">\n",
              "\n",
              "  <svg xmlns=\"http://www.w3.org/2000/svg\" height=\"24px\" viewBox=\"0 -960 960 960\">\n",
              "    <path d=\"M120-120v-720h720v720H120Zm60-500h600v-160H180v160Zm220 220h160v-160H400v160Zm0 220h160v-160H400v160ZM180-400h160v-160H180v160Zm440 0h160v-160H620v160ZM180-180h160v-160H180v160Zm440 0h160v-160H620v160Z\"/>\n",
              "  </svg>\n",
              "    </button>\n",
              "\n",
              "  <style>\n",
              "    .colab-df-container {\n",
              "      display:flex;\n",
              "      gap: 12px;\n",
              "    }\n",
              "\n",
              "    .colab-df-convert {\n",
              "      background-color: #E8F0FE;\n",
              "      border: none;\n",
              "      border-radius: 50%;\n",
              "      cursor: pointer;\n",
              "      display: none;\n",
              "      fill: #1967D2;\n",
              "      height: 32px;\n",
              "      padding: 0 0 0 0;\n",
              "      width: 32px;\n",
              "    }\n",
              "\n",
              "    .colab-df-convert:hover {\n",
              "      background-color: #E2EBFA;\n",
              "      box-shadow: 0px 1px 2px rgba(60, 64, 67, 0.3), 0px 1px 3px 1px rgba(60, 64, 67, 0.15);\n",
              "      fill: #174EA6;\n",
              "    }\n",
              "\n",
              "    .colab-df-buttons div {\n",
              "      margin-bottom: 4px;\n",
              "    }\n",
              "\n",
              "    [theme=dark] .colab-df-convert {\n",
              "      background-color: #3B4455;\n",
              "      fill: #D2E3FC;\n",
              "    }\n",
              "\n",
              "    [theme=dark] .colab-df-convert:hover {\n",
              "      background-color: #434B5C;\n",
              "      box-shadow: 0px 1px 3px 1px rgba(0, 0, 0, 0.15);\n",
              "      filter: drop-shadow(0px 1px 2px rgba(0, 0, 0, 0.3));\n",
              "      fill: #FFFFFF;\n",
              "    }\n",
              "  </style>\n",
              "\n",
              "    <script>\n",
              "      const buttonEl =\n",
              "        document.querySelector('#df-e95135d5-5549-41b6-b11b-8f6f58ec409d button.colab-df-convert');\n",
              "      buttonEl.style.display =\n",
              "        google.colab.kernel.accessAllowed ? 'block' : 'none';\n",
              "\n",
              "      async function convertToInteractive(key) {\n",
              "        const element = document.querySelector('#df-e95135d5-5549-41b6-b11b-8f6f58ec409d');\n",
              "        const dataTable =\n",
              "          await google.colab.kernel.invokeFunction('convertToInteractive',\n",
              "                                                    [key], {});\n",
              "        if (!dataTable) return;\n",
              "\n",
              "        const docLinkHtml = 'Like what you see? Visit the ' +\n",
              "          '<a target=\"_blank\" href=https://colab.research.google.com/notebooks/data_table.ipynb>data table notebook</a>'\n",
              "          + ' to learn more about interactive tables.';\n",
              "        element.innerHTML = '';\n",
              "        dataTable['output_type'] = 'display_data';\n",
              "        await google.colab.output.renderOutput(dataTable, element);\n",
              "        const docLink = document.createElement('div');\n",
              "        docLink.innerHTML = docLinkHtml;\n",
              "        element.appendChild(docLink);\n",
              "      }\n",
              "    </script>\n",
              "  </div>\n",
              "\n",
              "\n",
              "<div id=\"df-2913d861-6c16-4ef0-bd13-8b522d8f2881\">\n",
              "  <button class=\"colab-df-quickchart\" onclick=\"quickchart('df-2913d861-6c16-4ef0-bd13-8b522d8f2881')\"\n",
              "            title=\"Suggest charts.\"\n",
              "            style=\"display:none;\">\n",
              "\n",
              "<svg xmlns=\"http://www.w3.org/2000/svg\" height=\"24px\"viewBox=\"0 0 24 24\"\n",
              "     width=\"24px\">\n",
              "    <g>\n",
              "        <path d=\"M19 3H5c-1.1 0-2 .9-2 2v14c0 1.1.9 2 2 2h14c1.1 0 2-.9 2-2V5c0-1.1-.9-2-2-2zM9 17H7v-7h2v7zm4 0h-2V7h2v10zm4 0h-2v-4h2v4z\"/>\n",
              "    </g>\n",
              "</svg>\n",
              "  </button>\n",
              "\n",
              "<style>\n",
              "  .colab-df-quickchart {\n",
              "      --bg-color: #E8F0FE;\n",
              "      --fill-color: #1967D2;\n",
              "      --hover-bg-color: #E2EBFA;\n",
              "      --hover-fill-color: #174EA6;\n",
              "      --disabled-fill-color: #AAA;\n",
              "      --disabled-bg-color: #DDD;\n",
              "  }\n",
              "\n",
              "  [theme=dark] .colab-df-quickchart {\n",
              "      --bg-color: #3B4455;\n",
              "      --fill-color: #D2E3FC;\n",
              "      --hover-bg-color: #434B5C;\n",
              "      --hover-fill-color: #FFFFFF;\n",
              "      --disabled-bg-color: #3B4455;\n",
              "      --disabled-fill-color: #666;\n",
              "  }\n",
              "\n",
              "  .colab-df-quickchart {\n",
              "    background-color: var(--bg-color);\n",
              "    border: none;\n",
              "    border-radius: 50%;\n",
              "    cursor: pointer;\n",
              "    display: none;\n",
              "    fill: var(--fill-color);\n",
              "    height: 32px;\n",
              "    padding: 0;\n",
              "    width: 32px;\n",
              "  }\n",
              "\n",
              "  .colab-df-quickchart:hover {\n",
              "    background-color: var(--hover-bg-color);\n",
              "    box-shadow: 0 1px 2px rgba(60, 64, 67, 0.3), 0 1px 3px 1px rgba(60, 64, 67, 0.15);\n",
              "    fill: var(--button-hover-fill-color);\n",
              "  }\n",
              "\n",
              "  .colab-df-quickchart-complete:disabled,\n",
              "  .colab-df-quickchart-complete:disabled:hover {\n",
              "    background-color: var(--disabled-bg-color);\n",
              "    fill: var(--disabled-fill-color);\n",
              "    box-shadow: none;\n",
              "  }\n",
              "\n",
              "  .colab-df-spinner {\n",
              "    border: 2px solid var(--fill-color);\n",
              "    border-color: transparent;\n",
              "    border-bottom-color: var(--fill-color);\n",
              "    animation:\n",
              "      spin 1s steps(1) infinite;\n",
              "  }\n",
              "\n",
              "  @keyframes spin {\n",
              "    0% {\n",
              "      border-color: transparent;\n",
              "      border-bottom-color: var(--fill-color);\n",
              "      border-left-color: var(--fill-color);\n",
              "    }\n",
              "    20% {\n",
              "      border-color: transparent;\n",
              "      border-left-color: var(--fill-color);\n",
              "      border-top-color: var(--fill-color);\n",
              "    }\n",
              "    30% {\n",
              "      border-color: transparent;\n",
              "      border-left-color: var(--fill-color);\n",
              "      border-top-color: var(--fill-color);\n",
              "      border-right-color: var(--fill-color);\n",
              "    }\n",
              "    40% {\n",
              "      border-color: transparent;\n",
              "      border-right-color: var(--fill-color);\n",
              "      border-top-color: var(--fill-color);\n",
              "    }\n",
              "    60% {\n",
              "      border-color: transparent;\n",
              "      border-right-color: var(--fill-color);\n",
              "    }\n",
              "    80% {\n",
              "      border-color: transparent;\n",
              "      border-right-color: var(--fill-color);\n",
              "      border-bottom-color: var(--fill-color);\n",
              "    }\n",
              "    90% {\n",
              "      border-color: transparent;\n",
              "      border-bottom-color: var(--fill-color);\n",
              "    }\n",
              "  }\n",
              "</style>\n",
              "\n",
              "  <script>\n",
              "    async function quickchart(key) {\n",
              "      const quickchartButtonEl =\n",
              "        document.querySelector('#' + key + ' button');\n",
              "      quickchartButtonEl.disabled = true;  // To prevent multiple clicks.\n",
              "      quickchartButtonEl.classList.add('colab-df-spinner');\n",
              "      try {\n",
              "        const charts = await google.colab.kernel.invokeFunction(\n",
              "            'suggestCharts', [key], {});\n",
              "      } catch (error) {\n",
              "        console.error('Error during call to suggestCharts:', error);\n",
              "      }\n",
              "      quickchartButtonEl.classList.remove('colab-df-spinner');\n",
              "      quickchartButtonEl.classList.add('colab-df-quickchart-complete');\n",
              "    }\n",
              "    (() => {\n",
              "      let quickchartButtonEl =\n",
              "        document.querySelector('#df-2913d861-6c16-4ef0-bd13-8b522d8f2881 button');\n",
              "      quickchartButtonEl.style.display =\n",
              "        google.colab.kernel.accessAllowed ? 'block' : 'none';\n",
              "    })();\n",
              "  </script>\n",
              "</div>\n",
              "    </div>\n",
              "  </div>\n"
            ]
          },
          "metadata": {},
          "execution_count": 502
        }
      ]
    },
    {
      "cell_type": "markdown",
      "source": [
        "I will drop all duplicates;"
      ],
      "metadata": {
        "id": "BSu_OMMkc4Pc"
      }
    },
    {
      "cell_type": "code",
      "source": [
        "# Drop duplicate rows\n",
        "movies = movies.drop_duplicates()"
      ],
      "metadata": {
        "id": "8jbgA-kPc3xt"
      },
      "execution_count": 503,
      "outputs": []
    },
    {
      "cell_type": "code",
      "source": [
        "# Print the count of duplicate rows\n",
        "print(f\"Number of duplicate rows in the 'movies' dataset: {movies.duplicated().sum()}\")"
      ],
      "metadata": {
        "colab": {
          "base_uri": "https://localhost:8080/"
        },
        "id": "WzJjW83RdEPT",
        "outputId": "c693b377-ddb9-4902-c483-91a7fe7f67f0"
      },
      "execution_count": 504,
      "outputs": [
        {
          "output_type": "stream",
          "name": "stdout",
          "text": [
            "Number of duplicate rows in the 'movies' dataset: 0\n"
          ]
        }
      ]
    },
    {
      "cell_type": "markdown",
      "source": [
        "Ok, I will love to work on each column one after the other\n"
      ],
      "metadata": {
        "id": "fGLHdtFebP2S"
      }
    },
    {
      "cell_type": "code",
      "source": [
        "movies.MOVIES.value_counts"
      ],
      "metadata": {
        "colab": {
          "base_uri": "https://localhost:8080/"
        },
        "id": "euPaEqJjbZsQ",
        "outputId": "40048d7b-eb54-4549-ef3e-064a8030f877"
      },
      "execution_count": 505,
      "outputs": [
        {
          "output_type": "execute_result",
          "data": {
            "text/plain": [
              "<bound method IndexOpsMixin.value_counts of 0                             Blood Red Sky\n",
              "1       Masters of the Universe: Revelation\n",
              "2                          The Walking Dead\n",
              "3                            Rick and Morty\n",
              "4                           Army of Thieves\n",
              "                       ...                 \n",
              "9993                              Totenfrau\n",
              "9995                                 Arcane\n",
              "9996                      Heart of Invictus\n",
              "9997                         The Imperfects\n",
              "9998                         The Imperfects\n",
              "Name: MOVIES, Length: 9568, dtype: object>"
            ]
          },
          "metadata": {},
          "execution_count": 505
        }
      ]
    },
    {
      "cell_type": "markdown",
      "source": [
        "### `MOVIES`"
      ],
      "metadata": {
        "id": "MqnYxqNxfQ8e"
      }
    },
    {
      "cell_type": "code",
      "source": [
        "# Tokenize movie titles (split into individual words)\n",
        "movie_titles = movies['MOVIES'].str.split()\n",
        "\n",
        "# Flatten the list of tokens\n",
        "tokens = [word for sublist in movie_titles for word in sublist]\n",
        "\n",
        "# Count the frequency of each word\n",
        "word_counts = Counter(tokens)\n",
        "\n",
        "# Convert the word counts to a DataFrame for easier manipulation\n",
        "word_counts_df = pd.DataFrame.from_dict(word_counts, orient='index', columns=['Count'])\n",
        "\n",
        "# Sort the words by count in descending order\n",
        "word_counts_df = word_counts_df.sort_values(by='Count', ascending=False)\n",
        "\n",
        "# Plot the top N words (e.g., top 20)\n",
        "top_N = 20\n",
        "word_counts_df.head(top_N).plot(kind='bar', figsize=(12, 6))\n",
        "plt.title(f\"Top {top_N} Most Common Words in Movie Titles\")\n",
        "plt.xlabel(\"Words\")\n",
        "plt.ylabel(\"Count\")\n",
        "plt.xticks(rotation=45)\n",
        "plt.show()\n"
      ],
      "metadata": {
        "colab": {
          "base_uri": "https://localhost:8080/",
          "height": 462
        },
        "id": "Ix6Mjy3pfPW8",
        "outputId": "7acc04e8-99c7-4ba5-b3a9-c9b3742f78df"
      },
      "execution_count": 506,
      "outputs": [
        {
          "output_type": "display_data",
          "data": {
            "text/plain": [
              "<Figure size 1200x600 with 1 Axes>"
            ],
            "image/png": "[encoded data removed]"
          },
          "metadata": {}
        }
      ]
    },
    {
      "cell_type": "markdown",
      "source": [
        "I want to see other symbols that are in the column that are not to be there:"
      ],
      "metadata": {
        "id": "OwKHrE9viaxO"
      }
    },
    {
      "cell_type": "code",
      "source": [
        "# Define a regular expression pattern to match symbols you want to exclude\n",
        "# For example, to exclude '#' and any non-alphanumeric characters, you can use:\n",
        "exclude_pattern = r'([^a-zA-Z0-9\\s]+)'\n",
        "\n",
        "# Apply the regular expression pattern to the 'MOVIES' column\n",
        "matches = movies['MOVIES'].str.extractall(exclude_pattern)\n",
        "\n",
        "# Get unique symbols from the matches\n",
        "symbols_to_exclude = matches[0].unique()\n",
        "\n",
        "# Print the list of symbols to exclude\n",
        "print(\"Symbols that shouldn't be in movie titles:\")\n",
        "for symbol in symbols_to_exclude:\n",
        "    print(symbol)"
      ],
      "metadata": {
        "colab": {
          "base_uri": "https://localhost:8080/"
        },
        "id": "I2uJdK7hg3zj",
        "outputId": "88e34d8c-11e4-4c75-9119-febe626c233b"
      },
      "execution_count": 507,
      "outputs": [
        {
          "output_type": "stream",
          "name": "stdout",
          "text": [
            "Symbols that shouldn't be in movie titles:\n",
            ":\n",
            "/\n",
            "'\n",
            "-\n",
            "(\n",
            ")\n",
            "É\n",
            "î\n",
            "ô\n",
            ".\n",
            ",\n",
            "&\n",
            ".'\n",
            "û\n",
            "é\n",
            "!\n",
            "***\n",
            "è\n",
            "!!\n",
            "¿\n",
            "ó\n",
            "?\n",
            "â\n",
            ";\n",
            "Ó\n",
            "æ\n",
            "ð\n",
            "ç\n",
            "#\n",
            "~\n",
            "%\n",
            "ô-\n",
            "...\n",
            "**\n",
            "----\n",
            "ê\n",
            "í\n",
            "ñ\n",
            "È\n",
            "ö\n",
            "à\n",
            "!!!\n",
            "á\n",
            "ô:\n",
            "ë\n",
            ".:\n",
            "²\n",
            "ø\n",
            "_\n",
            "ù\n",
            "Â\n",
            "Ô\n",
            "+\n",
            "ú\n",
            "ä\n",
            "ü\n",
            "ü?\n",
            "ï\n",
            "å\n",
            ">\n",
            "[\n",
            "]\n",
            "ã\n",
            "Ò\n",
            "ò\n",
            "û:\n",
            "Á\n",
            "Ö\n",
            "·\n",
            "Ç\n",
            "?!\n",
            "üçü\n",
            "Ü\n",
            "çõ\n",
            "ª\n",
            "ñí\n",
            "¡\n",
            "çã\n",
            "*\n",
            "\"\n",
            "@\n",
            "=\n",
            "..\n",
            "******\n",
            "À\n",
            "!:\n",
            "ú:\n",
            "é,\n",
            "é!:\n",
            "..?\n",
            "Í\n",
            "²:\n",
            "Å\n",
            "..!\n"
          ]
        }
      ]
    },
    {
      "cell_type": "markdown",
      "source": [
        "we can see they are so many and its obvious they shouldnt be there:"
      ],
      "metadata": {
        "id": "PG31QDsqimqW"
      }
    },
    {
      "cell_type": "code",
      "source": [
        "symbols_to_exclude"
      ],
      "metadata": {
        "colab": {
          "base_uri": "https://localhost:8080/"
        },
        "id": "NJlaJKOJhM_p",
        "outputId": "123ba2f2-023e-4b09-9c17-4141083fe286"
      },
      "execution_count": 508,
      "outputs": [
        {
          "output_type": "execute_result",
          "data": {
            "text/plain": [
              "array([':', '/', \"'\", '-', '(', ')', 'É', 'î', 'ô', '.', ',', '&', \".'\",\n",
              "       'û', 'é', '!', '***', 'è', '!!', '¿', 'ó', '?', 'â', ';', 'Ó', 'æ',\n",
              "       'ð', 'ç', '#', '~', '%', 'ô-', '...', '**', '----', 'ê', 'í', 'ñ',\n",
              "       'È', 'ö', 'à', '!!!', 'á', 'ô:', 'ë', '.:', '²', 'ø', '_', 'ù',\n",
              "       'Â', 'Ô', '+', 'ú', 'ä', 'ü', 'ü?', 'ï', 'å', '>', '[', ']', 'ã',\n",
              "       'Ò', 'ò', 'û:', 'Á', 'Ö', '·', 'Ç', '?!', 'üçü', 'Ü', 'çõ', 'ª',\n",
              "       'ñí', '¡', 'çã', '*', '\"', '@', '=', '..', '******', 'À', '!:',\n",
              "       'ú:', 'é,', 'é!:', '..?', 'Í', '²:', 'Å', '..!'], dtype=object)"
            ]
          },
          "metadata": {},
          "execution_count": 508
        }
      ]
    },
    {
      "cell_type": "code",
      "source": [
        "# Define the list of symbols to remove\n",
        "symbols_to_remove = symbols_to_exclude.tolist()\n",
        "\n",
        "# Escape special characters in the symbols\n",
        "symbols_to_remove_escaped = [re.escape(symbol) for symbol in symbols_to_remove]\n",
        "\n",
        "# Remove symbols from the 'MOVIES' column\n",
        "for symbol in symbols_to_remove_escaped:\n",
        "    movies['MOVIES'] = movies['MOVIES'].str.replace(symbol, '')"
      ],
      "metadata": {
        "id": "PM6ZmE2rhs8k"
      },
      "execution_count": 509,
      "outputs": []
    },
    {
      "cell_type": "markdown",
      "source": [
        "## `YEAR`"
      ],
      "metadata": {
        "id": "sia16s-bjCPE"
      }
    },
    {
      "cell_type": "code",
      "source": [
        "movies.YEAR.value_counts"
      ],
      "metadata": {
        "colab": {
          "base_uri": "https://localhost:8080/"
        },
        "id": "iGvCUSVqjGat",
        "outputId": "ef3e2567-9061-4fb3-f045-3832cb6f7710"
      },
      "execution_count": 510,
      "outputs": [
        {
          "output_type": "execute_result",
          "data": {
            "text/plain": [
              "<bound method IndexOpsMixin.value_counts of 0            (2021)\n",
              "1          (2021– )\n",
              "2       (2010–2022)\n",
              "3          (2013– )\n",
              "4            (2021)\n",
              "           ...     \n",
              "9993       (2022– )\n",
              "9995       (2021– )\n",
              "9996       (2022– )\n",
              "9997       (2021– )\n",
              "9998       (2021– )\n",
              "Name: YEAR, Length: 9568, dtype: object>"
            ]
          },
          "metadata": {},
          "execution_count": 510
        }
      ]
    },
    {
      "cell_type": "code",
      "source": [
        "\n",
        "# Extract valid years and convert them to a consistent format\n",
        "movies['YEAR'] = movies['YEAR'].str.extract(r'(\\d{4})', expand=False)\n",
        "\n",
        "# Convert the 'YEAR' column to numeric, treating invalid values as NaN\n",
        "movies['YEAR'] = pd.to_numeric(movies['YEAR'], errors='coerce')\n",
        "\n",
        "# Change the 'YEAR' column data type to object (string)\n",
        "movies['YEAR'] = movies['YEAR'].astype(str)\n",
        "\n"
      ],
      "metadata": {
        "id": "TvJdSagLkCxw"
      },
      "execution_count": 511,
      "outputs": []
    },
    {
      "cell_type": "code",
      "source": [
        "movies.YEAR.dtype"
      ],
      "metadata": {
        "colab": {
          "base_uri": "https://localhost:8080/"
        },
        "id": "gQ90DonckPSw",
        "outputId": "5c7325e5-c904-4fd9-b506-9f3740a1604b"
      },
      "execution_count": 512,
      "outputs": [
        {
          "output_type": "execute_result",
          "data": {
            "text/plain": [
              "dtype('O')"
            ]
          },
          "metadata": {},
          "execution_count": 512
        }
      ]
    },
    {
      "cell_type": "markdown",
      "source": [
        "## `GENRE`"
      ],
      "metadata": {
        "id": "i5lYylhzl_MR"
      }
    },
    {
      "cell_type": "code",
      "source": [
        "movies.GENRE"
      ],
      "metadata": {
        "colab": {
          "base_uri": "https://localhost:8080/"
        },
        "id": "DVexz2FgneEO",
        "outputId": "02170bfc-f91b-428d-810b-263d08c0aca0"
      },
      "execution_count": 513,
      "outputs": [
        {
          "output_type": "execute_result",
          "data": {
            "text/plain": [
              "0            Action, Horror, Thriller            \n",
              "1        Animation, Action, Adventure            \n",
              "2             Drama, Horror, Thriller            \n",
              "3        Animation, Adventure, Comedy            \n",
              "4               Action, Crime, Horror            \n",
              "                          ...                    \n",
              "9993                  Drama, Thriller            \n",
              "9995     Animation, Action, Adventure            \n",
              "9996               Documentary, Sport            \n",
              "9997        Adventure, Drama, Fantasy            \n",
              "9998        Adventure, Drama, Fantasy            \n",
              "Name: GENRE, Length: 9568, dtype: object"
            ]
          },
          "metadata": {},
          "execution_count": 513
        }
      ]
    },
    {
      "cell_type": "code",
      "source": [
        "# Clean and normalize the 'GENRE' column\n",
        "movies['GENRE'] = movies['GENRE'].str.strip()  # Remove leading/trailing spaces\n",
        "movies['GENRE'] = movies['GENRE'].str.lower()  # Convert to lowercase\n",
        "\n",
        "# Split the comma-separated genres and create a list of all genres\n",
        "genre_lists = movies['GENRE'].str.split(', ')\n",
        "\n",
        "# Flatten the list of genres\n",
        "all_genres = [genre for sublist in genre_lists.dropna() for genre in sublist]\n",
        "\n",
        "# Count the frequency of each genre\n",
        "genre_counts = pd.Series(all_genres).value_counts()\n",
        "\n",
        "# Print the top 10 most common genres\n",
        "print(\"Top 10 Most Common Genres (Cleaned and Normalized):\")\n",
        "print(genre_counts.head(10))"
      ],
      "metadata": {
        "colab": {
          "base_uri": "https://localhost:8080/"
        },
        "id": "v15z_1bTmp5q",
        "outputId": "e6fd6152-4fb7-4dc4-c41b-225efcb865b0"
      },
      "execution_count": 514,
      "outputs": [
        {
          "output_type": "stream",
          "name": "stdout",
          "text": [
            "Top 10 Most Common Genres (Cleaned and Normalized):\n",
            "drama          4115\n",
            "comedy         2736\n",
            "action         2110\n",
            "adventure      1588\n",
            "animation      1584\n",
            "crime          1519\n",
            "documentary    1221\n",
            "thriller        895\n",
            "mystery         840\n",
            "romance         835\n",
            "dtype: int64\n"
          ]
        }
      ]
    },
    {
      "cell_type": "code",
      "source": [
        "movies.GENRE"
      ],
      "metadata": {
        "colab": {
          "base_uri": "https://localhost:8080/"
        },
        "id": "ylx-EC6ykrgT",
        "outputId": "87abb00f-b386-49a9-83b9-04f888693784"
      },
      "execution_count": 515,
      "outputs": [
        {
          "output_type": "execute_result",
          "data": {
            "text/plain": [
              "0           action, horror, thriller\n",
              "1       animation, action, adventure\n",
              "2            drama, horror, thriller\n",
              "3       animation, adventure, comedy\n",
              "4              action, crime, horror\n",
              "                    ...             \n",
              "9993                 drama, thriller\n",
              "9995    animation, action, adventure\n",
              "9996              documentary, sport\n",
              "9997       adventure, drama, fantasy\n",
              "9998       adventure, drama, fantasy\n",
              "Name: GENRE, Length: 9568, dtype: object"
            ]
          },
          "metadata": {},
          "execution_count": 515
        }
      ]
    },
    {
      "cell_type": "markdown",
      "source": [
        "Are there nulls in this column?"
      ],
      "metadata": {
        "id": "Myshh7tMoFRR"
      }
    },
    {
      "cell_type": "code",
      "source": [
        "# Check for null values in the 'GENRE' column\n",
        "null_count = movies['GENRE'].isnull().sum()\n",
        "\n",
        "# Print the number of null values\n",
        "print(f\"Number of null values in the 'GENRE' column: {null_count}\")"
      ],
      "metadata": {
        "colab": {
          "base_uri": "https://localhost:8080/"
        },
        "id": "son_BYAcn7qD",
        "outputId": "d3c969c2-d9f1-4484-a0c2-b8e7d973e38b"
      },
      "execution_count": 516,
      "outputs": [
        {
          "output_type": "stream",
          "name": "stdout",
          "text": [
            "Number of null values in the 'GENRE' column: 78\n"
          ]
        }
      ]
    },
    {
      "cell_type": "code",
      "source": [
        "# Remove rows with null values in the 'GENRE' column\n",
        "movies = movies.dropna(subset=['GENRE'])"
      ],
      "metadata": {
        "id": "diR7QZfIogl_"
      },
      "execution_count": 517,
      "outputs": []
    },
    {
      "cell_type": "markdown",
      "source": [
        "## `RATING`"
      ],
      "metadata": {
        "id": "9Jqvnj5lpJfV"
      }
    },
    {
      "cell_type": "markdown",
      "source": [
        "Let me see if there are rows with values more than 10"
      ],
      "metadata": {
        "id": "0PbxlMOEqY6I"
      }
    },
    {
      "cell_type": "code",
      "source": [
        "\n",
        "# Filter rows with 'RATING' values greater than 10\n",
        "rows_with_ratings_above_10 = movies[movies['RATING'] > 10]\n",
        "\n",
        "# Check if there are any such rows\n",
        "if not rows_with_ratings_above_10.empty:\n",
        "    print(\"Rows with 'RATING' values greater than 10:\")\n",
        "    print(rows_with_ratings_above_10)\n",
        "else:\n",
        "    print(\"No rows with 'RATING' values greater than 10 found.\")\n"
      ],
      "metadata": {
        "colab": {
          "base_uri": "https://localhost:8080/"
        },
        "id": "KyKIalOoqgHK",
        "outputId": "76e4e7e3-3a6c-4a09-a6b5-9168e0728fad"
      },
      "execution_count": 518,
      "outputs": [
        {
          "output_type": "stream",
          "name": "stdout",
          "text": [
            "No rows with 'RATING' values greater than 10 found.\n"
          ]
        }
      ]
    },
    {
      "cell_type": "markdown",
      "source": [
        "Ok, thats cool, I will fill the `NaN` with 0"
      ],
      "metadata": {
        "id": "fi5WFZIUqjnF"
      }
    },
    {
      "cell_type": "code",
      "source": [
        "# # Calculate the mean rating (rounded to one decimal point)\n",
        "# mean_rating = round(movies['RATING'].mean(), 1)\n",
        "\n",
        "# Fill NaN values in the 'RATING' column with the mean\n",
        "movies['RATING'].fillna(0, inplace=True)"
      ],
      "metadata": {
        "id": "Bir7dVf0rDRQ"
      },
      "execution_count": 519,
      "outputs": []
    },
    {
      "cell_type": "code",
      "source": [
        "movies.RATING"
      ],
      "metadata": {
        "colab": {
          "base_uri": "https://localhost:8080/"
        },
        "id": "2QsYY1hfpapN",
        "outputId": "1134de56-5808-4259-ec18-5f77252bf9a6"
      },
      "execution_count": 520,
      "outputs": [
        {
          "output_type": "execute_result",
          "data": {
            "text/plain": [
              "0       6.1\n",
              "1       5.0\n",
              "2       8.2\n",
              "3       9.2\n",
              "4       0.0\n",
              "       ... \n",
              "9993    0.0\n",
              "9995    0.0\n",
              "9996    0.0\n",
              "9997    0.0\n",
              "9998    0.0\n",
              "Name: RATING, Length: 9490, dtype: float64"
            ]
          },
          "metadata": {},
          "execution_count": 520
        }
      ]
    },
    {
      "cell_type": "markdown",
      "source": [
        "## `ONE-LINE`"
      ],
      "metadata": {
        "id": "lGgqrG2HrySF"
      }
    },
    {
      "cell_type": "markdown",
      "source": [
        "First I will change this to `DESCRIPTION`"
      ],
      "metadata": {
        "id": "aOX9Jxf3r2qJ"
      }
    },
    {
      "cell_type": "code",
      "source": [
        "# Rename the 'ONE-LINE' column to 'SUMMARY'\n",
        "movies.rename(columns={'ONE-LINE': 'DESCRIPTION'}, inplace=True)"
      ],
      "metadata": {
        "id": "0LTYuYtVsMMA"
      },
      "execution_count": 521,
      "outputs": []
    },
    {
      "cell_type": "code",
      "source": [
        "movies.DESCRIPTION"
      ],
      "metadata": {
        "colab": {
          "base_uri": "https://localhost:8080/"
        },
        "id": "GG4JipE8sMI-",
        "outputId": "54707e7c-690d-42c9-80d2-51f0e963b80d"
      },
      "execution_count": 522,
      "outputs": [
        {
          "output_type": "execute_result",
          "data": {
            "text/plain": [
              "0                                                                                     A woman with a mysterious illness is forced into action when a group of terrorists attempt to hijack a transatlantic overnight flight.\n",
              "1                                                                      The war for Eternia begins again in what may be the final battle between He-Man and Skeletor. A new animated series from writer-director Kevin Smith.\n",
              "2                                                                                           Sheriff Deputy Rick Grimes wakes up from a coma to learn the world is in ruins and must lead a group of survivors to stay alive.\n",
              "3                                                                                                                          An animated series that follows the exploits of a super scientist and his not-so-bright grandson.\n",
              "4        A prequel, set before the events of Army of the Dead, which focuses on German safecracker Ludwig Dieter leading a group of aspiring thieves on a top secret heist during the early stages of the zombie apocalypse.\n",
              "                                                                                                                ...                                                                                                         \n",
              "9993                                                                                                                                                                                                             Add a Plot \n",
              "9995                                                                                                                                                                                                             Add a Plot \n",
              "9996                                                                                                                                                                                                             Add a Plot \n",
              "9997                                                                                                                                                                                                             Add a Plot \n",
              "9998                                                                                                                                                                                                             Add a Plot \n",
              "Name: DESCRIPTION, Length: 9490, dtype: object"
            ]
          },
          "metadata": {},
          "execution_count": 522
        }
      ]
    },
    {
      "cell_type": "markdown",
      "source": [
        "We can see there are lots of rows with 'Add a Plot' I will change that too to 'No Description Avalaible'"
      ],
      "metadata": {
        "id": "-819upLKsuus"
      }
    },
    {
      "cell_type": "code",
      "source": [
        "\n",
        "# Replace \"Add a Plot\" with \"No Description Available\" in the 'SUMMARY' column\n",
        "movies['DESCRIPTION'] = movies['DESCRIPTION'].str.replace('Add a Plot', 'No Description Available')"
      ],
      "metadata": {
        "id": "CV7Qx0Xcs-G0"
      },
      "execution_count": 523,
      "outputs": []
    },
    {
      "cell_type": "markdown",
      "source": [
        "## `STARS`"
      ],
      "metadata": {
        "id": "89Cc7axVv3U8"
      }
    },
    {
      "cell_type": "code",
      "source": [
        "\n",
        "# Set the Pandas option to display more text in columns\n",
        "pd.set_option('display.max_colwidth', None)\n",
        "\n",
        "\n",
        "# Display the 'STARS' column with full text\n",
        "print(movies['STARS'].sample(50))\n"
      ],
      "metadata": {
        "id": "pU-AGg9Qv7CE",
        "outputId": "7c00f0e9-b80f-43fc-c1e5-296fa52b21ac",
        "colab": {
          "base_uri": "https://localhost:8080/"
        }
      },
      "execution_count": 524,
      "outputs": [
        {
          "output_type": "stream",
          "name": "stdout",
          "text": [
            "1700                                                 Director: Trivikram Srinivas |      Stars: Allu Arjun,  Pooja Hegde,  Tabu,  Jayaram \n",
            "2541                                Director: Marcus Dunstan |      Stars: Josh Stewart,  Bill Engvall,  Alex Essoe,  Ronnie Gene Blevins \n",
            "8310                                   Director: Mathieu Demy |      Stars: Elisabeth Shue,  Giovanni Ribisi,  Julie Delpy,  Rob Benedict \n",
            "3487                                                        Stars: Loren Coleman,  Dallas Santana,  Jessica Lynch Alfaro,  Craig Stanford \n",
            "948                                                         Stars: Katharine McPhee,  Eddie Cibrian,  Ricardo Hurtado,  Jamie Martin Mann \n",
            "7809                                                               Director: Adam Franklin |      Stars: Justin Willman,  Mercedes Garcia \n",
            "5116                                                                                                                                      \n",
            "3911                                                                  Stars: Moo-Seong Choi,  Yoon Da Young,  Kim Sang Ho,  Seo Jae Hyung \n",
            "145                                          Director: Mary Harron |      Stars: Christian Bale,  Justin Theroux,  Josh Lucas,  Bill Sage \n",
            "3150                        Director: Enzo Monteleone |      Stars: Daniele Liotti,  Benjamin Sadler,  Vincenzo Ferrera,  Marina Crialesi \n",
            "4358                                                                                                        Director: Jordan Vogt-Roberts \n",
            "5035                                Director: Bruno Corbucci |      Stars: Tomas Milian,  David Hemmings,  Anna Cardini,  Alberto Farnese \n",
            "605                                   Director: Ana Lily Amirpour |      Stars: Suki Waterhouse,  Jason Momoa,  Jayda Fink,  Keanu Reeves \n",
            "2942                             Director: Salvador Calvo |      Stars: Luis Tosar,  Javier Gutiérrez,  Álvaro Cervantes,  Karra Elejalde \n",
            "1917                                                                 Stars: Abby Bergman,  Anna Cooke,  Aston Droomer,  Jamil Smyth-Secka \n",
            "7698                                      Director: Paul Fox |      Stars: Amybeth McNulty,  Geraldine James,  R.H. Thomson,  Dalila Bela \n",
            "3410                                                              Stars: Ryôhei Arai,  Azusa Tadokoro,  Amber Lee Connors,  Micah Solusod \n",
            "8546                                                                Director: Ryan Polito |      Stars: Thomas Middleditch,  Ben Schwartz \n",
            "6680                                                                                         Director: Ben Simms |      Star: Bear Grylls \n",
            "6750                                   Director: Mathias Herndl |      Stars: Alba Baptista,  Toya Turner,  Thekla Reuten,  Lorena Andrea \n",
            "3416                                     Directors: Beyoncé,  Ed Burke |      Stars: Beyoncé,  Joe Brown,  Marvin Brown,  Nirine S. Brown \n",
            "534                                                               Stars: Louis Hunter,  Christiaan Schoombie,  Bella Dayne,  Chloe Pirrie \n",
            "4081                                                                 Director: Matthew Killip |      Stars: John Shepherd,  John Litrenta \n",
            "175                           Director: Seth Gordon |      Stars: Dwayne Johnson,  Zac Efron,  Alexandra Daddario,  Priyanka Chopra Jonas \n",
            "8189                                                                      Stars: Alexa Chung,  Tan France,  Marco Morante,  Prasad Romijn \n",
            "4912                                                                                                   Stars: Patton Oswalt,  Boots Riley \n",
            "84                                                               Stars: Amber Marshall,  Shaun Johnston,  Michelle Morgan,  Graham Wardle \n",
            "4794                                                                                     Director: Liz Plonka |      Star: Norm MacDonald \n",
            "4691                              Director: Dennis Gansel |      Stars: Moritz Bleibtreu,  Kasia Smutniak,  Max Riemelt,  Rade Serbedzija \n",
            "2386                                                              Stars: Miguel Bernardeau,  Claudia Salas,  Georgina Amorós,  Quim Ramos \n",
            "1625                                                                   Stars: Rashida Jones,  Kenya Barris,  Iman Benson,  Genneya Walton \n",
            "440                                 Director: Robert Zemeckis |      Stars: Jodie Foster,  Matthew McConaughey,  Tom Skerritt,  John Hurt \n",
            "3908                                                                                                                Director: Andy Serkis \n",
            "3611                                                                       Stars: Viv Leacock,  Lee Tockar,  Vincent Tong,  Kathleen Barr \n",
            "8703               Director: Oliver Driver |      Stars: Rorrie D. Travis,  Jasmeet Baduwalia,  Jacqueline Scislowski,  Abraham Rodriguez \n",
            "7896                      Director: Hiromi Kamata |      Stars: Christian Serratos,  Gabriel Chavarria,  Ricardo Chavira,  Noemi Gonzalez \n",
            "6947                            Director: Jocelyn Moorhouse |      Stars: Yvonne Strahovski,  Jai Courtney,  Asher Keddie,  Fayssal Bazzi \n",
            "1856                            Director: Ava DuVernay |      Stars: Melina Abdullah,  Michelle Alexander,  Cory Booker,  Dolores Canales \n",
            "3045                                                                   Stars: Kwang-Soo Lee,  Dae-Myung Kim,  Jung So-Min,  Kim Byeong-Ok \n",
            "838                                                                                Stars: Seo Jun Park,  Kim Da-Mi,  Yoo Jae-Myung,  Nara \n",
            "2411                                                                    Stars: Monica Aldama,  Lexi Brumback,  Gabi Butler,  Jerry Harris \n",
            "3236         Directors: Hiroyuki Seshita,  Kôbun Shizuno |      Stars: Mamoru Miyano,  Takahiro Sakurai,  Kana Hanazawa,  Tomokazu Sugita \n",
            "9726                                                            Stars: Kimiko Glenn,  Megan Hilty,  Parvesh Cheena,  Chris Diamantopoulos \n",
            "7807                                                              Stars: Natasha Lyonne,  Lauren Benton,  Justin Dunnavant,  Peter Leeson \n",
            "4351                             Director: Justin Le Pera |      Stars: Ryan Phillippe,  Travis Potter,  Jenny Useldinger,  Andrew Mooney \n",
            "7832                Director: Geoffrey Wing Shotz |      Stars: Elizabeth Gillies,  Daniella Alonso,  Rafael de la Fuente,  Sam Underwood \n",
            "7581                              Director: Tamra Davis |      Stars: Christina Applegate,  Linda Cardellini,  Max Jenkins,  Sam McCarthy \n",
            "9893                            Director: Brian Kirk |      Stars: Michael C. Hall,  Julie Benz,  Jennifer Carpenter,  Desmond Harrington \n",
            "1776                                                  Stars: Tobias Santelmann,  Ellen Dorrit Petersen,  Benjamin Helstad,  Eivind Sander \n",
            "1601                                                                   Stars: Matt Taibbi,  Alex Gibney,  Anabel Hernández,  Fahmi Quadir \n",
            "Name: STARS, dtype: object\n"
          ]
        }
      ]
    },
    {
      "cell_type": "markdown",
      "source": [
        "So, we can see that there are Stars and Director, I will remove Director since the column is named stars:"
      ],
      "metadata": {
        "id": "u51R2pYixVye"
      }
    },
    {
      "cell_type": "code",
      "source": [
        "# Extract stars' names from the 'STARS' column (ignoring directors)\n",
        "movies['STARS'] = movies['STARS'].str.replace('Director:', '')  # Remove \"Director:\" if present\n",
        "movies['STARS'] = movies['STARS'].str.strip()  # Remove leading/trailing whitespace\n",
        "movies['STARS'] = movies['STARS'].str.split('|').str[1].str.strip()  # Extract stars' names"
      ],
      "metadata": {
        "id": "-GcyJY1oxoKO"
      },
      "execution_count": 525,
      "outputs": []
    },
    {
      "cell_type": "code",
      "source": [
        "# Remove \"Stars: \" prefix from all rows in the 'STARS' column\n",
        "movies['STARS'] = movies['STARS'].str.replace('Stars: ', '', case=False)"
      ],
      "metadata": {
        "id": "d9izYpk_zPDa"
      },
      "execution_count": 526,
      "outputs": []
    },
    {
      "cell_type": "code",
      "source": [
        "# Fill NaN values in the 'STARS' column with 'Stars Names not Available'\n",
        "movies['STARS'].fillna('Stars Names not Available', inplace=True)"
      ],
      "metadata": {
        "id": "kC9mjwtZzvci"
      },
      "execution_count": 527,
      "outputs": []
    },
    {
      "cell_type": "code",
      "source": [
        "\n",
        "# Set the Pandas option to display more text in columns\n",
        "pd.set_option('display.max_colwidth', None)\n",
        "\n",
        "\n",
        "# Display the 'STARS' column with full text\n",
        "print(movies['STARS'].sample(50))\n"
      ],
      "metadata": {
        "colab": {
          "base_uri": "https://localhost:8080/"
        },
        "id": "v01zuObFYTJZ",
        "outputId": "38df9526-27f7-4d3b-ef2a-8c790215f922"
      },
      "execution_count": 528,
      "outputs": [
        {
          "output_type": "stream",
          "name": "stdout",
          "text": [
            "1012                       Richard Pryor,  Gene Wilder,  Joan Severance,  Kevin Spacey\n",
            "3191                                                         Stars Names not Available\n",
            "4542                                                         Stars Names not Available\n",
            "9449                                                         Stars Names not Available\n",
            "3466                                                         Stars Names not Available\n",
            "4914       Ted Olson,  Christopher D. Dusseault,  Jeffrey J. Zarrillo,  Paul T. Katami\n",
            "3105                                                         Stars Names not Available\n",
            "4375               Cam Gigandet,  Teri Reeves,  Benjamin Charles Watson,  Sherri Eakin\n",
            "4764                                                                   Star: Ron White\n",
            "2960              Kartik Aaryan,  Omkar Kapoor,  Sunny Singh Nijjar,  Nushrat Bharucha\n",
            "3285                          Selma Blair,  Joshua Close,  James D'Arcy,  Rachel Miner\n",
            "5318                              Joe Cocker,  Phil Crookes,  Vic Cocker,  Ray Charles\n",
            "1995                                                             Star: Misha Defonseca\n",
            "3554                                   Sanjay Dutt,  Sridevi,  Anupam Kher,  Rahul Roy\n",
            "3253                  Barbara Sloesen,  Jan Kooijman,  Jelle de Jong,  Sanne Langelaar\n",
            "4882      Valentina Lodovini,  Alessandro Preziosi,  Vinicio Marchioni,  Eva Riccobono\n",
            "4263            Andrea Santamaria,  India Coenen,  Saïd Amadis,  Marie-Christine Darah\n",
            "7739                       Carl Malapa,  Némo Schiffman,  Manon Bresch,  Corentin Fila\n",
            "7274    Maddie Phillips,  Anjelica Bette Fellini,  Kadeem Hardison,  Virginia Williams\n",
            "5599                   Mx Justin Vivian Bond,  John Cale,  Judy Collins,  Alice Cooper\n",
            "4389                 Oscar Martínez,  Dolores Fonzi,  Diego Velázquez,  Paulina García\n",
            "4118                                                       Brian Regan,  Elliot Schiff\n",
            "5091                                                         Stars Names not Available\n",
            "2809                       Jorge Garcia,  Lukas Vergara,  Millaray Lobos,  Luis Gnecco\n",
            "3056                       Chris Noth,  Nia Fairweather,  Chris Trousdale,  Otoja Abit\n",
            "8179            Carla Salle,  Sandra Corveloni,  Jonathan Haagensen,  Guilherme Prates\n",
            "6218                                                         Stars Names not Available\n",
            "1303                                                         Stars Names not Available\n",
            "4192                     Dexter Fletcher,  Dickon Tolson,  Lana Kamenov,  Anton Brejak\n",
            "7193                          Jessica Barden,  Alex Lawther,  Naomi Ackie,  Josh Dylan\n",
            "926                                                          Stars Names not Available\n",
            "782                                                          Stars Names not Available\n",
            "5502                                                       Star: Anjelah Johnson-Reyes\n",
            "3898                                                               Star: Peter Dunning\n",
            "5320                   Vince Colosimo,  Maria Theodorakis,  Nathaniel Dean,  Judi Farr\n",
            "6853                David Mumeni,  Daniel Booroff,  Phill Webster,  Donald Sage Mackay\n",
            "5529                                                         Stars Names not Available\n",
            "4264                                                              Star: Bert Kreischer\n",
            "455                                                          Stars Names not Available\n",
            "485                                                          Stars Names not Available\n",
            "2277                     Keke Palmer,  Cory Hardrict,  Romeo Miller,  Eric D. Hill Jr.\n",
            "4057                                                         Stars Names not Available\n",
            "6211                                                         Stars Names not Available\n",
            "2316                                                         Stars Names not Available\n",
            "5919                                                         Stars Names not Available\n",
            "616                       David Spade,  John Goodman,  Eartha Kitt,  Patrick Warburton\n",
            "3204                 Mariam Al Ferjani,  Ghanem Zrelli,  Noomen Hamda,  Mohamed Akkari\n",
            "5003                                                         Stars Names not Available\n",
            "7263                         Odessa A’zion,  Odley Jean,  Amir Bageria,  Maliq Johnson\n",
            "721                                                          Stars Names not Available\n",
            "Name: STARS, dtype: object\n"
          ]
        }
      ]
    },
    {
      "cell_type": "markdown",
      "source": [
        "## `VOTES`"
      ],
      "metadata": {
        "id": "wwYhjaQx1QE7"
      }
    },
    {
      "cell_type": "code",
      "source": [
        "movies.VOTES"
      ],
      "metadata": {
        "id": "MAB78k4j1a0k",
        "outputId": "73b91c07-5f27-4bb2-918e-c6c02af7e84b",
        "colab": {
          "base_uri": "https://localhost:8080/"
        }
      },
      "execution_count": 529,
      "outputs": [
        {
          "output_type": "execute_result",
          "data": {
            "text/plain": [
              "0        21,062\n",
              "1        17,870\n",
              "2       885,805\n",
              "3       414,849\n",
              "4           NaN\n",
              "         ...   \n",
              "9993        NaN\n",
              "9995        NaN\n",
              "9996        NaN\n",
              "9997        NaN\n",
              "9998        NaN\n",
              "Name: VOTES, Length: 9490, dtype: object"
            ]
          },
          "metadata": {},
          "execution_count": 529
        }
      ]
    },
    {
      "cell_type": "markdown",
      "source": [
        "I will need to remove all the commas and others so that this column can be intega"
      ],
      "metadata": {
        "id": "a_zJLoZR1xk4"
      }
    },
    {
      "cell_type": "code",
      "source": [
        "# Step 1: Remove non-numeric characters (commas, etc.) and replace NaN with 0\n",
        "movies['VOTES'] = movies['VOTES'].str.replace('[^\\d]', '', regex=True).fillna('0')\n",
        "\n",
        "# Step 2: Convert the column to numeric (integer) data type\n",
        "movies['VOTES'] = pd.to_numeric(movies['VOTES'], downcast='integer')\n"
      ],
      "metadata": {
        "id": "jNqNPKSD1-2V"
      },
      "execution_count": 530,
      "outputs": []
    },
    {
      "cell_type": "code",
      "source": [
        "movies.VOTES"
      ],
      "metadata": {
        "id": "bepy7NbG2Orm",
        "outputId": "d4de89b9-a7d4-4a15-b557-5662141fedee",
        "colab": {
          "base_uri": "https://localhost:8080/"
        }
      },
      "execution_count": 531,
      "outputs": [
        {
          "output_type": "execute_result",
          "data": {
            "text/plain": [
              "0        21062\n",
              "1        17870\n",
              "2       885805\n",
              "3       414849\n",
              "4            0\n",
              "         ...  \n",
              "9993         0\n",
              "9995         0\n",
              "9996         0\n",
              "9997         0\n",
              "9998         0\n",
              "Name: VOTES, Length: 9490, dtype: int32"
            ]
          },
          "metadata": {},
          "execution_count": 531
        }
      ]
    },
    {
      "cell_type": "markdown",
      "source": [
        "## `RunTime`\n"
      ],
      "metadata": {
        "id": "niSTVGei2RQV"
      }
    },
    {
      "cell_type": "code",
      "source": [
        "movies.RunTime"
      ],
      "metadata": {
        "id": "mV1DChfd2VtJ",
        "outputId": "771723f0-3010-4753-9f01-19efcb4c290c",
        "colab": {
          "base_uri": "https://localhost:8080/"
        }
      },
      "execution_count": 532,
      "outputs": [
        {
          "output_type": "execute_result",
          "data": {
            "text/plain": [
              "0       121.0\n",
              "1        25.0\n",
              "2        44.0\n",
              "3        23.0\n",
              "4         NaN\n",
              "        ...  \n",
              "9993      NaN\n",
              "9995      NaN\n",
              "9996      NaN\n",
              "9997      NaN\n",
              "9998      NaN\n",
              "Name: RunTime, Length: 9490, dtype: float64"
            ]
          },
          "metadata": {},
          "execution_count": 532
        }
      ]
    },
    {
      "cell_type": "markdown",
      "source": [
        "I will:\n",
        "1. Rename the 'RunTime' column to 'RUNTIME.'\n",
        "2. Replace any NaN values with 0 (assuming that missing values represent a runtime of 0).\n",
        "3. Convert the column to integer data type (assuming that runtime values are in whole minutes).\n",
        "\n"
      ],
      "metadata": {
        "id": "FnZOAynE25IW"
      }
    },
    {
      "cell_type": "code",
      "source": [
        "# Step 1: Rename the column\n",
        "movies.rename(columns={'RunTime': 'RUNTIME'}, inplace=True)\n",
        "\n",
        "# Step 2: Replace NaN values with 0\n",
        "movies['RUNTIME'].fillna(0, inplace=True)\n",
        "\n",
        "# Step 3: Convert the column to integer data type\n",
        "movies['RUNTIME'] = movies['RUNTIME'].astype(int)"
      ],
      "metadata": {
        "id": "PM815deM3Gbd"
      },
      "execution_count": 533,
      "outputs": []
    },
    {
      "cell_type": "markdown",
      "source": [
        "## `Gross`"
      ],
      "metadata": {
        "id": "SgC9AcSD3Yf4"
      }
    },
    {
      "cell_type": "code",
      "source": [
        "movies.Gross.sample(10)"
      ],
      "metadata": {
        "id": "GhQs7tT03cB7",
        "outputId": "2db3a140-0936-4b3a-dd43-efc8e1d203ab",
        "colab": {
          "base_uri": "https://localhost:8080/"
        }
      },
      "execution_count": 534,
      "outputs": [
        {
          "output_type": "execute_result",
          "data": {
            "text/plain": [
              "8553    NaN\n",
              "6328    NaN\n",
              "4313    NaN\n",
              "514     NaN\n",
              "3361    NaN\n",
              "7924    NaN\n",
              "9143    NaN\n",
              "7168    NaN\n",
              "4943    NaN\n",
              "3995    NaN\n",
              "Name: Gross, dtype: object"
            ]
          },
          "metadata": {},
          "execution_count": 534
        }
      ]
    },
    {
      "cell_type": "markdown",
      "source": [
        "I will:\n",
        "\n",
        "1. Rename the column to 'GROSS.'\n",
        "2. Remove the dollar sign ('$') and 'M' from the values.\n",
        "3. Replace any NaN values with 0.\n",
        "4. Convert the column to a numeric data type (assuming the values represent millions of dollars).\n",
        "\n",
        "\n"
      ],
      "metadata": {
        "id": "9ZMs3kVK33Dh"
      }
    },
    {
      "cell_type": "code",
      "source": [
        "# Step 1: Rename the column\n",
        "movies.rename(columns={'Gross': 'GROSS'}, inplace=True)\n",
        "\n",
        "# Step 2: Remove the dollar sign and 'M' from values\n",
        "# Remove the dollar sign and 'M' from values without using regex=True\n",
        "movies['GROSS'] = movies['GROSS'].str.replace(['$', 'M'], '', regex=False)\n",
        "\n",
        "# Step 3: Replace NaN values with 0\n",
        "movies['GROSS'].fillna(0, inplace=True)\n",
        "\n",
        "# Step 4: Convert the column to a numeric data type\n",
        "movies['GROSS'] = pd.to_numeric(movies['GROSS'], errors='coerce')"
      ],
      "metadata": {
        "id": "pJcrC-Tj4Du2"
      },
      "execution_count": 535,
      "outputs": []
    },
    {
      "cell_type": "code",
      "source": [
        "movies.sample(8)"
      ],
      "metadata": {
        "colab": {
          "base_uri": "https://localhost:8080/",
          "height": 1000
        },
        "id": "GJ2jboIxYTMY",
        "outputId": "72450d1c-7c91-4675-9a68-1b72e5c82f74"
      },
      "execution_count": 536,
      "outputs": [
        {
          "output_type": "execute_result",
          "data": {
            "text/plain": [
              "                                        MOVIES    YEAR  \\\n",
              "7696                       Unnatural Selection  2019.0   \n",
              "4457                              Lego Friends  2013.0   \n",
              "3325                                  Splatter  2009.0   \n",
              "1871  Blue Mountain State The Rise of Thadland  2016.0   \n",
              "6977                   Oktoberfest Beer  Blood  2020.0   \n",
              "2679                                   Divines  2016.0   \n",
              "4163                                    Evelyn  2018.0   \n",
              "6915                                 Cobra Kai  2018.0   \n",
              "\n",
              "                         GENRE  RATING  \\\n",
              "7696               documentary     7.2   \n",
              "4457                 animation     5.2   \n",
              "3325                    horror     3.2   \n",
              "1871             comedy, sport     5.7   \n",
              "6977  drama, history, thriller     6.9   \n",
              "2679              crime, drama     7.4   \n",
              "4163               documentary     7.1   \n",
              "6915     action, comedy, drama     9.5   \n",
              "\n",
              "                                                                                                                                                                                                                               DESCRIPTION  \\\n",
              "7696                                                                                      Using gene drive technology, humans have the chance to shape and eradicate whole species. But the implications alarm bioethicists and activists.   \n",
              "4457                                                                                                                                                                                     Five Best Friends Go on Many Fun Lego adventures.   \n",
              "3325     After self-righteous rock star Jonny Splatter puts a bullet in his own head, only five people are chosen to attend the reading of Splatter's will: the manager, the shrink, the guitarist, ...                See full summary »    \n",
              "1871                                                                                    When the Dean of Blue Mountain State threatens to sell the Goat House, Alex throws Thad the party of his dreams in an effort to get him to buy it.   \n",
              "6977                                                                                 The murder of Ignatz Hoflinger shocks Munich but gives Prank an opportunity to seize the victim's festival lot. Roman and Clara awkwardly meet again.   \n",
              "2679                                                                                             A street teenager from a dysfunctional family from a banlieue (HLMs) in Paris comes across a young dancer who turns her life upside down.   \n",
              "4163   Following his Oscar winning The White Helmets, Orlando von Einsiedel turns his camera on his own family as they attempt to cope with a devastating loss. When his brother, newly diagnosed as...                See full summary »    \n",
              "6915                                                                                           Old wounds begin to heal at a country club Christmas party, but a brutal assault by Kreese's students leads to new betrayals and alliances.   \n",
              "\n",
              "                                                                       STARS  \\\n",
              "7696              David Ishee,  Tristan Roberts,  Aaron Traywick,  Mac Davis   \n",
              "4457                                               Stars Names not Available   \n",
              "3325                                               Stars Names not Available   \n",
              "1871                  Alan Ritchson,  Darin Brooks,  James Cade,  Rob Ramsay   \n",
              "6977  Misel Maticevic,  Martina Gedeck,  Klaus Steinbacher,  Mercedes Müller   \n",
              "2679      Oulaya Amamra,  Déborah Lukumuena,  Kévin Mischel,  Jisca Kalvanda   \n",
              "4163                                             Star: Orlando von Einsiedel   \n",
              "6915     Ralph Macchio,  William Zabka,  Courtney Henggeler,  Xolo Maridueña   \n",
              "\n",
              "      VOTES  RUNTIME  GROSS  \n",
              "7696     78       62    0.0  \n",
              "4457    129        4    0.0  \n",
              "3325    518       29    0.0  \n",
              "1871  15091       90    0.0  \n",
              "6977    104       48    0.0  \n",
              "2679   9245      105    0.0  \n",
              "4163    687      100    0.0  \n",
              "6915   4554       41    0.0  "
            ],
            "text/html": [
              "\n",
              "  <div id=\"df-26c50eb7-9bb3-4acf-9eda-c20d54410921\" class=\"colab-df-container\">\n",
              "    <div>\n",
              "<style scoped>\n",
              "    .dataframe tbody tr th:only-of-type {\n",
              "        vertical-align: middle;\n",
              "    }\n",
              "\n",
              "    .dataframe tbody tr th {\n",
              "        vertical-align: top;\n",
              "    }\n",
              "\n",
              "    .dataframe thead th {\n",
              "        text-align: right;\n",
              "    }\n",
              "</style>\n",
              "<table border=\"1\" class=\"dataframe\">\n",
              "  <thead>\n",
              "    <tr style=\"text-align: right;\">\n",
              "      <th></th>\n",
              "      <th>MOVIES</th>\n",
              "      <th>YEAR</th>\n",
              "      <th>GENRE</th>\n",
              "      <th>RATING</th>\n",
              "      <th>DESCRIPTION</th>\n",
              "      <th>STARS</th>\n",
              "      <th>VOTES</th>\n",
              "      <th>RUNTIME</th>\n",
              "      <th>GROSS</th>\n",
              "    </tr>\n",
              "  </thead>\n",
              "  <tbody>\n",
              "    <tr>\n",
              "      <th>7696</th>\n",
              "      <td>Unnatural Selection</td>\n",
              "      <td>2019.0</td>\n",
              "      <td>documentary</td>\n",
              "      <td>7.2</td>\n",
              "      <td>Using gene drive technology, humans have the chance to shape and eradicate whole species. But the implications alarm bioethicists and activists.</td>\n",
              "      <td>David Ishee,  Tristan Roberts,  Aaron Traywick,  Mac Davis</td>\n",
              "      <td>78</td>\n",
              "      <td>62</td>\n",
              "      <td>0.0</td>\n",
              "    </tr>\n",
              "    <tr>\n",
              "      <th>4457</th>\n",
              "      <td>Lego Friends</td>\n",
              "      <td>2013.0</td>\n",
              "      <td>animation</td>\n",
              "      <td>5.2</td>\n",
              "      <td>Five Best Friends Go on Many Fun Lego adventures.</td>\n",
              "      <td>Stars Names not Available</td>\n",
              "      <td>129</td>\n",
              "      <td>4</td>\n",
              "      <td>0.0</td>\n",
              "    </tr>\n",
              "    <tr>\n",
              "      <th>3325</th>\n",
              "      <td>Splatter</td>\n",
              "      <td>2009.0</td>\n",
              "      <td>horror</td>\n",
              "      <td>3.2</td>\n",
              "      <td>After self-righteous rock star Jonny Splatter puts a bullet in his own head, only five people are chosen to attend the reading of Splatter's will: the manager, the shrink, the guitarist, ...                See full summary »</td>\n",
              "      <td>Stars Names not Available</td>\n",
              "      <td>518</td>\n",
              "      <td>29</td>\n",
              "      <td>0.0</td>\n",
              "    </tr>\n",
              "    <tr>\n",
              "      <th>1871</th>\n",
              "      <td>Blue Mountain State The Rise of Thadland</td>\n",
              "      <td>2016.0</td>\n",
              "      <td>comedy, sport</td>\n",
              "      <td>5.7</td>\n",
              "      <td>When the Dean of Blue Mountain State threatens to sell the Goat House, Alex throws Thad the party of his dreams in an effort to get him to buy it.</td>\n",
              "      <td>Alan Ritchson,  Darin Brooks,  James Cade,  Rob Ramsay</td>\n",
              "      <td>15091</td>\n",
              "      <td>90</td>\n",
              "      <td>0.0</td>\n",
              "    </tr>\n",
              "    <tr>\n",
              "      <th>6977</th>\n",
              "      <td>Oktoberfest Beer  Blood</td>\n",
              "      <td>2020.0</td>\n",
              "      <td>drama, history, thriller</td>\n",
              "      <td>6.9</td>\n",
              "      <td>The murder of Ignatz Hoflinger shocks Munich but gives Prank an opportunity to seize the victim's festival lot. Roman and Clara awkwardly meet again.</td>\n",
              "      <td>Misel Maticevic,  Martina Gedeck,  Klaus Steinbacher,  Mercedes Müller</td>\n",
              "      <td>104</td>\n",
              "      <td>48</td>\n",
              "      <td>0.0</td>\n",
              "    </tr>\n",
              "    <tr>\n",
              "      <th>2679</th>\n",
              "      <td>Divines</td>\n",
              "      <td>2016.0</td>\n",
              "      <td>crime, drama</td>\n",
              "      <td>7.4</td>\n",
              "      <td>A street teenager from a dysfunctional family from a banlieue (HLMs) in Paris comes across a young dancer who turns her life upside down.</td>\n",
              "      <td>Oulaya Amamra,  Déborah Lukumuena,  Kévin Mischel,  Jisca Kalvanda</td>\n",
              "      <td>9245</td>\n",
              "      <td>105</td>\n",
              "      <td>0.0</td>\n",
              "    </tr>\n",
              "    <tr>\n",
              "      <th>4163</th>\n",
              "      <td>Evelyn</td>\n",
              "      <td>2018.0</td>\n",
              "      <td>documentary</td>\n",
              "      <td>7.1</td>\n",
              "      <td>Following his Oscar winning The White Helmets, Orlando von Einsiedel turns his camera on his own family as they attempt to cope with a devastating loss. When his brother, newly diagnosed as...                See full summary »</td>\n",
              "      <td>Star: Orlando von Einsiedel</td>\n",
              "      <td>687</td>\n",
              "      <td>100</td>\n",
              "      <td>0.0</td>\n",
              "    </tr>\n",
              "    <tr>\n",
              "      <th>6915</th>\n",
              "      <td>Cobra Kai</td>\n",
              "      <td>2018.0</td>\n",
              "      <td>action, comedy, drama</td>\n",
              "      <td>9.5</td>\n",
              "      <td>Old wounds begin to heal at a country club Christmas party, but a brutal assault by Kreese's students leads to new betrayals and alliances.</td>\n",
              "      <td>Ralph Macchio,  William Zabka,  Courtney Henggeler,  Xolo Maridueña</td>\n",
              "      <td>4554</td>\n",
              "      <td>41</td>\n",
              "      <td>0.0</td>\n",
              "    </tr>\n",
              "  </tbody>\n",
              "</table>\n",
              "</div>\n",
              "    <div class=\"colab-df-buttons\">\n",
              "\n",
              "  <div class=\"colab-df-container\">\n",
              "    <button class=\"colab-df-convert\" onclick=\"convertToInteractive('df-26c50eb7-9bb3-4acf-9eda-c20d54410921')\"\n",
              "            title=\"Convert this dataframe to an interactive table.\"\n",
              "            style=\"display:none;\">\n",
              "\n",
              "  <svg xmlns=\"http://www.w3.org/2000/svg\" height=\"24px\" viewBox=\"0 -960 960 960\">\n",
              "    <path d=\"M120-120v-720h720v720H120Zm60-500h600v-160H180v160Zm220 220h160v-160H400v160Zm0 220h160v-160H400v160ZM180-400h160v-160H180v160Zm440 0h160v-160H620v160ZM180-180h160v-160H180v160Zm440 0h160v-160H620v160Z\"/>\n",
              "  </svg>\n",
              "    </button>\n",
              "\n",
              "  <style>\n",
              "    .colab-df-container {\n",
              "      display:flex;\n",
              "      gap: 12px;\n",
              "    }\n",
              "\n",
              "    .colab-df-convert {\n",
              "      background-color: #E8F0FE;\n",
              "      border: none;\n",
              "      border-radius: 50%;\n",
              "      cursor: pointer;\n",
              "      display: none;\n",
              "      fill: #1967D2;\n",
              "      height: 32px;\n",
              "      padding: 0 0 0 0;\n",
              "      width: 32px;\n",
              "    }\n",
              "\n",
              "    .colab-df-convert:hover {\n",
              "      background-color: #E2EBFA;\n",
              "      box-shadow: 0px 1px 2px rgba(60, 64, 67, 0.3), 0px 1px 3px 1px rgba(60, 64, 67, 0.15);\n",
              "      fill: #174EA6;\n",
              "    }\n",
              "\n",
              "    .colab-df-buttons div {\n",
              "      margin-bottom: 4px;\n",
              "    }\n",
              "\n",
              "    [theme=dark] .colab-df-convert {\n",
              "      background-color: #3B4455;\n",
              "      fill: #D2E3FC;\n",
              "    }\n",
              "\n",
              "    [theme=dark] .colab-df-convert:hover {\n",
              "      background-color: #434B5C;\n",
              "      box-shadow: 0px 1px 3px 1px rgba(0, 0, 0, 0.15);\n",
              "      filter: drop-shadow(0px 1px 2px rgba(0, 0, 0, 0.3));\n",
              "      fill: #FFFFFF;\n",
              "    }\n",
              "  </style>\n",
              "\n",
              "    <script>\n",
              "      const buttonEl =\n",
              "        document.querySelector('#df-26c50eb7-9bb3-4acf-9eda-c20d54410921 button.colab-df-convert');\n",
              "      buttonEl.style.display =\n",
              "        google.colab.kernel.accessAllowed ? 'block' : 'none';\n",
              "\n",
              "      async function convertToInteractive(key) {\n",
              "        const element = document.querySelector('#df-26c50eb7-9bb3-4acf-9eda-c20d54410921');\n",
              "        const dataTable =\n",
              "          await google.colab.kernel.invokeFunction('convertToInteractive',\n",
              "                                                    [key], {});\n",
              "        if (!dataTable) return;\n",
              "\n",
              "        const docLinkHtml = 'Like what you see? Visit the ' +\n",
              "          '<a target=\"_blank\" href=https://colab.research.google.com/notebooks/data_table.ipynb>data table notebook</a>'\n",
              "          + ' to learn more about interactive tables.';\n",
              "        element.innerHTML = '';\n",
              "        dataTable['output_type'] = 'display_data';\n",
              "        await google.colab.output.renderOutput(dataTable, element);\n",
              "        const docLink = document.createElement('div');\n",
              "        docLink.innerHTML = docLinkHtml;\n",
              "        element.appendChild(docLink);\n",
              "      }\n",
              "    </script>\n",
              "  </div>\n",
              "\n",
              "\n",
              "<div id=\"df-4c8fe3b6-7e7d-4bf3-9273-0ded82526a5d\">\n",
              "  <button class=\"colab-df-quickchart\" onclick=\"quickchart('df-4c8fe3b6-7e7d-4bf3-9273-0ded82526a5d')\"\n",
              "            title=\"Suggest charts.\"\n",
              "            style=\"display:none;\">\n",
              "\n",
              "<svg xmlns=\"http://www.w3.org/2000/svg\" height=\"24px\"viewBox=\"0 0 24 24\"\n",
              "     width=\"24px\">\n",
              "    <g>\n",
              "        <path d=\"M19 3H5c-1.1 0-2 .9-2 2v14c0 1.1.9 2 2 2h14c1.1 0 2-.9 2-2V5c0-1.1-.9-2-2-2zM9 17H7v-7h2v7zm4 0h-2V7h2v10zm4 0h-2v-4h2v4z\"/>\n",
              "    </g>\n",
              "</svg>\n",
              "  </button>\n",
              "\n",
              "<style>\n",
              "  .colab-df-quickchart {\n",
              "      --bg-color: #E8F0FE;\n",
              "      --fill-color: #1967D2;\n",
              "      --hover-bg-color: #E2EBFA;\n",
              "      --hover-fill-color: #174EA6;\n",
              "      --disabled-fill-color: #AAA;\n",
              "      --disabled-bg-color: #DDD;\n",
              "  }\n",
              "\n",
              "  [theme=dark] .colab-df-quickchart {\n",
              "      --bg-color: #3B4455;\n",
              "      --fill-color: #D2E3FC;\n",
              "      --hover-bg-color: #434B5C;\n",
              "      --hover-fill-color: #FFFFFF;\n",
              "      --disabled-bg-color: #3B4455;\n",
              "      --disabled-fill-color: #666;\n",
              "  }\n",
              "\n",
              "  .colab-df-quickchart {\n",
              "    background-color: var(--bg-color);\n",
              "    border: none;\n",
              "    border-radius: 50%;\n",
              "    cursor: pointer;\n",
              "    display: none;\n",
              "    fill: var(--fill-color);\n",
              "    height: 32px;\n",
              "    padding: 0;\n",
              "    width: 32px;\n",
              "  }\n",
              "\n",
              "  .colab-df-quickchart:hover {\n",
              "    background-color: var(--hover-bg-color);\n",
              "    box-shadow: 0 1px 2px rgba(60, 64, 67, 0.3), 0 1px 3px 1px rgba(60, 64, 67, 0.15);\n",
              "    fill: var(--button-hover-fill-color);\n",
              "  }\n",
              "\n",
              "  .colab-df-quickchart-complete:disabled,\n",
              "  .colab-df-quickchart-complete:disabled:hover {\n",
              "    background-color: var(--disabled-bg-color);\n",
              "    fill: var(--disabled-fill-color);\n",
              "    box-shadow: none;\n",
              "  }\n",
              "\n",
              "  .colab-df-spinner {\n",
              "    border: 2px solid var(--fill-color);\n",
              "    border-color: transparent;\n",
              "    border-bottom-color: var(--fill-color);\n",
              "    animation:\n",
              "      spin 1s steps(1) infinite;\n",
              "  }\n",
              "\n",
              "  @keyframes spin {\n",
              "    0% {\n",
              "      border-color: transparent;\n",
              "      border-bottom-color: var(--fill-color);\n",
              "      border-left-color: var(--fill-color);\n",
              "    }\n",
              "    20% {\n",
              "      border-color: transparent;\n",
              "      border-left-color: var(--fill-color);\n",
              "      border-top-color: var(--fill-color);\n",
              "    }\n",
              "    30% {\n",
              "      border-color: transparent;\n",
              "      border-left-color: var(--fill-color);\n",
              "      border-top-color: var(--fill-color);\n",
              "      border-right-color: var(--fill-color);\n",
              "    }\n",
              "    40% {\n",
              "      border-color: transparent;\n",
              "      border-right-color: var(--fill-color);\n",
              "      border-top-color: var(--fill-color);\n",
              "    }\n",
              "    60% {\n",
              "      border-color: transparent;\n",
              "      border-right-color: var(--fill-color);\n",
              "    }\n",
              "    80% {\n",
              "      border-color: transparent;\n",
              "      border-right-color: var(--fill-color);\n",
              "      border-bottom-color: var(--fill-color);\n",
              "    }\n",
              "    90% {\n",
              "      border-color: transparent;\n",
              "      border-bottom-color: var(--fill-color);\n",
              "    }\n",
              "  }\n",
              "</style>\n",
              "\n",
              "  <script>\n",
              "    async function quickchart(key) {\n",
              "      const quickchartButtonEl =\n",
              "        document.querySelector('#' + key + ' button');\n",
              "      quickchartButtonEl.disabled = true;  // To prevent multiple clicks.\n",
              "      quickchartButtonEl.classList.add('colab-df-spinner');\n",
              "      try {\n",
              "        const charts = await google.colab.kernel.invokeFunction(\n",
              "            'suggestCharts', [key], {});\n",
              "      } catch (error) {\n",
              "        console.error('Error during call to suggestCharts:', error);\n",
              "      }\n",
              "      quickchartButtonEl.classList.remove('colab-df-spinner');\n",
              "      quickchartButtonEl.classList.add('colab-df-quickchart-complete');\n",
              "    }\n",
              "    (() => {\n",
              "      let quickchartButtonEl =\n",
              "        document.querySelector('#df-4c8fe3b6-7e7d-4bf3-9273-0ded82526a5d button');\n",
              "      quickchartButtonEl.style.display =\n",
              "        google.colab.kernel.accessAllowed ? 'block' : 'none';\n",
              "    })();\n",
              "  </script>\n",
              "</div>\n",
              "    </div>\n",
              "  </div>\n"
            ]
          },
          "metadata": {},
          "execution_count": 536
        }
      ]
    },
    {
      "cell_type": "code",
      "source": [
        "movies.info()"
      ],
      "metadata": {
        "colab": {
          "base_uri": "https://localhost:8080/"
        },
        "id": "dq_cGZJsYTGi",
        "outputId": "7fad8fb0-ab4f-4f78-9425-148af3f93214"
      },
      "execution_count": 537,
      "outputs": [
        {
          "output_type": "stream",
          "name": "stdout",
          "text": [
            "<class 'pandas.core.frame.DataFrame'>\n",
            "Int64Index: 9490 entries, 0 to 9998\n",
            "Data columns (total 9 columns):\n",
            " #   Column       Non-Null Count  Dtype  \n",
            "---  ------       --------------  -----  \n",
            " 0   MOVIES       9490 non-null   object \n",
            " 1   YEAR         9490 non-null   object \n",
            " 2   GENRE        9490 non-null   object \n",
            " 3   RATING       9490 non-null   float64\n",
            " 4   DESCRIPTION  9490 non-null   object \n",
            " 5   STARS        9490 non-null   object \n",
            " 6   VOTES        9490 non-null   int32  \n",
            " 7   RUNTIME      9490 non-null   int64  \n",
            " 8   GROSS        9490 non-null   float64\n",
            "dtypes: float64(2), int32(1), int64(1), object(5)\n",
            "memory usage: 704.3+ KB\n"
          ]
        }
      ]
    },
    {
      "cell_type": "markdown",
      "source": [
        "I will save the cleaned dataset:"
      ],
      "metadata": {
        "id": "3qSCzOhC5F_b"
      }
    },
    {
      "cell_type": "code",
      "source": [
        "# Save the cleaned dataset to a CSV file\n",
        "movies.to_csv('cleaned_movies_dataset.csv', index=False)"
      ],
      "metadata": {
        "id": "L7HMeujuYTD5"
      },
      "execution_count": 538,
      "outputs": []
    }
  ]
}