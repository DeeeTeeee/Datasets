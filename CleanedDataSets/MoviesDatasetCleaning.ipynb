{
  "nbformat": 4,
  "nbformat_minor": 0,
  "metadata": {
    "colab": {
      "provenance": []
    },
    "kernelspec": {
      "name": "python3",
      "display_name": "Python 3"
    },
    "language_info": {
      "name": "python"
    }
  },
  "cells": [
    {
      "cell_type": "code",
      "execution_count": 539,
      "metadata": {
        "id": "_zoRR_33WzpQ"
      },
      "outputs": [],
      "source": [
        "import numpy as np\n",
        "import pandas as pd\n",
        "import re\n",
        "import warnings\n",
        "warnings.filterwarnings('ignore')"
      ]
    },
    {
      "cell_type": "code",
      "source": [
        "#load in the dataset from github\n",
        "movies = pd.read_csv('https://raw.githubusercontent.com/DeeeTeeee/Datasets/main/DirtyDatasets/movies.csv')\n",
        "movies"
      ],
      "metadata": {
        "colab": {
          "base_uri": "https://localhost:8080/",
          "height": 944
        },
        "id": "n_iWVZAMW-q8",
        "outputId": "596f2f0a-d323-4675-8fd2-457f802374bb"
      },
      "execution_count": 540,
      "outputs": [
        {
          "output_type": "execute_result",
          "data": {
            "text/plain": [
              "                                   MOVIES         YEAR  \\\n",
              "0                           Blood Red Sky       (2021)   \n",
              "1     Masters of the Universe: Revelation     (2021– )   \n",
              "2                        The Walking Dead  (2010–2022)   \n",
              "3                          Rick and Morty     (2013– )   \n",
              "4                         Army of Thieves       (2021)   \n",
              "...                                   ...          ...   \n",
              "9994                       The Imperfects     (2021– )   \n",
              "9995                               Arcane     (2021– )   \n",
              "9996                    Heart of Invictus     (2022– )   \n",
              "9997                       The Imperfects     (2021– )   \n",
              "9998                       The Imperfects     (2021– )   \n",
              "\n",
              "                                           GENRE  RATING  \\\n",
              "0         \\nAction, Horror, Thriller                 6.1   \n",
              "1     \\nAnimation, Action, Adventure                 5.0   \n",
              "2          \\nDrama, Horror, Thriller                 8.2   \n",
              "3     \\nAnimation, Adventure, Comedy                 9.2   \n",
              "4            \\nAction, Crime, Horror                 NaN   \n",
              "...                                          ...     ...   \n",
              "9994     \\nAdventure, Drama, Fantasy                 NaN   \n",
              "9995  \\nAnimation, Action, Adventure                 NaN   \n",
              "9996            \\nDocumentary, Sport                 NaN   \n",
              "9997     \\nAdventure, Drama, Fantasy                 NaN   \n",
              "9998     \\nAdventure, Drama, Fantasy                 NaN   \n",
              "\n",
              "                                                                                                                                                                                                                   ONE-LINE  \\\n",
              "0                                                                                  \\nA woman with a mysterious illness is forced into action when a group of terrorists attempt to hijack a transatlantic overnight flight.   \n",
              "1                                                                   \\nThe war for Eternia begins again in what may be the final battle between He-Man and Skeletor. A new animated series from writer-director Kevin Smith.   \n",
              "2                                                                                        \\nSheriff Deputy Rick Grimes wakes up from a coma to learn the world is in ruins and must lead a group of survivors to stay alive.   \n",
              "3                                                                                                                       \\nAn animated series that follows the exploits of a super scientist and his not-so-bright grandson.   \n",
              "4     \\nA prequel, set before the events of Army of the Dead, which focuses on German safecracker Ludwig Dieter leading a group of aspiring thieves on a top secret heist during the early stages of the zombie apocalypse.   \n",
              "...                                                                                                                                                                                                                     ...   \n",
              "9994                                                                                                                                                                                                         \\nAdd a Plot\\n   \n",
              "9995                                                                                                                                                                                                         \\nAdd a Plot\\n   \n",
              "9996                                                                                                                                                                                                         \\nAdd a Plot\\n   \n",
              "9997                                                                                                                                                                                                         \\nAdd a Plot\\n   \n",
              "9998                                                                                                                                                                                                         \\nAdd a Plot\\n   \n",
              "\n",
              "                                                                                                                                      STARS  \\\n",
              "0                  \\n    Director:\\nPeter Thorwarth\\n| \\n    Stars:\\nPeri Baumeister, \\nCarl Anton Koch, \\nAlexander Scheer, \\nKais Setti\\n   \n",
              "1                                           \\n            \\n    Stars:\\nChris Wood, \\nSarah Michelle Gellar, \\nLena Headey, \\nMark Hamill\\n   \n",
              "2                                          \\n            \\n    Stars:\\nAndrew Lincoln, \\nNorman Reedus, \\nMelissa McBride, \\nLauren Cohan\\n   \n",
              "3                                          \\n            \\n    Stars:\\nJustin Roiland, \\nChris Parnell, \\nSpencer Grammer, \\nSarah Chalke\\n   \n",
              "4      \\n    Director:\\nMatthias Schweighöfer\\n| \\n    Stars:\\nMatthias Schweighöfer, \\nNathalie Emmanuel, \\nRuby O. Fee, \\nStuart Martin\\n   \n",
              "...                                                                                                                                     ...   \n",
              "9994                                    \\n            \\n    Stars:\\nMorgan Taylor Campbell, \\nChris Cope, \\nIñaki Godoy, \\nRhianna Jagpal\\n   \n",
              "9995                                                                                                                                     \\n   \n",
              "9996                                                                  \\n    Director:\\nOrlando von Einsiedel\\n| \\n    Star:\\nPrince Harry\\n   \n",
              "9997      \\n    Director:\\nJovanka Vuckovic\\n| \\n    Stars:\\nMorgan Taylor Campbell, \\nIñaki Godoy, \\nRhianna Jagpal, \\nSiddhartha Minhas\\n   \n",
              "9998  \\n    Director:\\nJovanka Vuckovic\\n| \\n    Stars:\\nMorgan Taylor Campbell, \\nJennifer Cheon Garcia, \\nIñaki Godoy, \\nRhianna Jagpal\\n   \n",
              "\n",
              "        VOTES  RunTime Gross  \n",
              "0      21,062    121.0   NaN  \n",
              "1      17,870     25.0   NaN  \n",
              "2     885,805     44.0   NaN  \n",
              "3     414,849     23.0   NaN  \n",
              "4         NaN      NaN   NaN  \n",
              "...       ...      ...   ...  \n",
              "9994      NaN      NaN   NaN  \n",
              "9995      NaN      NaN   NaN  \n",
              "9996      NaN      NaN   NaN  \n",
              "9997      NaN      NaN   NaN  \n",
              "9998      NaN      NaN   NaN  \n",
              "\n",
              "[9999 rows x 9 columns]"
            ],
            "text/html": [
              "\n",
              "  <div id=\"df-41e314c8-618a-4b10-b330-53b9eb123530\" class=\"colab-df-container\">\n",
              "    <div>\n",
              "<style scoped>\n",
              "    .dataframe tbody tr th:only-of-type {\n",
              "        vertical-align: middle;\n",
              "    }\n",
              "\n",
              "    .dataframe tbody tr th {\n",
              "        vertical-align: top;\n",
              "    }\n",
              "\n",
              "    .dataframe thead th {\n",
              "        text-align: right;\n",
              "    }\n",
              "</style>\n",
              "<table border=\"1\" class=\"dataframe\">\n",
              "  <thead>\n",
              "    <tr style=\"text-align: right;\">\n",
              "      <th></th>\n",
              "      <th>MOVIES</th>\n",
              "      <th>YEAR</th>\n",
              "      <th>GENRE</th>\n",
              "      <th>RATING</th>\n",
              "      <th>ONE-LINE</th>\n",
              "      <th>STARS</th>\n",
              "      <th>VOTES</th>\n",
              "      <th>RunTime</th>\n",
              "      <th>Gross</th>\n",
              "    </tr>\n",
              "  </thead>\n",
              "  <tbody>\n",
              "    <tr>\n",
              "      <th>0</th>\n",
              "      <td>Blood Red Sky</td>\n",
              "      <td>(2021)</td>\n",
              "      <td>\\nAction, Horror, Thriller</td>\n",
              "      <td>6.1</td>\n",
              "      <td>\\nA woman with a mysterious illness is forced into action when a group of terrorists attempt to hijack a transatlantic overnight flight.</td>\n",
              "      <td>\\n    Director:\\nPeter Thorwarth\\n| \\n    Stars:\\nPeri Baumeister, \\nCarl Anton Koch, \\nAlexander Scheer, \\nKais Setti\\n</td>\n",
              "      <td>21,062</td>\n",
              "      <td>121.0</td>\n",
              "      <td>NaN</td>\n",
              "    </tr>\n",
              "    <tr>\n",
              "      <th>1</th>\n",
              "      <td>Masters of the Universe: Revelation</td>\n",
              "      <td>(2021– )</td>\n",
              "      <td>\\nAnimation, Action, Adventure</td>\n",
              "      <td>5.0</td>\n",
              "      <td>\\nThe war for Eternia begins again in what may be the final battle between He-Man and Skeletor. A new animated series from writer-director Kevin Smith.</td>\n",
              "      <td>\\n            \\n    Stars:\\nChris Wood, \\nSarah Michelle Gellar, \\nLena Headey, \\nMark Hamill\\n</td>\n",
              "      <td>17,870</td>\n",
              "      <td>25.0</td>\n",
              "      <td>NaN</td>\n",
              "    </tr>\n",
              "    <tr>\n",
              "      <th>2</th>\n",
              "      <td>The Walking Dead</td>\n",
              "      <td>(2010–2022)</td>\n",
              "      <td>\\nDrama, Horror, Thriller</td>\n",
              "      <td>8.2</td>\n",
              "      <td>\\nSheriff Deputy Rick Grimes wakes up from a coma to learn the world is in ruins and must lead a group of survivors to stay alive.</td>\n",
              "      <td>\\n            \\n    Stars:\\nAndrew Lincoln, \\nNorman Reedus, \\nMelissa McBride, \\nLauren Cohan\\n</td>\n",
              "      <td>885,805</td>\n",
              "      <td>44.0</td>\n",
              "      <td>NaN</td>\n",
              "    </tr>\n",
              "    <tr>\n",
              "      <th>3</th>\n",
              "      <td>Rick and Morty</td>\n",
              "      <td>(2013– )</td>\n",
              "      <td>\\nAnimation, Adventure, Comedy</td>\n",
              "      <td>9.2</td>\n",
              "      <td>\\nAn animated series that follows the exploits of a super scientist and his not-so-bright grandson.</td>\n",
              "      <td>\\n            \\n    Stars:\\nJustin Roiland, \\nChris Parnell, \\nSpencer Grammer, \\nSarah Chalke\\n</td>\n",
              "      <td>414,849</td>\n",
              "      <td>23.0</td>\n",
              "      <td>NaN</td>\n",
              "    </tr>\n",
              "    <tr>\n",
              "      <th>4</th>\n",
              "      <td>Army of Thieves</td>\n",
              "      <td>(2021)</td>\n",
              "      <td>\\nAction, Crime, Horror</td>\n",
              "      <td>NaN</td>\n",
              "      <td>\\nA prequel, set before the events of Army of the Dead, which focuses on German safecracker Ludwig Dieter leading a group of aspiring thieves on a top secret heist during the early stages of the zombie apocalypse.</td>\n",
              "      <td>\\n    Director:\\nMatthias Schweighöfer\\n| \\n    Stars:\\nMatthias Schweighöfer, \\nNathalie Emmanuel, \\nRuby O. Fee, \\nStuart Martin\\n</td>\n",
              "      <td>NaN</td>\n",
              "      <td>NaN</td>\n",
              "      <td>NaN</td>\n",
              "    </tr>\n",
              "    <tr>\n",
              "      <th>...</th>\n",
              "      <td>...</td>\n",
              "      <td>...</td>\n",
              "      <td>...</td>\n",
              "      <td>...</td>\n",
              "      <td>...</td>\n",
              "      <td>...</td>\n",
              "      <td>...</td>\n",
              "      <td>...</td>\n",
              "      <td>...</td>\n",
              "    </tr>\n",
              "    <tr>\n",
              "      <th>9994</th>\n",
              "      <td>The Imperfects</td>\n",
              "      <td>(2021– )</td>\n",
              "      <td>\\nAdventure, Drama, Fantasy</td>\n",
              "      <td>NaN</td>\n",
              "      <td>\\nAdd a Plot\\n</td>\n",
              "      <td>\\n            \\n    Stars:\\nMorgan Taylor Campbell, \\nChris Cope, \\nIñaki Godoy, \\nRhianna Jagpal\\n</td>\n",
              "      <td>NaN</td>\n",
              "      <td>NaN</td>\n",
              "      <td>NaN</td>\n",
              "    </tr>\n",
              "    <tr>\n",
              "      <th>9995</th>\n",
              "      <td>Arcane</td>\n",
              "      <td>(2021– )</td>\n",
              "      <td>\\nAnimation, Action, Adventure</td>\n",
              "      <td>NaN</td>\n",
              "      <td>\\nAdd a Plot\\n</td>\n",
              "      <td>\\n</td>\n",
              "      <td>NaN</td>\n",
              "      <td>NaN</td>\n",
              "      <td>NaN</td>\n",
              "    </tr>\n",
              "    <tr>\n",
              "      <th>9996</th>\n",
              "      <td>Heart of Invictus</td>\n",
              "      <td>(2022– )</td>\n",
              "      <td>\\nDocumentary, Sport</td>\n",
              "      <td>NaN</td>\n",
              "      <td>\\nAdd a Plot\\n</td>\n",
              "      <td>\\n    Director:\\nOrlando von Einsiedel\\n| \\n    Star:\\nPrince Harry\\n</td>\n",
              "      <td>NaN</td>\n",
              "      <td>NaN</td>\n",
              "      <td>NaN</td>\n",
              "    </tr>\n",
              "    <tr>\n",
              "      <th>9997</th>\n",
              "      <td>The Imperfects</td>\n",
              "      <td>(2021– )</td>\n",
              "      <td>\\nAdventure, Drama, Fantasy</td>\n",
              "      <td>NaN</td>\n",
              "      <td>\\nAdd a Plot\\n</td>\n",
              "      <td>\\n    Director:\\nJovanka Vuckovic\\n| \\n    Stars:\\nMorgan Taylor Campbell, \\nIñaki Godoy, \\nRhianna Jagpal, \\nSiddhartha Minhas\\n</td>\n",
              "      <td>NaN</td>\n",
              "      <td>NaN</td>\n",
              "      <td>NaN</td>\n",
              "    </tr>\n",
              "    <tr>\n",
              "      <th>9998</th>\n",
              "      <td>The Imperfects</td>\n",
              "      <td>(2021– )</td>\n",
              "      <td>\\nAdventure, Drama, Fantasy</td>\n",
              "      <td>NaN</td>\n",
              "      <td>\\nAdd a Plot\\n</td>\n",
              "      <td>\\n    Director:\\nJovanka Vuckovic\\n| \\n    Stars:\\nMorgan Taylor Campbell, \\nJennifer Cheon Garcia, \\nIñaki Godoy, \\nRhianna Jagpal\\n</td>\n",
              "      <td>NaN</td>\n",
              "      <td>NaN</td>\n",
              "      <td>NaN</td>\n",
              "    </tr>\n",
              "  </tbody>\n",
              "</table>\n",
              "<p>9999 rows × 9 columns</p>\n",
              "</div>\n",
              "    <div class=\"colab-df-buttons\">\n",
              "\n",
              "  <div class=\"colab-df-container\">\n",
              "    <button class=\"colab-df-convert\" onclick=\"convertToInteractive('df-41e314c8-618a-4b10-b330-53b9eb123530')\"\n",
              "            title=\"Convert this dataframe to an interactive table.\"\n",
              "            style=\"display:none;\">\n",
              "\n",
              "  <svg xmlns=\"http://www.w3.org/2000/svg\" height=\"24px\" viewBox=\"0 -960 960 960\">\n",
              "    <path d=\"M120-120v-720h720v720H120Zm60-500h600v-160H180v160Zm220 220h160v-160H400v160Zm0 220h160v-160H400v160ZM180-400h160v-160H180v160Zm440 0h160v-160H620v160ZM180-180h160v-160H180v160Zm440 0h160v-160H620v160Z\"/>\n",
              "  </svg>\n",
              "    </button>\n",
              "\n",
              "  <style>\n",
              "    .colab-df-container {\n",
              "      display:flex;\n",
              "      gap: 12px;\n",
              "    }\n",
              "\n",
              "    .colab-df-convert {\n",
              "      background-color: #E8F0FE;\n",
              "      border: none;\n",
              "      border-radius: 50%;\n",
              "      cursor: pointer;\n",
              "      display: none;\n",
              "      fill: #1967D2;\n",
              "      height: 32px;\n",
              "      padding: 0 0 0 0;\n",
              "      width: 32px;\n",
              "    }\n",
              "\n",
              "    .colab-df-convert:hover {\n",
              "      background-color: #E2EBFA;\n",
              "      box-shadow: 0px 1px 2px rgba(60, 64, 67, 0.3), 0px 1px 3px 1px rgba(60, 64, 67, 0.15);\n",
              "      fill: #174EA6;\n",
              "    }\n",
              "\n",
              "    .colab-df-buttons div {\n",
              "      margin-bottom: 4px;\n",
              "    }\n",
              "\n",
              "    [theme=dark] .colab-df-convert {\n",
              "      background-color: #3B4455;\n",
              "      fill: #D2E3FC;\n",
              "    }\n",
              "\n",
              "    [theme=dark] .colab-df-convert:hover {\n",
              "      background-color: #434B5C;\n",
              "      box-shadow: 0px 1px 3px 1px rgba(0, 0, 0, 0.15);\n",
              "      filter: drop-shadow(0px 1px 2px rgba(0, 0, 0, 0.3));\n",
              "      fill: #FFFFFF;\n",
              "    }\n",
              "  </style>\n",
              "\n",
              "    <script>\n",
              "      const buttonEl =\n",
              "        document.querySelector('#df-41e314c8-618a-4b10-b330-53b9eb123530 button.colab-df-convert');\n",
              "      buttonEl.style.display =\n",
              "        google.colab.kernel.accessAllowed ? 'block' : 'none';\n",
              "\n",
              "      async function convertToInteractive(key) {\n",
              "        const element = document.querySelector('#df-41e314c8-618a-4b10-b330-53b9eb123530');\n",
              "        const dataTable =\n",
              "          await google.colab.kernel.invokeFunction('convertToInteractive',\n",
              "                                                    [key], {});\n",
              "        if (!dataTable) return;\n",
              "\n",
              "        const docLinkHtml = 'Like what you see? Visit the ' +\n",
              "          '<a target=\"_blank\" href=https://colab.research.google.com/notebooks/data_table.ipynb>data table notebook</a>'\n",
              "          + ' to learn more about interactive tables.';\n",
              "        element.innerHTML = '';\n",
              "        dataTable['output_type'] = 'display_data';\n",
              "        await google.colab.output.renderOutput(dataTable, element);\n",
              "        const docLink = document.createElement('div');\n",
              "        docLink.innerHTML = docLinkHtml;\n",
              "        element.appendChild(docLink);\n",
              "      }\n",
              "    </script>\n",
              "  </div>\n",
              "\n",
              "\n",
              "<div id=\"df-17441abb-f75c-454a-8fcb-f3723eb9182f\">\n",
              "  <button class=\"colab-df-quickchart\" onclick=\"quickchart('df-17441abb-f75c-454a-8fcb-f3723eb9182f')\"\n",
              "            title=\"Suggest charts.\"\n",
              "            style=\"display:none;\">\n",
              "\n",
              "<svg xmlns=\"http://www.w3.org/2000/svg\" height=\"24px\"viewBox=\"0 0 24 24\"\n",
              "     width=\"24px\">\n",
              "    <g>\n",
              "        <path d=\"M19 3H5c-1.1 0-2 .9-2 2v14c0 1.1.9 2 2 2h14c1.1 0 2-.9 2-2V5c0-1.1-.9-2-2-2zM9 17H7v-7h2v7zm4 0h-2V7h2v10zm4 0h-2v-4h2v4z\"/>\n",
              "    </g>\n",
              "</svg>\n",
              "  </button>\n",
              "\n",
              "<style>\n",
              "  .colab-df-quickchart {\n",
              "      --bg-color: #E8F0FE;\n",
              "      --fill-color: #1967D2;\n",
              "      --hover-bg-color: #E2EBFA;\n",
              "      --hover-fill-color: #174EA6;\n",
              "      --disabled-fill-color: #AAA;\n",
              "      --disabled-bg-color: #DDD;\n",
              "  }\n",
              "\n",
              "  [theme=dark] .colab-df-quickchart {\n",
              "      --bg-color: #3B4455;\n",
              "      --fill-color: #D2E3FC;\n",
              "      --hover-bg-color: #434B5C;\n",
              "      --hover-fill-color: #FFFFFF;\n",
              "      --disabled-bg-color: #3B4455;\n",
              "      --disabled-fill-color: #666;\n",
              "  }\n",
              "\n",
              "  .colab-df-quickchart {\n",
              "    background-color: var(--bg-color);\n",
              "    border: none;\n",
              "    border-radius: 50%;\n",
              "    cursor: pointer;\n",
              "    display: none;\n",
              "    fill: var(--fill-color);\n",
              "    height: 32px;\n",
              "    padding: 0;\n",
              "    width: 32px;\n",
              "  }\n",
              "\n",
              "  .colab-df-quickchart:hover {\n",
              "    background-color: var(--hover-bg-color);\n",
              "    box-shadow: 0 1px 2px rgba(60, 64, 67, 0.3), 0 1px 3px 1px rgba(60, 64, 67, 0.15);\n",
              "    fill: var(--button-hover-fill-color);\n",
              "  }\n",
              "\n",
              "  .colab-df-quickchart-complete:disabled,\n",
              "  .colab-df-quickchart-complete:disabled:hover {\n",
              "    background-color: var(--disabled-bg-color);\n",
              "    fill: var(--disabled-fill-color);\n",
              "    box-shadow: none;\n",
              "  }\n",
              "\n",
              "  .colab-df-spinner {\n",
              "    border: 2px solid var(--fill-color);\n",
              "    border-color: transparent;\n",
              "    border-bottom-color: var(--fill-color);\n",
              "    animation:\n",
              "      spin 1s steps(1) infinite;\n",
              "  }\n",
              "\n",
              "  @keyframes spin {\n",
              "    0% {\n",
              "      border-color: transparent;\n",
              "      border-bottom-color: var(--fill-color);\n",
              "      border-left-color: var(--fill-color);\n",
              "    }\n",
              "    20% {\n",
              "      border-color: transparent;\n",
              "      border-left-color: var(--fill-color);\n",
              "      border-top-color: var(--fill-color);\n",
              "    }\n",
              "    30% {\n",
              "      border-color: transparent;\n",
              "      border-left-color: var(--fill-color);\n",
              "      border-top-color: var(--fill-color);\n",
              "      border-right-color: var(--fill-color);\n",
              "    }\n",
              "    40% {\n",
              "      border-color: transparent;\n",
              "      border-right-color: var(--fill-color);\n",
              "      border-top-color: var(--fill-color);\n",
              "    }\n",
              "    60% {\n",
              "      border-color: transparent;\n",
              "      border-right-color: var(--fill-color);\n",
              "    }\n",
              "    80% {\n",
              "      border-color: transparent;\n",
              "      border-right-color: var(--fill-color);\n",
              "      border-bottom-color: var(--fill-color);\n",
              "    }\n",
              "    90% {\n",
              "      border-color: transparent;\n",
              "      border-bottom-color: var(--fill-color);\n",
              "    }\n",
              "  }\n",
              "</style>\n",
              "\n",
              "  <script>\n",
              "    async function quickchart(key) {\n",
              "      const quickchartButtonEl =\n",
              "        document.querySelector('#' + key + ' button');\n",
              "      quickchartButtonEl.disabled = true;  // To prevent multiple clicks.\n",
              "      quickchartButtonEl.classList.add('colab-df-spinner');\n",
              "      try {\n",
              "        const charts = await google.colab.kernel.invokeFunction(\n",
              "            'suggestCharts', [key], {});\n",
              "      } catch (error) {\n",
              "        console.error('Error during call to suggestCharts:', error);\n",
              "      }\n",
              "      quickchartButtonEl.classList.remove('colab-df-spinner');\n",
              "      quickchartButtonEl.classList.add('colab-df-quickchart-complete');\n",
              "    }\n",
              "    (() => {\n",
              "      let quickchartButtonEl =\n",
              "        document.querySelector('#df-17441abb-f75c-454a-8fcb-f3723eb9182f button');\n",
              "      quickchartButtonEl.style.display =\n",
              "        google.colab.kernel.accessAllowed ? 'block' : 'none';\n",
              "    })();\n",
              "  </script>\n",
              "</div>\n",
              "    </div>\n",
              "  </div>\n"
            ]
          },
          "metadata": {},
          "execution_count": 540
        }
      ]
    },
    {
      "cell_type": "markdown",
      "source": [
        "I will like to check the shape of the dataset"
      ],
      "metadata": {
        "id": "hGADb9fjX47m"
      }
    },
    {
      "cell_type": "code",
      "source": [
        "movies.shape"
      ],
      "metadata": {
        "colab": {
          "base_uri": "https://localhost:8080/"
        },
        "id": "hH4YXj-YW-tw",
        "outputId": "6e9eba96-d62c-4a50-a209-9ce7cd9ec76d"
      },
      "execution_count": 541,
      "outputs": [
        {
          "output_type": "execute_result",
          "data": {
            "text/plain": [
              "(9999, 9)"
            ]
          },
          "metadata": {},
          "execution_count": 541
        }
      ]
    },
    {
      "cell_type": "code",
      "source": [
        "movies.info()"
      ],
      "metadata": {
        "colab": {
          "base_uri": "https://localhost:8080/"
        },
        "id": "MrTytBbNW-wf",
        "outputId": "f2f7782d-e3fe-4bc7-d15a-736ee1deec9d"
      },
      "execution_count": 542,
      "outputs": [
        {
          "output_type": "stream",
          "name": "stdout",
          "text": [
            "<class 'pandas.core.frame.DataFrame'>\n",
            "RangeIndex: 9999 entries, 0 to 9998\n",
            "Data columns (total 9 columns):\n",
            " #   Column    Non-Null Count  Dtype  \n",
            "---  ------    --------------  -----  \n",
            " 0   MOVIES    9999 non-null   object \n",
            " 1   YEAR      9355 non-null   object \n",
            " 2   GENRE     9919 non-null   object \n",
            " 3   RATING    8179 non-null   float64\n",
            " 4   ONE-LINE  9999 non-null   object \n",
            " 5   STARS     9999 non-null   object \n",
            " 6   VOTES     8179 non-null   object \n",
            " 7   RunTime   7041 non-null   float64\n",
            " 8   Gross     460 non-null    object \n",
            "dtypes: float64(2), object(7)\n",
            "memory usage: 703.2+ KB\n"
          ]
        }
      ]
    },
    {
      "cell_type": "code",
      "source": [
        "movies.isnull().sum()"
      ],
      "metadata": {
        "colab": {
          "base_uri": "https://localhost:8080/"
        },
        "id": "Sar5Be2kYTPI",
        "outputId": "9ffbacf6-cbf9-4de6-d5ab-2400137f00ff"
      },
      "execution_count": 543,
      "outputs": [
        {
          "output_type": "execute_result",
          "data": {
            "text/plain": [
              "MOVIES         0\n",
              "YEAR         644\n",
              "GENRE         80\n",
              "RATING      1820\n",
              "ONE-LINE       0\n",
              "STARS          0\n",
              "VOTES       1820\n",
              "RunTime     2958\n",
              "Gross       9539\n",
              "dtype: int64"
            ]
          },
          "metadata": {},
          "execution_count": 543
        }
      ]
    },
    {
      "cell_type": "markdown",
      "source": [
        "we can see there are lots of `null` values in the dataset, its one of the major this we are cleaning.\n",
        "\n",
        "\n",
        "Let me first remove all the '\\n's in the dataset"
      ],
      "metadata": {
        "id": "EHJccCndYa4u"
      }
    },
    {
      "cell_type": "code",
      "source": [
        "# Remove '\\n' characters from all columns\n",
        "movies = movies.replace(r'\\n', ' ', regex=True)"
      ],
      "metadata": {
        "id": "iOg9_U7Fa1sN"
      },
      "execution_count": 544,
      "outputs": []
    },
    {
      "cell_type": "markdown",
      "source": [
        "Let me check for duplicates rows:\n"
      ],
      "metadata": {
        "id": "AgBdLyZVcOxs"
      }
    },
    {
      "cell_type": "code",
      "source": [
        "\n",
        "# Count duplicate rows\n",
        "duplicate_count = len(movies[movies.duplicated()])\n",
        "\n",
        "# Print the count of duplicate rows\n",
        "print(f\"Number of duplicate rows in the 'movies' dataset: {duplicate_count}\")\n"
      ],
      "metadata": {
        "colab": {
          "base_uri": "https://localhost:8080/"
        },
        "id": "Eq1HdCLLcUWa",
        "outputId": "118d148f-2295-4d5c-c558-0fb9a015d035"
      },
      "execution_count": 545,
      "outputs": [
        {
          "output_type": "stream",
          "name": "stdout",
          "text": [
            "Number of duplicate rows in the 'movies' dataset: 431\n"
          ]
        }
      ]
    },
    {
      "cell_type": "code",
      "source": [
        "# Check for duplicate rows\n",
        "duplicate_rows = movies[movies.duplicated()]"
      ],
      "metadata": {
        "id": "JZEv80JdbqfD"
      },
      "execution_count": 546,
      "outputs": []
    },
    {
      "cell_type": "code",
      "source": [
        "duplicate_rows"
      ],
      "metadata": {
        "colab": {
          "base_uri": "https://localhost:8080/",
          "height": 614
        },
        "id": "X2aMU0D9b_H4",
        "outputId": "bab3e924-35cd-4494-eb5f-cec75e9e66a7"
      },
      "execution_count": 547,
      "outputs": [
        {
          "output_type": "execute_result",
          "data": {
            "text/plain": [
              "                    MOVIES      YEAR  \\\n",
              "6833   Mighty Little Bheem  (2019– )   \n",
              "6835   Mighty Little Bheem  (2019– )   \n",
              "6836   Mighty Little Bheem  (2019– )   \n",
              "6837   Mighty Little Bheem  (2019– )   \n",
              "6838   Mighty Little Bheem  (2019– )   \n",
              "...                    ...       ...   \n",
              "9989                  1899  (2022– )   \n",
              "9990                  1899  (2022– )   \n",
              "9991                  1899  (2022– )   \n",
              "9992                  1899  (2022– )   \n",
              "9994        The Imperfects  (2021– )   \n",
              "\n",
              "                                         GENRE  RATING      ONE-LINE  \\\n",
              "6833   Animation, Short, Adventure                 NaN   Add a Plot    \n",
              "6835   Animation, Short, Adventure                 9.0   Add a Plot    \n",
              "6836   Animation, Short, Adventure                 9.0   Add a Plot    \n",
              "6837   Animation, Short, Adventure                 NaN   Add a Plot    \n",
              "6838   Animation, Short, Adventure                 NaN   Add a Plot    \n",
              "...                                        ...     ...           ...   \n",
              "9989        Drama, History, Horror                 NaN   Add a Plot    \n",
              "9990        Drama, History, Horror                 NaN   Add a Plot    \n",
              "9991        Drama, History, Horror                 NaN   Add a Plot    \n",
              "9992        Drama, History, Horror                 NaN   Add a Plot    \n",
              "9994     Adventure, Drama, Fantasy                 NaN   Add a Plot    \n",
              "\n",
              "                                                                                             STARS  \\\n",
              "6833                                         Directors: Rajiv Chilaka,  Krishna Mohan Chintapatla    \n",
              "6835                                         Directors: Rajiv Chilaka,  Krishna Mohan Chintapatla    \n",
              "6836                                         Directors: Rajiv Chilaka,  Krishna Mohan Chintapatla    \n",
              "6837                                         Directors: Rajiv Chilaka,  Krishna Mohan Chintapatla    \n",
              "6838                                         Directors: Rajiv Chilaka,  Krishna Mohan Chintapatla    \n",
              "...                                                                                            ...   \n",
              "9989                                                                      Director: Baran bo Odar    \n",
              "9990                                                                      Director: Baran bo Odar    \n",
              "9991                                                                      Director: Baran bo Odar    \n",
              "9992                                                                      Director: Baran bo Odar    \n",
              "9994                    Stars: Morgan Taylor Campbell,  Chris Cope,  Iñaki Godoy,  Rhianna Jagpal    \n",
              "\n",
              "     VOTES  RunTime Gross  \n",
              "6833   NaN      NaN   NaN  \n",
              "6835     6      NaN   NaN  \n",
              "6836     6      NaN   NaN  \n",
              "6837   NaN      NaN   NaN  \n",
              "6838   NaN      NaN   NaN  \n",
              "...    ...      ...   ...  \n",
              "9989   NaN      NaN   NaN  \n",
              "9990   NaN      NaN   NaN  \n",
              "9991   NaN      NaN   NaN  \n",
              "9992   NaN      NaN   NaN  \n",
              "9994   NaN      NaN   NaN  \n",
              "\n",
              "[431 rows x 9 columns]"
            ],
            "text/html": [
              "\n",
              "  <div id=\"df-fc28fc1f-fa63-491d-b7ab-539e0f31d29e\" class=\"colab-df-container\">\n",
              "    <div>\n",
              "<style scoped>\n",
              "    .dataframe tbody tr th:only-of-type {\n",
              "        vertical-align: middle;\n",
              "    }\n",
              "\n",
              "    .dataframe tbody tr th {\n",
              "        vertical-align: top;\n",
              "    }\n",
              "\n",
              "    .dataframe thead th {\n",
              "        text-align: right;\n",
              "    }\n",
              "</style>\n",
              "<table border=\"1\" class=\"dataframe\">\n",
              "  <thead>\n",
              "    <tr style=\"text-align: right;\">\n",
              "      <th></th>\n",
              "      <th>MOVIES</th>\n",
              "      <th>YEAR</th>\n",
              "      <th>GENRE</th>\n",
              "      <th>RATING</th>\n",
              "      <th>ONE-LINE</th>\n",
              "      <th>STARS</th>\n",
              "      <th>VOTES</th>\n",
              "      <th>RunTime</th>\n",
              "      <th>Gross</th>\n",
              "    </tr>\n",
              "  </thead>\n",
              "  <tbody>\n",
              "    <tr>\n",
              "      <th>6833</th>\n",
              "      <td>Mighty Little Bheem</td>\n",
              "      <td>(2019– )</td>\n",
              "      <td>Animation, Short, Adventure</td>\n",
              "      <td>NaN</td>\n",
              "      <td>Add a Plot</td>\n",
              "      <td>Directors: Rajiv Chilaka,  Krishna Mohan Chintapatla</td>\n",
              "      <td>NaN</td>\n",
              "      <td>NaN</td>\n",
              "      <td>NaN</td>\n",
              "    </tr>\n",
              "    <tr>\n",
              "      <th>6835</th>\n",
              "      <td>Mighty Little Bheem</td>\n",
              "      <td>(2019– )</td>\n",
              "      <td>Animation, Short, Adventure</td>\n",
              "      <td>9.0</td>\n",
              "      <td>Add a Plot</td>\n",
              "      <td>Directors: Rajiv Chilaka,  Krishna Mohan Chintapatla</td>\n",
              "      <td>6</td>\n",
              "      <td>NaN</td>\n",
              "      <td>NaN</td>\n",
              "    </tr>\n",
              "    <tr>\n",
              "      <th>6836</th>\n",
              "      <td>Mighty Little Bheem</td>\n",
              "      <td>(2019– )</td>\n",
              "      <td>Animation, Short, Adventure</td>\n",
              "      <td>9.0</td>\n",
              "      <td>Add a Plot</td>\n",
              "      <td>Directors: Rajiv Chilaka,  Krishna Mohan Chintapatla</td>\n",
              "      <td>6</td>\n",
              "      <td>NaN</td>\n",
              "      <td>NaN</td>\n",
              "    </tr>\n",
              "    <tr>\n",
              "      <th>6837</th>\n",
              "      <td>Mighty Little Bheem</td>\n",
              "      <td>(2019– )</td>\n",
              "      <td>Animation, Short, Adventure</td>\n",
              "      <td>NaN</td>\n",
              "      <td>Add a Plot</td>\n",
              "      <td>Directors: Rajiv Chilaka,  Krishna Mohan Chintapatla</td>\n",
              "      <td>NaN</td>\n",
              "      <td>NaN</td>\n",
              "      <td>NaN</td>\n",
              "    </tr>\n",
              "    <tr>\n",
              "      <th>6838</th>\n",
              "      <td>Mighty Little Bheem</td>\n",
              "      <td>(2019– )</td>\n",
              "      <td>Animation, Short, Adventure</td>\n",
              "      <td>NaN</td>\n",
              "      <td>Add a Plot</td>\n",
              "      <td>Directors: Rajiv Chilaka,  Krishna Mohan Chintapatla</td>\n",
              "      <td>NaN</td>\n",
              "      <td>NaN</td>\n",
              "      <td>NaN</td>\n",
              "    </tr>\n",
              "    <tr>\n",
              "      <th>...</th>\n",
              "      <td>...</td>\n",
              "      <td>...</td>\n",
              "      <td>...</td>\n",
              "      <td>...</td>\n",
              "      <td>...</td>\n",
              "      <td>...</td>\n",
              "      <td>...</td>\n",
              "      <td>...</td>\n",
              "      <td>...</td>\n",
              "    </tr>\n",
              "    <tr>\n",
              "      <th>9989</th>\n",
              "      <td>1899</td>\n",
              "      <td>(2022– )</td>\n",
              "      <td>Drama, History, Horror</td>\n",
              "      <td>NaN</td>\n",
              "      <td>Add a Plot</td>\n",
              "      <td>Director: Baran bo Odar</td>\n",
              "      <td>NaN</td>\n",
              "      <td>NaN</td>\n",
              "      <td>NaN</td>\n",
              "    </tr>\n",
              "    <tr>\n",
              "      <th>9990</th>\n",
              "      <td>1899</td>\n",
              "      <td>(2022– )</td>\n",
              "      <td>Drama, History, Horror</td>\n",
              "      <td>NaN</td>\n",
              "      <td>Add a Plot</td>\n",
              "      <td>Director: Baran bo Odar</td>\n",
              "      <td>NaN</td>\n",
              "      <td>NaN</td>\n",
              "      <td>NaN</td>\n",
              "    </tr>\n",
              "    <tr>\n",
              "      <th>9991</th>\n",
              "      <td>1899</td>\n",
              "      <td>(2022– )</td>\n",
              "      <td>Drama, History, Horror</td>\n",
              "      <td>NaN</td>\n",
              "      <td>Add a Plot</td>\n",
              "      <td>Director: Baran bo Odar</td>\n",
              "      <td>NaN</td>\n",
              "      <td>NaN</td>\n",
              "      <td>NaN</td>\n",
              "    </tr>\n",
              "    <tr>\n",
              "      <th>9992</th>\n",
              "      <td>1899</td>\n",
              "      <td>(2022– )</td>\n",
              "      <td>Drama, History, Horror</td>\n",
              "      <td>NaN</td>\n",
              "      <td>Add a Plot</td>\n",
              "      <td>Director: Baran bo Odar</td>\n",
              "      <td>NaN</td>\n",
              "      <td>NaN</td>\n",
              "      <td>NaN</td>\n",
              "    </tr>\n",
              "    <tr>\n",
              "      <th>9994</th>\n",
              "      <td>The Imperfects</td>\n",
              "      <td>(2021– )</td>\n",
              "      <td>Adventure, Drama, Fantasy</td>\n",
              "      <td>NaN</td>\n",
              "      <td>Add a Plot</td>\n",
              "      <td>Stars: Morgan Taylor Campbell,  Chris Cope,  Iñaki Godoy,  Rhianna Jagpal</td>\n",
              "      <td>NaN</td>\n",
              "      <td>NaN</td>\n",
              "      <td>NaN</td>\n",
              "    </tr>\n",
              "  </tbody>\n",
              "</table>\n",
              "<p>431 rows × 9 columns</p>\n",
              "</div>\n",
              "    <div class=\"colab-df-buttons\">\n",
              "\n",
              "  <div class=\"colab-df-container\">\n",
              "    <button class=\"colab-df-convert\" onclick=\"convertToInteractive('df-fc28fc1f-fa63-491d-b7ab-539e0f31d29e')\"\n",
              "            title=\"Convert this dataframe to an interactive table.\"\n",
              "            style=\"display:none;\">\n",
              "\n",
              "  <svg xmlns=\"http://www.w3.org/2000/svg\" height=\"24px\" viewBox=\"0 -960 960 960\">\n",
              "    <path d=\"M120-120v-720h720v720H120Zm60-500h600v-160H180v160Zm220 220h160v-160H400v160Zm0 220h160v-160H400v160ZM180-400h160v-160H180v160Zm440 0h160v-160H620v160ZM180-180h160v-160H180v160Zm440 0h160v-160H620v160Z\"/>\n",
              "  </svg>\n",
              "    </button>\n",
              "\n",
              "  <style>\n",
              "    .colab-df-container {\n",
              "      display:flex;\n",
              "      gap: 12px;\n",
              "    }\n",
              "\n",
              "    .colab-df-convert {\n",
              "      background-color: #E8F0FE;\n",
              "      border: none;\n",
              "      border-radius: 50%;\n",
              "      cursor: pointer;\n",
              "      display: none;\n",
              "      fill: #1967D2;\n",
              "      height: 32px;\n",
              "      padding: 0 0 0 0;\n",
              "      width: 32px;\n",
              "    }\n",
              "\n",
              "    .colab-df-convert:hover {\n",
              "      background-color: #E2EBFA;\n",
              "      box-shadow: 0px 1px 2px rgba(60, 64, 67, 0.3), 0px 1px 3px 1px rgba(60, 64, 67, 0.15);\n",
              "      fill: #174EA6;\n",
              "    }\n",
              "\n",
              "    .colab-df-buttons div {\n",
              "      margin-bottom: 4px;\n",
              "    }\n",
              "\n",
              "    [theme=dark] .colab-df-convert {\n",
              "      background-color: #3B4455;\n",
              "      fill: #D2E3FC;\n",
              "    }\n",
              "\n",
              "    [theme=dark] .colab-df-convert:hover {\n",
              "      background-color: #434B5C;\n",
              "      box-shadow: 0px 1px 3px 1px rgba(0, 0, 0, 0.15);\n",
              "      filter: drop-shadow(0px 1px 2px rgba(0, 0, 0, 0.3));\n",
              "      fill: #FFFFFF;\n",
              "    }\n",
              "  </style>\n",
              "\n",
              "    <script>\n",
              "      const buttonEl =\n",
              "        document.querySelector('#df-fc28fc1f-fa63-491d-b7ab-539e0f31d29e button.colab-df-convert');\n",
              "      buttonEl.style.display =\n",
              "        google.colab.kernel.accessAllowed ? 'block' : 'none';\n",
              "\n",
              "      async function convertToInteractive(key) {\n",
              "        const element = document.querySelector('#df-fc28fc1f-fa63-491d-b7ab-539e0f31d29e');\n",
              "        const dataTable =\n",
              "          await google.colab.kernel.invokeFunction('convertToInteractive',\n",
              "                                                    [key], {});\n",
              "        if (!dataTable) return;\n",
              "\n",
              "        const docLinkHtml = 'Like what you see? Visit the ' +\n",
              "          '<a target=\"_blank\" href=https://colab.research.google.com/notebooks/data_table.ipynb>data table notebook</a>'\n",
              "          + ' to learn more about interactive tables.';\n",
              "        element.innerHTML = '';\n",
              "        dataTable['output_type'] = 'display_data';\n",
              "        await google.colab.output.renderOutput(dataTable, element);\n",
              "        const docLink = document.createElement('div');\n",
              "        docLink.innerHTML = docLinkHtml;\n",
              "        element.appendChild(docLink);\n",
              "      }\n",
              "    </script>\n",
              "  </div>\n",
              "\n",
              "\n",
              "<div id=\"df-9113ec34-0735-4d23-9e90-ce98c9693079\">\n",
              "  <button class=\"colab-df-quickchart\" onclick=\"quickchart('df-9113ec34-0735-4d23-9e90-ce98c9693079')\"\n",
              "            title=\"Suggest charts.\"\n",
              "            style=\"display:none;\">\n",
              "\n",
              "<svg xmlns=\"http://www.w3.org/2000/svg\" height=\"24px\"viewBox=\"0 0 24 24\"\n",
              "     width=\"24px\">\n",
              "    <g>\n",
              "        <path d=\"M19 3H5c-1.1 0-2 .9-2 2v14c0 1.1.9 2 2 2h14c1.1 0 2-.9 2-2V5c0-1.1-.9-2-2-2zM9 17H7v-7h2v7zm4 0h-2V7h2v10zm4 0h-2v-4h2v4z\"/>\n",
              "    </g>\n",
              "</svg>\n",
              "  </button>\n",
              "\n",
              "<style>\n",
              "  .colab-df-quickchart {\n",
              "      --bg-color: #E8F0FE;\n",
              "      --fill-color: #1967D2;\n",
              "      --hover-bg-color: #E2EBFA;\n",
              "      --hover-fill-color: #174EA6;\n",
              "      --disabled-fill-color: #AAA;\n",
              "      --disabled-bg-color: #DDD;\n",
              "  }\n",
              "\n",
              "  [theme=dark] .colab-df-quickchart {\n",
              "      --bg-color: #3B4455;\n",
              "      --fill-color: #D2E3FC;\n",
              "      --hover-bg-color: #434B5C;\n",
              "      --hover-fill-color: #FFFFFF;\n",
              "      --disabled-bg-color: #3B4455;\n",
              "      --disabled-fill-color: #666;\n",
              "  }\n",
              "\n",
              "  .colab-df-quickchart {\n",
              "    background-color: var(--bg-color);\n",
              "    border: none;\n",
              "    border-radius: 50%;\n",
              "    cursor: pointer;\n",
              "    display: none;\n",
              "    fill: var(--fill-color);\n",
              "    height: 32px;\n",
              "    padding: 0;\n",
              "    width: 32px;\n",
              "  }\n",
              "\n",
              "  .colab-df-quickchart:hover {\n",
              "    background-color: var(--hover-bg-color);\n",
              "    box-shadow: 0 1px 2px rgba(60, 64, 67, 0.3), 0 1px 3px 1px rgba(60, 64, 67, 0.15);\n",
              "    fill: var(--button-hover-fill-color);\n",
              "  }\n",
              "\n",
              "  .colab-df-quickchart-complete:disabled,\n",
              "  .colab-df-quickchart-complete:disabled:hover {\n",
              "    background-color: var(--disabled-bg-color);\n",
              "    fill: var(--disabled-fill-color);\n",
              "    box-shadow: none;\n",
              "  }\n",
              "\n",
              "  .colab-df-spinner {\n",
              "    border: 2px solid var(--fill-color);\n",
              "    border-color: transparent;\n",
              "    border-bottom-color: var(--fill-color);\n",
              "    animation:\n",
              "      spin 1s steps(1) infinite;\n",
              "  }\n",
              "\n",
              "  @keyframes spin {\n",
              "    0% {\n",
              "      border-color: transparent;\n",
              "      border-bottom-color: var(--fill-color);\n",
              "      border-left-color: var(--fill-color);\n",
              "    }\n",
              "    20% {\n",
              "      border-color: transparent;\n",
              "      border-left-color: var(--fill-color);\n",
              "      border-top-color: var(--fill-color);\n",
              "    }\n",
              "    30% {\n",
              "      border-color: transparent;\n",
              "      border-left-color: var(--fill-color);\n",
              "      border-top-color: var(--fill-color);\n",
              "      border-right-color: var(--fill-color);\n",
              "    }\n",
              "    40% {\n",
              "      border-color: transparent;\n",
              "      border-right-color: var(--fill-color);\n",
              "      border-top-color: var(--fill-color);\n",
              "    }\n",
              "    60% {\n",
              "      border-color: transparent;\n",
              "      border-right-color: var(--fill-color);\n",
              "    }\n",
              "    80% {\n",
              "      border-color: transparent;\n",
              "      border-right-color: var(--fill-color);\n",
              "      border-bottom-color: var(--fill-color);\n",
              "    }\n",
              "    90% {\n",
              "      border-color: transparent;\n",
              "      border-bottom-color: var(--fill-color);\n",
              "    }\n",
              "  }\n",
              "</style>\n",
              "\n",
              "  <script>\n",
              "    async function quickchart(key) {\n",
              "      const quickchartButtonEl =\n",
              "        document.querySelector('#' + key + ' button');\n",
              "      quickchartButtonEl.disabled = true;  // To prevent multiple clicks.\n",
              "      quickchartButtonEl.classList.add('colab-df-spinner');\n",
              "      try {\n",
              "        const charts = await google.colab.kernel.invokeFunction(\n",
              "            'suggestCharts', [key], {});\n",
              "      } catch (error) {\n",
              "        console.error('Error during call to suggestCharts:', error);\n",
              "      }\n",
              "      quickchartButtonEl.classList.remove('colab-df-spinner');\n",
              "      quickchartButtonEl.classList.add('colab-df-quickchart-complete');\n",
              "    }\n",
              "    (() => {\n",
              "      let quickchartButtonEl =\n",
              "        document.querySelector('#df-9113ec34-0735-4d23-9e90-ce98c9693079 button');\n",
              "      quickchartButtonEl.style.display =\n",
              "        google.colab.kernel.accessAllowed ? 'block' : 'none';\n",
              "    })();\n",
              "  </script>\n",
              "</div>\n",
              "    </div>\n",
              "  </div>\n"
            ]
          },
          "metadata": {},
          "execution_count": 547
        }
      ]
    },
    {
      "cell_type": "markdown",
      "source": [
        "I will drop all duplicates;"
      ],
      "metadata": {
        "id": "BSu_OMMkc4Pc"
      }
    },
    {
      "cell_type": "code",
      "source": [
        "# Drop duplicate rows\n",
        "movies = movies.drop_duplicates()"
      ],
      "metadata": {
        "id": "8jbgA-kPc3xt"
      },
      "execution_count": 548,
      "outputs": []
    },
    {
      "cell_type": "code",
      "source": [
        "# Print the count of duplicate rows\n",
        "print(f\"Number of duplicate rows in the 'movies' dataset: {movies.duplicated().sum()}\")"
      ],
      "metadata": {
        "colab": {
          "base_uri": "https://localhost:8080/"
        },
        "id": "WzJjW83RdEPT",
        "outputId": "4d3c1cd6-fc35-4fdd-f60c-66f31b52dbd4"
      },
      "execution_count": 549,
      "outputs": [
        {
          "output_type": "stream",
          "name": "stdout",
          "text": [
            "Number of duplicate rows in the 'movies' dataset: 0\n"
          ]
        }
      ]
    },
    {
      "cell_type": "markdown",
      "source": [
        "Ok, I will love to work on each column one after the other\n"
      ],
      "metadata": {
        "id": "fGLHdtFebP2S"
      }
    },
    {
      "cell_type": "code",
      "source": [
        "movies.MOVIES.value_counts"
      ],
      "metadata": {
        "colab": {
          "base_uri": "https://localhost:8080/"
        },
        "id": "euPaEqJjbZsQ",
        "outputId": "a4213809-ba85-453d-e638-1e223838eb75"
      },
      "execution_count": 550,
      "outputs": [
        {
          "output_type": "execute_result",
          "data": {
            "text/plain": [
              "<bound method IndexOpsMixin.value_counts of 0                             Blood Red Sky\n",
              "1       Masters of the Universe: Revelation\n",
              "2                          The Walking Dead\n",
              "3                            Rick and Morty\n",
              "4                           Army of Thieves\n",
              "                       ...                 \n",
              "9993                              Totenfrau\n",
              "9995                                 Arcane\n",
              "9996                      Heart of Invictus\n",
              "9997                         The Imperfects\n",
              "9998                         The Imperfects\n",
              "Name: MOVIES, Length: 9568, dtype: object>"
            ]
          },
          "metadata": {},
          "execution_count": 550
        }
      ]
    },
    {
      "cell_type": "markdown",
      "source": [
        "### `MOVIES`"
      ],
      "metadata": {
        "id": "MqnYxqNxfQ8e"
      }
    },
    {
      "cell_type": "code",
      "source": [
        "# Tokenize movie titles (split into individual words)\n",
        "movie_titles = movies['MOVIES'].str.split()\n",
        "\n",
        "# Flatten the list of tokens\n",
        "tokens = [word for sublist in movie_titles for word in sublist]\n",
        "\n",
        "# Count the frequency of each word\n",
        "word_counts = Counter(tokens)\n",
        "\n",
        "# Convert the word counts to a DataFrame for easier manipulation\n",
        "word_counts_df = pd.DataFrame.from_dict(word_counts, orient='index', columns=['Count'])\n",
        "\n",
        "# Sort the words by count in descending order\n",
        "word_counts_df = word_counts_df.sort_values(by='Count', ascending=False)\n",
        "\n",
        "# Plot the top N words (e.g., top 20)\n",
        "top_N = 20\n",
        "word_counts_df.head(top_N).plot(kind='bar', figsize=(12, 6))\n",
        "plt.title(f\"Top {top_N} Most Common Words in Movie Titles\")\n",
        "plt.xlabel(\"Words\")\n",
        "plt.ylabel(\"Count\")\n",
        "plt.xticks(rotation=45)\n",
        "plt.show()\n"
      ],
      "metadata": {
        "colab": {
          "base_uri": "https://localhost:8080/",
          "height": 599
        },
        "id": "Ix6Mjy3pfPW8",
        "outputId": "9b525f8a-b64e-4357-9cf4-de0939b2e608"
      },
      "execution_count": 551,
      "outputs": [
        {
          "output_type": "display_data",
          "data": {
            "text/plain": [
              "<Figure size 1200x600 with 1 Axes>"
            ],
            "image/png": "[encoded data removed]"
          },
          "metadata": {}
        }
      ]
    },
    {
      "cell_type": "markdown",
      "source": [
        "I want to see other symbols that are in the column that are not to be there:"
      ],
      "metadata": {
        "id": "OwKHrE9viaxO"
      }
    },
    {
      "cell_type": "code",
      "source": [
        "# Define a regular expression pattern to match symbols you want to exclude\n",
        "# For example, to exclude '#' and any non-alphanumeric characters:\n",
        "exclude_pattern = r'([^a-zA-Z0-9\\s]+)'\n",
        "\n",
        "# Apply the regular expression pattern to the 'MOVIES' column\n",
        "matches = movies['MOVIES'].str.extractall(exclude_pattern)\n",
        "\n",
        "# Get unique symbols from the matches\n",
        "symbols_to_exclude = matches[0].unique()\n",
        "\n",
        "# Print the list of symbols to exclude\n",
        "print(\"Symbols that shouldn't be in movie titles:\")\n",
        "for symbol in symbols_to_exclude:\n",
        "    print(symbol)"
      ],
      "metadata": {
        "colab": {
          "base_uri": "https://localhost:8080/"
        },
        "id": "I2uJdK7hg3zj",
        "outputId": "de72c0be-d7e5-4fb5-9833-70b456f31e98"
      },
      "execution_count": 552,
      "outputs": [
        {
          "output_type": "stream",
          "name": "stdout",
          "text": [
            "Symbols that shouldn't be in movie titles:\n",
            ":\n",
            "/\n",
            "'\n",
            "-\n",
            "(\n",
            ")\n",
            "É\n",
            "î\n",
            "ô\n",
            ".\n",
            ",\n",
            "&\n",
            ".'\n",
            "û\n",
            "é\n",
            "!\n",
            "***\n",
            "è\n",
            "!!\n",
            "¿\n",
            "ó\n",
            "?\n",
            "â\n",
            ";\n",
            "Ó\n",
            "æ\n",
            "ð\n",
            "ç\n",
            "#\n",
            "~\n",
            "%\n",
            "ô-\n",
            "...\n",
            "**\n",
            "----\n",
            "ê\n",
            "í\n",
            "ñ\n",
            "È\n",
            "ö\n",
            "à\n",
            "!!!\n",
            "á\n",
            "ô:\n",
            "ë\n",
            ".:\n",
            "²\n",
            "ø\n",
            "_\n",
            "ù\n",
            "Â\n",
            "Ô\n",
            "+\n",
            "ú\n",
            "ä\n",
            "ü\n",
            "ü?\n",
            "ï\n",
            "å\n",
            ">\n",
            "[\n",
            "]\n",
            "ã\n",
            "Ò\n",
            "ò\n",
            "û:\n",
            "Á\n",
            "Ö\n",
            "·\n",
            "Ç\n",
            "?!\n",
            "üçü\n",
            "Ü\n",
            "çõ\n",
            "ª\n",
            "ñí\n",
            "¡\n",
            "çã\n",
            "*\n",
            "\"\n",
            "@\n",
            "=\n",
            "..\n",
            "******\n",
            "À\n",
            "!:\n",
            "ú:\n",
            "é,\n",
            "é!:\n",
            "..?\n",
            "Í\n",
            "²:\n",
            "Å\n",
            "..!\n"
          ]
        }
      ]
    },
    {
      "cell_type": "markdown",
      "source": [
        "we can see they are so many and its obvious they shouldnt be there:"
      ],
      "metadata": {
        "id": "PG31QDsqimqW"
      }
    },
    {
      "cell_type": "code",
      "source": [
        "symbols_to_exclude"
      ],
      "metadata": {
        "colab": {
          "base_uri": "https://localhost:8080/"
        },
        "id": "NJlaJKOJhM_p",
        "outputId": "dce648ee-d398-463c-ed94-0b1721daad89"
      },
      "execution_count": 553,
      "outputs": [
        {
          "output_type": "execute_result",
          "data": {
            "text/plain": [
              "array([':', '/', \"'\", '-', '(', ')', 'É', 'î', 'ô', '.', ',', '&', \".'\",\n",
              "       'û', 'é', '!', '***', 'è', '!!', '¿', 'ó', '?', 'â', ';', 'Ó', 'æ',\n",
              "       'ð', 'ç', '#', '~', '%', 'ô-', '...', '**', '----', 'ê', 'í', 'ñ',\n",
              "       'È', 'ö', 'à', '!!!', 'á', 'ô:', 'ë', '.:', '²', 'ø', '_', 'ù',\n",
              "       'Â', 'Ô', '+', 'ú', 'ä', 'ü', 'ü?', 'ï', 'å', '>', '[', ']', 'ã',\n",
              "       'Ò', 'ò', 'û:', 'Á', 'Ö', '·', 'Ç', '?!', 'üçü', 'Ü', 'çõ', 'ª',\n",
              "       'ñí', '¡', 'çã', '*', '\"', '@', '=', '..', '******', 'À', '!:',\n",
              "       'ú:', 'é,', 'é!:', '..?', 'Í', '²:', 'Å', '..!'], dtype=object)"
            ]
          },
          "metadata": {},
          "execution_count": 553
        }
      ]
    },
    {
      "cell_type": "code",
      "source": [
        "# Define the list of symbols to remove\n",
        "symbols_to_remove = symbols_to_exclude.tolist()\n",
        "\n",
        "# Escape special characters in the symbols\n",
        "symbols_to_remove_escaped = [re.escape(symbol) for symbol in symbols_to_remove]\n",
        "\n",
        "# Remove symbols from the 'MOVIES' column\n",
        "for symbol in symbols_to_remove_escaped:\n",
        "    movies['MOVIES'] = movies['MOVIES'].str.replace(symbol, '')"
      ],
      "metadata": {
        "id": "PM6ZmE2rhs8k"
      },
      "execution_count": 554,
      "outputs": []
    },
    {
      "cell_type": "markdown",
      "source": [
        "## `YEAR`"
      ],
      "metadata": {
        "id": "sia16s-bjCPE"
      }
    },
    {
      "cell_type": "code",
      "source": [
        "movies.YEAR.value_counts"
      ],
      "metadata": {
        "colab": {
          "base_uri": "https://localhost:8080/"
        },
        "id": "iGvCUSVqjGat",
        "outputId": "89d0a09f-5a47-4939-d2b9-75f5edaddc83"
      },
      "execution_count": 555,
      "outputs": [
        {
          "output_type": "execute_result",
          "data": {
            "text/plain": [
              "<bound method IndexOpsMixin.value_counts of 0            (2021)\n",
              "1          (2021– )\n",
              "2       (2010–2022)\n",
              "3          (2013– )\n",
              "4            (2021)\n",
              "           ...     \n",
              "9993       (2022– )\n",
              "9995       (2021– )\n",
              "9996       (2022– )\n",
              "9997       (2021– )\n",
              "9998       (2021– )\n",
              "Name: YEAR, Length: 9568, dtype: object>"
            ]
          },
          "metadata": {},
          "execution_count": 555
        }
      ]
    },
    {
      "cell_type": "code",
      "source": [
        "# Extract valid years and convert them to a consistent format\n",
        "movies['YEAR'] = movies['YEAR'].str.extract(r'(\\d{4})', expand=False)\n",
        "\n",
        "# Convert the 'YEAR' column to numeric, treating invalid values as NaN\n",
        "movies['YEAR'] = pd.to_numeric(movies['YEAR'], errors='coerce')\n",
        "\n",
        "# Change the 'YEAR' column data type to object (string)\n",
        "movies['YEAR'] = movies['YEAR'].astype(str)"
      ],
      "metadata": {
        "id": "TvJdSagLkCxw"
      },
      "execution_count": 556,
      "outputs": []
    },
    {
      "cell_type": "code",
      "source": [
        "movies.YEAR.dtype"
      ],
      "metadata": {
        "colab": {
          "base_uri": "https://localhost:8080/"
        },
        "id": "gQ90DonckPSw",
        "outputId": "a2768606-65f5-4265-c78c-67348a408afa"
      },
      "execution_count": 557,
      "outputs": [
        {
          "output_type": "execute_result",
          "data": {
            "text/plain": [
              "dtype('O')"
            ]
          },
          "metadata": {},
          "execution_count": 557
        }
      ]
    },
    {
      "cell_type": "markdown",
      "source": [
        "## `GENRE`"
      ],
      "metadata": {
        "id": "i5lYylhzl_MR"
      }
    },
    {
      "cell_type": "code",
      "source": [
        "movies.GENRE"
      ],
      "metadata": {
        "colab": {
          "base_uri": "https://localhost:8080/"
        },
        "id": "DVexz2FgneEO",
        "outputId": "2763125b-b7dd-4dd8-e3aa-64d6115f38ec"
      },
      "execution_count": 558,
      "outputs": [
        {
          "output_type": "execute_result",
          "data": {
            "text/plain": [
              "0            Action, Horror, Thriller            \n",
              "1        Animation, Action, Adventure            \n",
              "2             Drama, Horror, Thriller            \n",
              "3        Animation, Adventure, Comedy            \n",
              "4               Action, Crime, Horror            \n",
              "                          ...                    \n",
              "9993                  Drama, Thriller            \n",
              "9995     Animation, Action, Adventure            \n",
              "9996               Documentary, Sport            \n",
              "9997        Adventure, Drama, Fantasy            \n",
              "9998        Adventure, Drama, Fantasy            \n",
              "Name: GENRE, Length: 9568, dtype: object"
            ]
          },
          "metadata": {},
          "execution_count": 558
        }
      ]
    },
    {
      "cell_type": "code",
      "source": [
        "# Clean and normalize the 'GENRE' column\n",
        "movies['GENRE'] = movies['GENRE'].str.strip()  # Remove leading/trailing spaces\n",
        "movies['GENRE'] = movies['GENRE'].str.lower()  # Convert to lowercase\n",
        "\n",
        "# Split the comma-separated genres and create a list of all genres\n",
        "genre_lists = movies['GENRE'].str.split(', ')\n",
        "\n",
        "# Flatten the list of genres\n",
        "all_genres = [genre for sublist in genre_lists.dropna() for genre in sublist]\n",
        "\n",
        "# Count the frequency of each genre\n",
        "genre_counts = pd.Series(all_genres).value_counts()\n",
        "\n",
        "# Print the top 10 most common genres\n",
        "print(\"Top 10 Most Common Genres (Cleaned and Normalized):\")\n",
        "print(genre_counts.head(10))"
      ],
      "metadata": {
        "colab": {
          "base_uri": "https://localhost:8080/"
        },
        "id": "v15z_1bTmp5q",
        "outputId": "cca3d9df-53aa-422a-aa54-e1ab1ef10d03"
      },
      "execution_count": 559,
      "outputs": [
        {
          "output_type": "stream",
          "name": "stdout",
          "text": [
            "Top 10 Most Common Genres (Cleaned and Normalized):\n",
            "drama          4115\n",
            "comedy         2736\n",
            "action         2110\n",
            "adventure      1588\n",
            "animation      1584\n",
            "crime          1519\n",
            "documentary    1221\n",
            "thriller        895\n",
            "mystery         840\n",
            "romance         835\n",
            "dtype: int64\n"
          ]
        }
      ]
    },
    {
      "cell_type": "code",
      "source": [
        "movies.GENRE"
      ],
      "metadata": {
        "colab": {
          "base_uri": "https://localhost:8080/"
        },
        "id": "ylx-EC6ykrgT",
        "outputId": "57f95fd6-e352-49b2-c7ca-06e684a9ebbe"
      },
      "execution_count": 560,
      "outputs": [
        {
          "output_type": "execute_result",
          "data": {
            "text/plain": [
              "0           action, horror, thriller\n",
              "1       animation, action, adventure\n",
              "2            drama, horror, thriller\n",
              "3       animation, adventure, comedy\n",
              "4              action, crime, horror\n",
              "                    ...             \n",
              "9993                 drama, thriller\n",
              "9995    animation, action, adventure\n",
              "9996              documentary, sport\n",
              "9997       adventure, drama, fantasy\n",
              "9998       adventure, drama, fantasy\n",
              "Name: GENRE, Length: 9568, dtype: object"
            ]
          },
          "metadata": {},
          "execution_count": 560
        }
      ]
    },
    {
      "cell_type": "markdown",
      "source": [
        "Are there nulls in this column?"
      ],
      "metadata": {
        "id": "Myshh7tMoFRR"
      }
    },
    {
      "cell_type": "code",
      "source": [
        "# Check for null values in the 'GENRE' column\n",
        "null_count = movies['GENRE'].isnull().sum()\n",
        "\n",
        "# Print the number of null values\n",
        "print(f\"Number of null values in the 'GENRE' column: {null_count}\")"
      ],
      "metadata": {
        "colab": {
          "base_uri": "https://localhost:8080/"
        },
        "id": "son_BYAcn7qD",
        "outputId": "8442d09b-c1d9-4831-8124-e92314e294e6"
      },
      "execution_count": 561,
      "outputs": [
        {
          "output_type": "stream",
          "name": "stdout",
          "text": [
            "Number of null values in the 'GENRE' column: 78\n"
          ]
        }
      ]
    },
    {
      "cell_type": "code",
      "source": [
        "# Remove rows with null values in the 'GENRE' column\n",
        "movies = movies.dropna(subset=['GENRE'])"
      ],
      "metadata": {
        "id": "diR7QZfIogl_"
      },
      "execution_count": 562,
      "outputs": []
    },
    {
      "cell_type": "markdown",
      "source": [
        "## `RATING`"
      ],
      "metadata": {
        "id": "9Jqvnj5lpJfV"
      }
    },
    {
      "cell_type": "markdown",
      "source": [
        "Let me see if there are rows with values more than 10"
      ],
      "metadata": {
        "id": "0PbxlMOEqY6I"
      }
    },
    {
      "cell_type": "code",
      "source": [
        "\n",
        "# Filter rows with 'RATING' values greater than 10\n",
        "rows_with_ratings_above_10 = movies[movies['RATING'] > 10]\n",
        "\n",
        "# Check if there are any such rows\n",
        "if not rows_with_ratings_above_10.empty:\n",
        "    print(\"Rows with 'RATING' values greater than 10:\")\n",
        "    print(rows_with_ratings_above_10)\n",
        "else:\n",
        "    print(\"No rows with 'RATING' values greater than 10 found.\")\n"
      ],
      "metadata": {
        "colab": {
          "base_uri": "https://localhost:8080/"
        },
        "id": "KyKIalOoqgHK",
        "outputId": "c86a6f1a-4c8e-4f18-ddde-7d0b8e4167e3"
      },
      "execution_count": 563,
      "outputs": [
        {
          "output_type": "stream",
          "name": "stdout",
          "text": [
            "No rows with 'RATING' values greater than 10 found.\n"
          ]
        }
      ]
    },
    {
      "cell_type": "markdown",
      "source": [
        "Ok, thats cool, I will fill the `NaN` with 0"
      ],
      "metadata": {
        "id": "fi5WFZIUqjnF"
      }
    },
    {
      "cell_type": "code",
      "source": [
        "# # Calculate the mean rating (rounded to one decimal point)\n",
        "# mean_rating = round(movies['RATING'].mean(), 1)\n",
        "\n",
        "# Fill NaN values in the 'RATING' column with 0\n",
        "movies['RATING'].fillna(0, inplace=True)"
      ],
      "metadata": {
        "id": "Bir7dVf0rDRQ"
      },
      "execution_count": 564,
      "outputs": []
    },
    {
      "cell_type": "code",
      "source": [
        "movies.RATING"
      ],
      "metadata": {
        "colab": {
          "base_uri": "https://localhost:8080/"
        },
        "id": "2QsYY1hfpapN",
        "outputId": "aa222c57-8839-489d-9528-956f0e2e5dd3"
      },
      "execution_count": 565,
      "outputs": [
        {
          "output_type": "execute_result",
          "data": {
            "text/plain": [
              "0       6.1\n",
              "1       5.0\n",
              "2       8.2\n",
              "3       9.2\n",
              "4       0.0\n",
              "       ... \n",
              "9993    0.0\n",
              "9995    0.0\n",
              "9996    0.0\n",
              "9997    0.0\n",
              "9998    0.0\n",
              "Name: RATING, Length: 9490, dtype: float64"
            ]
          },
          "metadata": {},
          "execution_count": 565
        }
      ]
    },
    {
      "cell_type": "markdown",
      "source": [
        "## `ONE-LINE`"
      ],
      "metadata": {
        "id": "lGgqrG2HrySF"
      }
    },
    {
      "cell_type": "markdown",
      "source": [
        "First I will change this to `DESCRIPTION`"
      ],
      "metadata": {
        "id": "aOX9Jxf3r2qJ"
      }
    },
    {
      "cell_type": "code",
      "source": [
        "# Rename the 'ONE-LINE' column to 'DESCRIPTION'\n",
        "movies.rename(columns={'ONE-LINE': 'DESCRIPTION'}, inplace=True)"
      ],
      "metadata": {
        "id": "0LTYuYtVsMMA"
      },
      "execution_count": 566,
      "outputs": []
    },
    {
      "cell_type": "code",
      "source": [
        "movies.DESCRIPTION"
      ],
      "metadata": {
        "colab": {
          "base_uri": "https://localhost:8080/"
        },
        "id": "GG4JipE8sMI-",
        "outputId": "595253d3-67ca-477c-d008-d6d77fe66add"
      },
      "execution_count": 567,
      "outputs": [
        {
          "output_type": "execute_result",
          "data": {
            "text/plain": [
              "0                                                                                     A woman with a mysterious illness is forced into action when a group of terrorists attempt to hijack a transatlantic overnight flight.\n",
              "1                                                                      The war for Eternia begins again in what may be the final battle between He-Man and Skeletor. A new animated series from writer-director Kevin Smith.\n",
              "2                                                                                           Sheriff Deputy Rick Grimes wakes up from a coma to learn the world is in ruins and must lead a group of survivors to stay alive.\n",
              "3                                                                                                                          An animated series that follows the exploits of a super scientist and his not-so-bright grandson.\n",
              "4        A prequel, set before the events of Army of the Dead, which focuses on German safecracker Ludwig Dieter leading a group of aspiring thieves on a top secret heist during the early stages of the zombie apocalypse.\n",
              "                                                                                                                ...                                                                                                         \n",
              "9993                                                                                                                                                                                                             Add a Plot \n",
              "9995                                                                                                                                                                                                             Add a Plot \n",
              "9996                                                                                                                                                                                                             Add a Plot \n",
              "9997                                                                                                                                                                                                             Add a Plot \n",
              "9998                                                                                                                                                                                                             Add a Plot \n",
              "Name: DESCRIPTION, Length: 9490, dtype: object"
            ]
          },
          "metadata": {},
          "execution_count": 567
        }
      ]
    },
    {
      "cell_type": "markdown",
      "source": [
        "We can see there are lots of rows with 'Add a Plot' I will change that too to 'No Description Avalaible'"
      ],
      "metadata": {
        "id": "-819upLKsuus"
      }
    },
    {
      "cell_type": "code",
      "source": [
        "\n",
        "# Replace \"Add a Plot\" with \"No Description Available\" in the 'SUMMARY' column\n",
        "movies['DESCRIPTION'] = movies['DESCRIPTION'].str.replace('Add a Plot', 'No Description Available')"
      ],
      "metadata": {
        "id": "CV7Qx0Xcs-G0"
      },
      "execution_count": 568,
      "outputs": []
    },
    {
      "cell_type": "markdown",
      "source": [
        "## `STARS`"
      ],
      "metadata": {
        "id": "89Cc7axVv3U8"
      }
    },
    {
      "cell_type": "code",
      "source": [
        "\n",
        "# Set the Pandas option to display more text in columns\n",
        "pd.set_option('display.max_colwidth', None)\n",
        "\n",
        "\n",
        "# Display the 'STARS' column with full text\n",
        "print(movies['STARS'].sample(50))\n"
      ],
      "metadata": {
        "colab": {
          "base_uri": "https://localhost:8080/"
        },
        "id": "pU-AGg9Qv7CE",
        "outputId": "651ed9fa-2e8e-4529-9616-58c6d1d18567"
      },
      "execution_count": 569,
      "outputs": [
        {
          "output_type": "stream",
          "name": "stdout",
          "text": [
            "1280                                                     Stars: Grzegorz Damiecki,  Agnieszka Grochowska,  Hubert Milkowski,  Wiktoria Filus \n",
            "6555              Directors: Noriyuki Abe,  Kôji Aritomi |      Stars: Masakazu Morita,  Fumiko Orikasa,  Noriaki Sugiyama,  Hiroki Yasumoto \n",
            "8008                                  Director: Alexandre Laurent |      Stars: Audrey Fleurot,  Julie De Bona,  Camille Lou,  Gilbert Melki \n",
            "9186                                              Director: Robyn Grace |      Stars: Russell Curry,  Hunter Deno,  Kainalu Moya,  Tessa Rao \n",
            "5210                                          Directors: Zhong Lei,  Yue Song |      Stars: Kang En,  Yang JunPing,  Becki Li,  Chang-Hai Li \n",
            "276                                 Director: Stanley Kubrick |      Stars: Keir Dullea,  Gary Lockwood,  William Sylvester,  Daniel Richter \n",
            "4701                                                           Stars: Alberto Collado,  Gonzalo Guzmán,  Arcelia Ramírez,  Karina Díaz López \n",
            "6196                                     Director: Arvind Sastry |      Stars: Harisharva,  Krishi Thapanda,  Matangi Prasanna,  Suraj Gowda \n",
            "3653                                                                                                                                         \n",
            "67                                                                       Stars: Ryan Eggold,  Janet Montgomery,  Freema Agyeman,  Jocko Sims \n",
            "2577                                                                  Stars: Tiki Barber,  Rafinha Bastos,  Luis Ernesto Franco,  Inés Sainz \n",
            "9415                                             Director: Maite Ruiz de Austri |      Stars: Itzan Escamilla,  Michelle Jenner,  Sergio Mur \n",
            "7265                     Director: Jesse Peretz |      Stars: Maddie Phillips,  Anjelica Bette Fellini,  Kadeem Hardison,  Virginia Williams \n",
            "8152                 Directors: Jae Woo Kim,  Christofer Graham |      Stars: Ricardo Hurtado,  Monica Ray,  Luke Youngblood,  Scott Kreamer \n",
            "6367                                                                                                                                         \n",
            "6206                                                                                                                                         \n",
            "3864                                                                        Stars: Dan Jones,  Christophe Lombardi,  Jay Dee,  Ronald Hutton \n",
            "8494                                                                 Stars: Morgan Berry,  Clint Bickham,  Shannon Emerick,  Caitlynn French \n",
            "2559                                                                   Stars: Beth Chalmers,  Teresa Gallagher,  David Holt,  Marcel McCalla \n",
            "4260                                   Director: Matt Bell |      Stars: Hafþór Júlíus Björnsson,  Colin Bryce,  Geoff Capes,  Alex Curletto \n",
            "3319                                 Director: David Marconi |      Stars: Frank Grillo,  Jaimie Alexander,  Roschdy Zem,  Marie-Josée Croze \n",
            "4730                                                                                              Directors: Jesse Handsher,  Olivier Roland \n",
            "4971                           Director: Andrea Tagliaferri |      Stars: Fabrizio Falco,  Matilde Gioli,  Agnese Claisse,  Giustiniano Alpi \n",
            "6693                             Director: Linda Mendoza |      Stars: Maitreyi Ramakrishnan,  Richa Moorjani,  Darren Barnet,  John McEnroe \n",
            "1106                                          Director: Hatem Khraiche |      Stars: Clara Lago,  Álex González,  Andrés Parra,  Belén Rueda \n",
            "5759                                                                                  Director: Milton Horowitz |      Star: David A. Arnold \n",
            "1460                                                                         Stars: Kim Dong-Hee,  Park Joo-Hyun,  Da-bin Jung,  Nam Yoon-Su \n",
            "6720         Directors: Anna Gutto,  Per-Olav Sørensen |      Stars: Ida Elise Broch,  Allegra Clark,  Ask Sørensen Grønlie,  Samantha Gurah \n",
            "5225                                                                                                                                         \n",
            "4589                                                    Director: Michael Blieden |      Stars: Zach Galifianakis,  Joe Wagner,  Brian Unger \n",
            "7447                                                                    Stars: John Eric Bentley,  Darin De Paul,  Trevor Devall,  Joe Hanna \n",
            "3239                                          Director: John Gray |      Stars: Julia Stiles,  David Walton,  Camryn Manheim,  Georgia Lyman \n",
            "476                                                                     Stars: Bruce Campbell,  Ray Santiago,  Dana DeLorenzo,  Lucy Lawless \n",
            "4486                                    Director: Sermiyan Midyat |      Stars: Sermiyan Midyat,  Burak Satibol,  Nicole Faria,  Safak Sezer \n",
            "6392                                              Director: Bob Bryan |      Stars: Jim Jacobmeyer,  Metro High School Students,  Paco Rosic \n",
            "4584                                Director: Riccardo Paoletti |      Stars: Daisy Keeping,  David Brandon,  Joy Tanner,  Martin Kashirokov \n",
            "510                                     Director: Sydney Pollack |      Stars: Tom Cruise,  Jeanne Tripplehorn,  Gene Hackman,  Hal Holbrook \n",
            "6222                                                                             Directors: Raúl Campos,  Jan Suter |      Star: Daniel Sosa \n",
            "219                       Director: Gina Prince-Bythewood |      Stars: Charlize Theron,  KiKi Layne,  Matthias Schoenaerts,  Marwan Kenzari \n",
            "4974                                                                                                                     Star: Lee Byung-hun \n",
            "2753                                                                                  Director: Wanuri Kahiu |      Star: Millie Bobby Brown \n",
            "8408                                             Director: Sílvia Quer |      Stars: Inma Cuesta,  Bárbara Lennie,  Tamar Novas,  Arón Piper \n",
            "844                                                     Stars: José Carlos Cosenzo,  Luiz Flávio D'Urso,  Mauro Dias,  Osvaldo Luiz Figueira \n",
            "4672                                                                                                                                         \n",
            "1137                                                                  Stars: Michael Angelis,  Keith Wickham,  Michael Brandon,  Kerry Shale \n",
            "4723                                                               Stars: Khalifa Albhri,  Mansoor Alfeeli,  Abdullah Almaqbali,  Neven Madi \n",
            "9640                                                                      Stars: Drew Barrymore,  Ross Mathews,  Oprah Winfrey,  Bruce Perry \n",
            "1833                                                                      Stars: Nicole Byer,  Jacques Torres,  Weston Bahr,  Charity George \n",
            "7914                                                                       Stars: Vincent Kartheiser,  Paul Rozin,  Isha Datar,  Melanie Joy \n",
            "5029                                                                      Stars: Acacia Marquez,  John Salandria,  Bri Leone,  Jacob Nichols \n",
            "Name: STARS, dtype: object\n"
          ]
        }
      ]
    },
    {
      "cell_type": "markdown",
      "source": [
        "So, we can see that there are Stars and Director, I will remove Director since the column is named stars:"
      ],
      "metadata": {
        "id": "u51R2pYixVye"
      }
    },
    {
      "cell_type": "code",
      "source": [
        "# Extract stars' names from the 'STARS' column (ignoring directors)\n",
        "movies['STARS'] = movies['STARS'].str.replace('Director:', '')  # Remove \"Director:\" if present\n",
        "movies['STARS'] = movies['STARS'].str.strip()  # Remove leading/trailing whitespace\n",
        "movies['STARS'] = movies['STARS'].str.split('|').str[1].str.strip()  # Extract stars' names"
      ],
      "metadata": {
        "id": "-GcyJY1oxoKO"
      },
      "execution_count": 570,
      "outputs": []
    },
    {
      "cell_type": "code",
      "source": [
        "# Remove \"Stars: \" prefix from all rows in the 'STARS' column\n",
        "movies['STARS'] = movies['STARS'].str.replace('Stars: ', '', case=False)"
      ],
      "metadata": {
        "id": "d9izYpk_zPDa"
      },
      "execution_count": 571,
      "outputs": []
    },
    {
      "cell_type": "code",
      "source": [
        "# Fill NaN values in the 'STARS' column with 'Stars Names not Available'\n",
        "movies['STARS'].fillna('Stars Names not Available', inplace=True)"
      ],
      "metadata": {
        "id": "kC9mjwtZzvci"
      },
      "execution_count": 572,
      "outputs": []
    },
    {
      "cell_type": "code",
      "source": [
        "\n",
        "# Set the Pandas option to display more text in columns\n",
        "pd.set_option('display.max_colwidth', None)\n",
        "\n",
        "\n",
        "# Display the 'STARS' column with full text\n",
        "print(movies['STARS'].sample(50))\n"
      ],
      "metadata": {
        "colab": {
          "base_uri": "https://localhost:8080/"
        },
        "id": "v01zuObFYTJZ",
        "outputId": "8d79d950-6b37-4732-cb1e-2328663cfc7c"
      },
      "execution_count": 573,
      "outputs": [
        {
          "output_type": "stream",
          "name": "stdout",
          "text": [
            "900                          Ali Wong,  Randall Park,  James Saito,  Michelle Buteau\n",
            "5213              Gideon Wahlberg,  Dagmar Ebbesen,  Björn Berglund,  Edvard Persson\n",
            "7017                                                       Stars Names not Available\n",
            "9586                       Yuri Lowenthal,  Lara Pulver,  Troy Baker,  Freya Tingley\n",
            "7657                                                       Stars Names not Available\n",
            "1                                                          Stars Names not Available\n",
            "4585                   Gary Daniels,  Vannessa Vasquez,  Michael Greco,  Luis Gatica\n",
            "7556                  Catherine Reitman,  Dani Kind,  Juno Rinaldi,  Ryan Belleville\n",
            "5817         Ella Joy Ballesteros,  Maisie Benson,  Smith Foreman,  Kerry Gudjohnsen\n",
            "3921                                                       Stars Names not Available\n",
            "1367                                                       Stars Names not Available\n",
            "6330                Jabriah Anderson,  Calvin Collins,  Tikki Collins,  Donna Griggs\n",
            "7423                    Dylan Minnette,  Grace Saif,  Christian Navarro,  Alisha Boe\n",
            "977                            Matt Damon,  Julianne Moore,  Oscar Isaac,  Noah Jupe\n",
            "3059                   Grant Gustin,  Kaylah Zander,  Camille Sullivan,  Tom McBeath\n",
            "7555                           Jack Whitehall,  Michael Whitehall,  Hilary Whitehall\n",
            "5812                                                       Stars Names not Available\n",
            "1144                      Amy Poehler,  Will Arnett,  Mirai Shida,  Ryûnosuke Kamiki\n",
            "5683                                                       Stars Names not Available\n",
            "3635                                                       Stars Names not Available\n",
            "5572                                                       Stars Names not Available\n",
            "8692                         Troy Baker,  Chris Hackney,  Kaiji Tang,  Kirk Thornton\n",
            "6858            Amybeth McNulty,  Geraldine James,  R.H. Thomson,  Lucas Jade Zumann\n",
            "333                                                        Stars Names not Available\n",
            "8318                         Lior Raz,  Ala Dakka,  Itzik Cohen,  Yaakov Zada Daniel\n",
            "4560                    Inna Bakelman,  Erez Ben-Ezra,  Danny Geva,  Michael Hanegbi\n",
            "7491                  Adam Pålsson,  Leanne Best,  Richard Dillane,  Ellise Chappell\n",
            "6769    Alba August,  Lucas Lynggaard Tønnesen,  Mikkel Boe Følsgaard,  Lukas Løkken\n",
            "7211                                                       Stars Names not Available\n",
            "2923                     Kang Quintus,  Faith Fidel,  Cosson Chinopoh,  Ramsey Nouah\n",
            "5727                                                       Stars Names not Available\n",
            "4716                                                       Stars Names not Available\n",
            "1501                        Ayushmann Khurrana,  Nassar,  Manoj Pahwa,  Kumud Mishra\n",
            "5503                     Rian Malan,  Solomon Linda,  Delphi Linda,  Elizabeth Linda\n",
            "8291                                                       Stars Names not Available\n",
            "7                                                          Stars Names not Available\n",
            "357                    Naomi Watts,  Ewan McGregor,  Tom Holland,  Oaklee Pendergast\n",
            "1249                        Stan Shaw,  Gabrielle Haugh,  Brandon Smith,  Meg Foster\n",
            "4121                                                       Stars Names not Available\n",
            "2868                                                       Stars Names not Available\n",
            "2886                Michael Shannon,  Judy Greer,  Ron Perlman,  Christina Hendricks\n",
            "3578            Lakshmi Manchu,  Saanve Megghana,  Abhay Bethiganti,  Jagapathi Babu\n",
            "6483                           Zach Tyler,  Mae Whitman,  Jack De Sena,  Dante Basco\n",
            "5323                                                       Stars Names not Available\n",
            "4334               Adipati Dolken,  Vanesha Prescilla,  Refal Hady,  Denira Wiraguna\n",
            "7268                  Itzan Escamilla,  Miguel Bernardeau,  Álvaro Rico,  Arón Piper\n",
            "1700                                       Allu Arjun,  Pooja Hegde,  Tabu,  Jayaram\n",
            "8460                                                       Stars Names not Available\n",
            "5908                                                             Star: Bert Visscher\n",
            "6170                                                              Star: Hans Teeuwen\n",
            "Name: STARS, dtype: object\n"
          ]
        }
      ]
    },
    {
      "cell_type": "markdown",
      "source": [
        "## `VOTES`"
      ],
      "metadata": {
        "id": "wwYhjaQx1QE7"
      }
    },
    {
      "cell_type": "code",
      "source": [
        "movies.VOTES"
      ],
      "metadata": {
        "colab": {
          "base_uri": "https://localhost:8080/"
        },
        "id": "MAB78k4j1a0k",
        "outputId": "845cbf21-b363-45ce-df95-3d638c88e791"
      },
      "execution_count": 574,
      "outputs": [
        {
          "output_type": "execute_result",
          "data": {
            "text/plain": [
              "0        21,062\n",
              "1        17,870\n",
              "2       885,805\n",
              "3       414,849\n",
              "4           NaN\n",
              "         ...   \n",
              "9993        NaN\n",
              "9995        NaN\n",
              "9996        NaN\n",
              "9997        NaN\n",
              "9998        NaN\n",
              "Name: VOTES, Length: 9490, dtype: object"
            ]
          },
          "metadata": {},
          "execution_count": 574
        }
      ]
    },
    {
      "cell_type": "markdown",
      "source": [
        "I will need to remove all the commas and others so that this column can be intega"
      ],
      "metadata": {
        "id": "a_zJLoZR1xk4"
      }
    },
    {
      "cell_type": "code",
      "source": [
        "# Step 1: Remove non-numeric characters (commas, etc.) and replace NaN with 0\n",
        "movies['VOTES'] = movies['VOTES'].str.replace('[^\\d]', '', regex=True).fillna('0')\n",
        "\n",
        "# Step 2: Convert the column to numeric (integer) data type\n",
        "movies['VOTES'] = pd.to_numeric(movies['VOTES'], downcast='integer')\n"
      ],
      "metadata": {
        "id": "jNqNPKSD1-2V"
      },
      "execution_count": 575,
      "outputs": []
    },
    {
      "cell_type": "code",
      "source": [
        "movies.VOTES"
      ],
      "metadata": {
        "colab": {
          "base_uri": "https://localhost:8080/"
        },
        "id": "bepy7NbG2Orm",
        "outputId": "831c14a9-021e-4941-cbc4-e76134d43e6d"
      },
      "execution_count": 576,
      "outputs": [
        {
          "output_type": "execute_result",
          "data": {
            "text/plain": [
              "0        21062\n",
              "1        17870\n",
              "2       885805\n",
              "3       414849\n",
              "4            0\n",
              "         ...  \n",
              "9993         0\n",
              "9995         0\n",
              "9996         0\n",
              "9997         0\n",
              "9998         0\n",
              "Name: VOTES, Length: 9490, dtype: int32"
            ]
          },
          "metadata": {},
          "execution_count": 576
        }
      ]
    },
    {
      "cell_type": "markdown",
      "source": [
        "## `RunTime`\n"
      ],
      "metadata": {
        "id": "niSTVGei2RQV"
      }
    },
    {
      "cell_type": "code",
      "source": [
        "movies.RunTime"
      ],
      "metadata": {
        "colab": {
          "base_uri": "https://localhost:8080/"
        },
        "id": "mV1DChfd2VtJ",
        "outputId": "8677b7a8-c182-4a2e-9711-eb0e8f30ef91"
      },
      "execution_count": 577,
      "outputs": [
        {
          "output_type": "execute_result",
          "data": {
            "text/plain": [
              "0       121.0\n",
              "1        25.0\n",
              "2        44.0\n",
              "3        23.0\n",
              "4         NaN\n",
              "        ...  \n",
              "9993      NaN\n",
              "9995      NaN\n",
              "9996      NaN\n",
              "9997      NaN\n",
              "9998      NaN\n",
              "Name: RunTime, Length: 9490, dtype: float64"
            ]
          },
          "metadata": {},
          "execution_count": 577
        }
      ]
    },
    {
      "cell_type": "markdown",
      "source": [
        "I will:\n",
        "1. Rename the 'RunTime' column to 'RUNTIME.'\n",
        "2. Replace any NaN values with 0 (assuming that missing values represent a runtime of 0).\n",
        "3. Convert the column to integer data type (assuming that runtime values are in whole minutes).\n",
        "\n"
      ],
      "metadata": {
        "id": "FnZOAynE25IW"
      }
    },
    {
      "cell_type": "code",
      "source": [
        "# Step 1: Rename the column\n",
        "movies.rename(columns={'RunTime': 'RUNTIME'}, inplace=True)\n",
        "\n",
        "# Step 2: Replace NaN values with 0\n",
        "movies['RUNTIME'].fillna(0, inplace=True)\n",
        "\n",
        "# Step 3: Convert the column to integer data type\n",
        "movies['RUNTIME'] = movies['RUNTIME'].astype(int)"
      ],
      "metadata": {
        "id": "PM815deM3Gbd"
      },
      "execution_count": 578,
      "outputs": []
    },
    {
      "cell_type": "markdown",
      "source": [
        "## `Gross`"
      ],
      "metadata": {
        "id": "SgC9AcSD3Yf4"
      }
    },
    {
      "cell_type": "code",
      "source": [
        "movies.Gross.sample(10)"
      ],
      "metadata": {
        "colab": {
          "base_uri": "https://localhost:8080/"
        },
        "id": "GhQs7tT03cB7",
        "outputId": "6496d91a-bdce-4de2-9ecc-d692c2409c2e"
      },
      "execution_count": 579,
      "outputs": [
        {
          "output_type": "execute_result",
          "data": {
            "text/plain": [
              "3712    NaN\n",
              "9368    NaN\n",
              "6429    NaN\n",
              "2040    NaN\n",
              "6942    NaN\n",
              "7306    NaN\n",
              "9001    NaN\n",
              "8952    NaN\n",
              "4197    NaN\n",
              "9414    NaN\n",
              "Name: Gross, dtype: object"
            ]
          },
          "metadata": {},
          "execution_count": 579
        }
      ]
    },
    {
      "cell_type": "markdown",
      "source": [
        "I will:\n",
        "\n",
        "1. Rename the column to 'GROSS.'\n",
        "2. Remove the dollar sign ('$') and 'M' from the values.\n",
        "3. Replace any NaN values with 0.\n",
        "4. Convert the column to a numeric data type (assuming the values represent millions of dollars).\n",
        "\n",
        "\n"
      ],
      "metadata": {
        "id": "9ZMs3kVK33Dh"
      }
    },
    {
      "cell_type": "code",
      "source": [
        "# Step 1: Rename the column\n",
        "movies.rename(columns={'Gross': 'GROSS'}, inplace=True)\n",
        "\n",
        "# Step 2: Remove the dollar sign and 'M' from values\n",
        "# Remove the dollar sign and 'M' from values without using regex=True\n",
        "movies['GROSS'] = movies['GROSS'].str.replace(['$', 'M'], '', regex=False)\n",
        "\n",
        "# Step 3: Replace NaN values with 0\n",
        "movies['GROSS'].fillna(0, inplace=True)\n",
        "\n",
        "# Step 4: Convert the column to a numeric data type\n",
        "movies['GROSS'] = pd.to_numeric(movies['GROSS'], errors='coerce')"
      ],
      "metadata": {
        "id": "pJcrC-Tj4Du2"
      },
      "execution_count": 580,
      "outputs": []
    },
    {
      "cell_type": "code",
      "source": [
        "movies.sample(8)"
      ],
      "metadata": {
        "colab": {
          "base_uri": "https://localhost:8080/",
          "height": 734
        },
        "id": "GJ2jboIxYTMY",
        "outputId": "a7a1f9d3-9bae-456c-f731-cd5b341f0bd6"
      },
      "execution_count": 581,
      "outputs": [
        {
          "output_type": "execute_result",
          "data": {
            "text/plain": [
              "                        MOVIES    YEAR                 GENRE  RATING  \\\n",
              "7658         Tiny House Nation  2014.0            reality-tv     7.4   \n",
              "496                    Beckett  2021.0  action, crime, drama     0.0   \n",
              "4508          Heeojin Daeumnal  2016.0               fantasy     6.9   \n",
              "1543                  Big Game  2014.0     action, adventure     5.4   \n",
              "1451               Sexy Beasts  2014.0                comedy     5.5   \n",
              "7949   Narcoworld Dope Stories  2019.0    documentary, crime     7.5   \n",
              "4762           Enter the Anime  2019.0           documentary     2.5   \n",
              "4285                    Misfit  2017.0        comedy, family     4.3   \n",
              "\n",
              "                                                                                                                                                                                                                              DESCRIPTION  \\\n",
              "7658        This week, John and Zack head west to Sonoma County, CA to help volunteer firefighter, Scott and his wife Xanthie build a home to replace the one they lost in the Northern California ...                See full summary »    \n",
              "496                                                                 Following a tragic car accident in Greece, Beckett, an American tourist, finds himself at the center of a dangerous political conspiracy and on the run for his life.   \n",
              "4508                                                                                                                        The singer of an indie band has to save his girlfriend from a dark destiny, despite his constant memory gaps.   \n",
              "1543                                                                                             A young teenager camping in the woods helps rescue the President of the United States when Air Force One is shot down near his campsite.   \n",
              "1451    A show on a mission to to proving that persona is more crucial than physicality when it comes to the attraction of both sexes. Top-of-the-range hollywood prosthetics are used to disguise ...                See full summary »    \n",
              "7949                                                                                             In the poorest areas of Rio de Janeiro, elite teams of police officers risk their lives fighting brutal drug gangs with nothing to lose.   \n",
              "4762   It is a documentary aimed at newcomers to anime, and follows anime newbie, Alex Burunova, as she dives into the mysterious world of the genre. The documentary features some of the biggest ...                See full summary »    \n",
              "4285                                                                                Moving back to her native Netherlands after years of living in the United States, a teenage girl navigates the intricacies of Dutch high school life.   \n",
              "\n",
              "                                                                       STARS  \\\n",
              "7658                                               Stars Names not Available   \n",
              "496   John David Washington,  Alicia Vikander,  Boyd Holbrook,  Vicky Krieps   \n",
              "4508                                               Stars Names not Available   \n",
              "1543        Samuel L. Jackson,  Onni Tommila,  Ray Stevenson,  Victor Garber   \n",
              "1451                                               Stars Names not Available   \n",
              "7949                                                     Star: Michael Beach   \n",
              "4762             Shinji Aramaki,  Kôzô Morishita,  Tania Nolan,  Adi Shankar   \n",
              "4285                 Djamila,  Bente Fokkens,  Niek Roozen,  Jolijn Henneman   \n",
              "\n",
              "      VOTES  RUNTIME  GROSS  \n",
              "7658     19       41    0.0  \n",
              "496       0      108    0.0  \n",
              "4508    519        0    0.0  \n",
              "1543  31914       90    0.0  \n",
              "1451     53        0    0.0  \n",
              "7949     28       37    0.0  \n",
              "4762   1540       58    0.0  \n",
              "4285    360       86    0.0  "
            ],
            "text/html": [
              "\n",
              "  <div id=\"df-74739a5b-e72a-4bdb-bbb5-fc31cc25aa85\" class=\"colab-df-container\">\n",
              "    <div>\n",
              "<style scoped>\n",
              "    .dataframe tbody tr th:only-of-type {\n",
              "        vertical-align: middle;\n",
              "    }\n",
              "\n",
              "    .dataframe tbody tr th {\n",
              "        vertical-align: top;\n",
              "    }\n",
              "\n",
              "    .dataframe thead th {\n",
              "        text-align: right;\n",
              "    }\n",
              "</style>\n",
              "<table border=\"1\" class=\"dataframe\">\n",
              "  <thead>\n",
              "    <tr style=\"text-align: right;\">\n",
              "      <th></th>\n",
              "      <th>MOVIES</th>\n",
              "      <th>YEAR</th>\n",
              "      <th>GENRE</th>\n",
              "      <th>RATING</th>\n",
              "      <th>DESCRIPTION</th>\n",
              "      <th>STARS</th>\n",
              "      <th>VOTES</th>\n",
              "      <th>RUNTIME</th>\n",
              "      <th>GROSS</th>\n",
              "    </tr>\n",
              "  </thead>\n",
              "  <tbody>\n",
              "    <tr>\n",
              "      <th>7658</th>\n",
              "      <td>Tiny House Nation</td>\n",
              "      <td>2014.0</td>\n",
              "      <td>reality-tv</td>\n",
              "      <td>7.4</td>\n",
              "      <td>This week, John and Zack head west to Sonoma County, CA to help volunteer firefighter, Scott and his wife Xanthie build a home to replace the one they lost in the Northern California ...                See full summary »</td>\n",
              "      <td>Stars Names not Available</td>\n",
              "      <td>19</td>\n",
              "      <td>41</td>\n",
              "      <td>0.0</td>\n",
              "    </tr>\n",
              "    <tr>\n",
              "      <th>496</th>\n",
              "      <td>Beckett</td>\n",
              "      <td>2021.0</td>\n",
              "      <td>action, crime, drama</td>\n",
              "      <td>0.0</td>\n",
              "      <td>Following a tragic car accident in Greece, Beckett, an American tourist, finds himself at the center of a dangerous political conspiracy and on the run for his life.</td>\n",
              "      <td>John David Washington,  Alicia Vikander,  Boyd Holbrook,  Vicky Krieps</td>\n",
              "      <td>0</td>\n",
              "      <td>108</td>\n",
              "      <td>0.0</td>\n",
              "    </tr>\n",
              "    <tr>\n",
              "      <th>4508</th>\n",
              "      <td>Heeojin Daeumnal</td>\n",
              "      <td>2016.0</td>\n",
              "      <td>fantasy</td>\n",
              "      <td>6.9</td>\n",
              "      <td>The singer of an indie band has to save his girlfriend from a dark destiny, despite his constant memory gaps.</td>\n",
              "      <td>Stars Names not Available</td>\n",
              "      <td>519</td>\n",
              "      <td>0</td>\n",
              "      <td>0.0</td>\n",
              "    </tr>\n",
              "    <tr>\n",
              "      <th>1543</th>\n",
              "      <td>Big Game</td>\n",
              "      <td>2014.0</td>\n",
              "      <td>action, adventure</td>\n",
              "      <td>5.4</td>\n",
              "      <td>A young teenager camping in the woods helps rescue the President of the United States when Air Force One is shot down near his campsite.</td>\n",
              "      <td>Samuel L. Jackson,  Onni Tommila,  Ray Stevenson,  Victor Garber</td>\n",
              "      <td>31914</td>\n",
              "      <td>90</td>\n",
              "      <td>0.0</td>\n",
              "    </tr>\n",
              "    <tr>\n",
              "      <th>1451</th>\n",
              "      <td>Sexy Beasts</td>\n",
              "      <td>2014.0</td>\n",
              "      <td>comedy</td>\n",
              "      <td>5.5</td>\n",
              "      <td>A show on a mission to to proving that persona is more crucial than physicality when it comes to the attraction of both sexes. Top-of-the-range hollywood prosthetics are used to disguise ...                See full summary »</td>\n",
              "      <td>Stars Names not Available</td>\n",
              "      <td>53</td>\n",
              "      <td>0</td>\n",
              "      <td>0.0</td>\n",
              "    </tr>\n",
              "    <tr>\n",
              "      <th>7949</th>\n",
              "      <td>Narcoworld Dope Stories</td>\n",
              "      <td>2019.0</td>\n",
              "      <td>documentary, crime</td>\n",
              "      <td>7.5</td>\n",
              "      <td>In the poorest areas of Rio de Janeiro, elite teams of police officers risk their lives fighting brutal drug gangs with nothing to lose.</td>\n",
              "      <td>Star: Michael Beach</td>\n",
              "      <td>28</td>\n",
              "      <td>37</td>\n",
              "      <td>0.0</td>\n",
              "    </tr>\n",
              "    <tr>\n",
              "      <th>4762</th>\n",
              "      <td>Enter the Anime</td>\n",
              "      <td>2019.0</td>\n",
              "      <td>documentary</td>\n",
              "      <td>2.5</td>\n",
              "      <td>It is a documentary aimed at newcomers to anime, and follows anime newbie, Alex Burunova, as she dives into the mysterious world of the genre. The documentary features some of the biggest ...                See full summary »</td>\n",
              "      <td>Shinji Aramaki,  Kôzô Morishita,  Tania Nolan,  Adi Shankar</td>\n",
              "      <td>1540</td>\n",
              "      <td>58</td>\n",
              "      <td>0.0</td>\n",
              "    </tr>\n",
              "    <tr>\n",
              "      <th>4285</th>\n",
              "      <td>Misfit</td>\n",
              "      <td>2017.0</td>\n",
              "      <td>comedy, family</td>\n",
              "      <td>4.3</td>\n",
              "      <td>Moving back to her native Netherlands after years of living in the United States, a teenage girl navigates the intricacies of Dutch high school life.</td>\n",
              "      <td>Djamila,  Bente Fokkens,  Niek Roozen,  Jolijn Henneman</td>\n",
              "      <td>360</td>\n",
              "      <td>86</td>\n",
              "      <td>0.0</td>\n",
              "    </tr>\n",
              "  </tbody>\n",
              "</table>\n",
              "</div>\n",
              "    <div class=\"colab-df-buttons\">\n",
              "\n",
              "  <div class=\"colab-df-container\">\n",
              "    <button class=\"colab-df-convert\" onclick=\"convertToInteractive('df-74739a5b-e72a-4bdb-bbb5-fc31cc25aa85')\"\n",
              "            title=\"Convert this dataframe to an interactive table.\"\n",
              "            style=\"display:none;\">\n",
              "\n",
              "  <svg xmlns=\"http://www.w3.org/2000/svg\" height=\"24px\" viewBox=\"0 -960 960 960\">\n",
              "    <path d=\"M120-120v-720h720v720H120Zm60-500h600v-160H180v160Zm220 220h160v-160H400v160Zm0 220h160v-160H400v160ZM180-400h160v-160H180v160Zm440 0h160v-160H620v160ZM180-180h160v-160H180v160Zm440 0h160v-160H620v160Z\"/>\n",
              "  </svg>\n",
              "    </button>\n",
              "\n",
              "  <style>\n",
              "    .colab-df-container {\n",
              "      display:flex;\n",
              "      gap: 12px;\n",
              "    }\n",
              "\n",
              "    .colab-df-convert {\n",
              "      background-color: #E8F0FE;\n",
              "      border: none;\n",
              "      border-radius: 50%;\n",
              "      cursor: pointer;\n",
              "      display: none;\n",
              "      fill: #1967D2;\n",
              "      height: 32px;\n",
              "      padding: 0 0 0 0;\n",
              "      width: 32px;\n",
              "    }\n",
              "\n",
              "    .colab-df-convert:hover {\n",
              "      background-color: #E2EBFA;\n",
              "      box-shadow: 0px 1px 2px rgba(60, 64, 67, 0.3), 0px 1px 3px 1px rgba(60, 64, 67, 0.15);\n",
              "      fill: #174EA6;\n",
              "    }\n",
              "\n",
              "    .colab-df-buttons div {\n",
              "      margin-bottom: 4px;\n",
              "    }\n",
              "\n",
              "    [theme=dark] .colab-df-convert {\n",
              "      background-color: #3B4455;\n",
              "      fill: #D2E3FC;\n",
              "    }\n",
              "\n",
              "    [theme=dark] .colab-df-convert:hover {\n",
              "      background-color: #434B5C;\n",
              "      box-shadow: 0px 1px 3px 1px rgba(0, 0, 0, 0.15);\n",
              "      filter: drop-shadow(0px 1px 2px rgba(0, 0, 0, 0.3));\n",
              "      fill: #FFFFFF;\n",
              "    }\n",
              "  </style>\n",
              "\n",
              "    <script>\n",
              "      const buttonEl =\n",
              "        document.querySelector('#df-74739a5b-e72a-4bdb-bbb5-fc31cc25aa85 button.colab-df-convert');\n",
              "      buttonEl.style.display =\n",
              "        google.colab.kernel.accessAllowed ? 'block' : 'none';\n",
              "\n",
              "      async function convertToInteractive(key) {\n",
              "        const element = document.querySelector('#df-74739a5b-e72a-4bdb-bbb5-fc31cc25aa85');\n",
              "        const dataTable =\n",
              "          await google.colab.kernel.invokeFunction('convertToInteractive',\n",
              "                                                    [key], {});\n",
              "        if (!dataTable) return;\n",
              "\n",
              "        const docLinkHtml = 'Like what you see? Visit the ' +\n",
              "          '<a target=\"_blank\" href=https://colab.research.google.com/notebooks/data_table.ipynb>data table notebook</a>'\n",
              "          + ' to learn more about interactive tables.';\n",
              "        element.innerHTML = '';\n",
              "        dataTable['output_type'] = 'display_data';\n",
              "        await google.colab.output.renderOutput(dataTable, element);\n",
              "        const docLink = document.createElement('div');\n",
              "        docLink.innerHTML = docLinkHtml;\n",
              "        element.appendChild(docLink);\n",
              "      }\n",
              "    </script>\n",
              "  </div>\n",
              "\n",
              "\n",
              "<div id=\"df-c3ee569d-be93-445f-a6a0-d8030dd52270\">\n",
              "  <button class=\"colab-df-quickchart\" onclick=\"quickchart('df-c3ee569d-be93-445f-a6a0-d8030dd52270')\"\n",
              "            title=\"Suggest charts.\"\n",
              "            style=\"display:none;\">\n",
              "\n",
              "<svg xmlns=\"http://www.w3.org/2000/svg\" height=\"24px\"viewBox=\"0 0 24 24\"\n",
              "     width=\"24px\">\n",
              "    <g>\n",
              "        <path d=\"M19 3H5c-1.1 0-2 .9-2 2v14c0 1.1.9 2 2 2h14c1.1 0 2-.9 2-2V5c0-1.1-.9-2-2-2zM9 17H7v-7h2v7zm4 0h-2V7h2v10zm4 0h-2v-4h2v4z\"/>\n",
              "    </g>\n",
              "</svg>\n",
              "  </button>\n",
              "\n",
              "<style>\n",
              "  .colab-df-quickchart {\n",
              "      --bg-color: #E8F0FE;\n",
              "      --fill-color: #1967D2;\n",
              "      --hover-bg-color: #E2EBFA;\n",
              "      --hover-fill-color: #174EA6;\n",
              "      --disabled-fill-color: #AAA;\n",
              "      --disabled-bg-color: #DDD;\n",
              "  }\n",
              "\n",
              "  [theme=dark] .colab-df-quickchart {\n",
              "      --bg-color: #3B4455;\n",
              "      --fill-color: #D2E3FC;\n",
              "      --hover-bg-color: #434B5C;\n",
              "      --hover-fill-color: #FFFFFF;\n",
              "      --disabled-bg-color: #3B4455;\n",
              "      --disabled-fill-color: #666;\n",
              "  }\n",
              "\n",
              "  .colab-df-quickchart {\n",
              "    background-color: var(--bg-color);\n",
              "    border: none;\n",
              "    border-radius: 50%;\n",
              "    cursor: pointer;\n",
              "    display: none;\n",
              "    fill: var(--fill-color);\n",
              "    height: 32px;\n",
              "    padding: 0;\n",
              "    width: 32px;\n",
              "  }\n",
              "\n",
              "  .colab-df-quickchart:hover {\n",
              "    background-color: var(--hover-bg-color);\n",
              "    box-shadow: 0 1px 2px rgba(60, 64, 67, 0.3), 0 1px 3px 1px rgba(60, 64, 67, 0.15);\n",
              "    fill: var(--button-hover-fill-color);\n",
              "  }\n",
              "\n",
              "  .colab-df-quickchart-complete:disabled,\n",
              "  .colab-df-quickchart-complete:disabled:hover {\n",
              "    background-color: var(--disabled-bg-color);\n",
              "    fill: var(--disabled-fill-color);\n",
              "    box-shadow: none;\n",
              "  }\n",
              "\n",
              "  .colab-df-spinner {\n",
              "    border: 2px solid var(--fill-color);\n",
              "    border-color: transparent;\n",
              "    border-bottom-color: var(--fill-color);\n",
              "    animation:\n",
              "      spin 1s steps(1) infinite;\n",
              "  }\n",
              "\n",
              "  @keyframes spin {\n",
              "    0% {\n",
              "      border-color: transparent;\n",
              "      border-bottom-color: var(--fill-color);\n",
              "      border-left-color: var(--fill-color);\n",
              "    }\n",
              "    20% {\n",
              "      border-color: transparent;\n",
              "      border-left-color: var(--fill-color);\n",
              "      border-top-color: var(--fill-color);\n",
              "    }\n",
              "    30% {\n",
              "      border-color: transparent;\n",
              "      border-left-color: var(--fill-color);\n",
              "      border-top-color: var(--fill-color);\n",
              "      border-right-color: var(--fill-color);\n",
              "    }\n",
              "    40% {\n",
              "      border-color: transparent;\n",
              "      border-right-color: var(--fill-color);\n",
              "      border-top-color: var(--fill-color);\n",
              "    }\n",
              "    60% {\n",
              "      border-color: transparent;\n",
              "      border-right-color: var(--fill-color);\n",
              "    }\n",
              "    80% {\n",
              "      border-color: transparent;\n",
              "      border-right-color: var(--fill-color);\n",
              "      border-bottom-color: var(--fill-color);\n",
              "    }\n",
              "    90% {\n",
              "      border-color: transparent;\n",
              "      border-bottom-color: var(--fill-color);\n",
              "    }\n",
              "  }\n",
              "</style>\n",
              "\n",
              "  <script>\n",
              "    async function quickchart(key) {\n",
              "      const quickchartButtonEl =\n",
              "        document.querySelector('#' + key + ' button');\n",
              "      quickchartButtonEl.disabled = true;  // To prevent multiple clicks.\n",
              "      quickchartButtonEl.classList.add('colab-df-spinner');\n",
              "      try {\n",
              "        const charts = await google.colab.kernel.invokeFunction(\n",
              "            'suggestCharts', [key], {});\n",
              "      } catch (error) {\n",
              "        console.error('Error during call to suggestCharts:', error);\n",
              "      }\n",
              "      quickchartButtonEl.classList.remove('colab-df-spinner');\n",
              "      quickchartButtonEl.classList.add('colab-df-quickchart-complete');\n",
              "    }\n",
              "    (() => {\n",
              "      let quickchartButtonEl =\n",
              "        document.querySelector('#df-c3ee569d-be93-445f-a6a0-d8030dd52270 button');\n",
              "      quickchartButtonEl.style.display =\n",
              "        google.colab.kernel.accessAllowed ? 'block' : 'none';\n",
              "    })();\n",
              "  </script>\n",
              "</div>\n",
              "    </div>\n",
              "  </div>\n"
            ]
          },
          "metadata": {},
          "execution_count": 581
        }
      ]
    },
    {
      "cell_type": "code",
      "source": [
        "movies.info()"
      ],
      "metadata": {
        "colab": {
          "base_uri": "https://localhost:8080/"
        },
        "id": "dq_cGZJsYTGi",
        "outputId": "1205dd2d-aee1-430b-825b-ded245890c5a"
      },
      "execution_count": 582,
      "outputs": [
        {
          "output_type": "stream",
          "name": "stdout",
          "text": [
            "<class 'pandas.core.frame.DataFrame'>\n",
            "Int64Index: 9490 entries, 0 to 9998\n",
            "Data columns (total 9 columns):\n",
            " #   Column       Non-Null Count  Dtype  \n",
            "---  ------       --------------  -----  \n",
            " 0   MOVIES       9490 non-null   object \n",
            " 1   YEAR         9490 non-null   object \n",
            " 2   GENRE        9490 non-null   object \n",
            " 3   RATING       9490 non-null   float64\n",
            " 4   DESCRIPTION  9490 non-null   object \n",
            " 5   STARS        9490 non-null   object \n",
            " 6   VOTES        9490 non-null   int32  \n",
            " 7   RUNTIME      9490 non-null   int64  \n",
            " 8   GROSS        9490 non-null   float64\n",
            "dtypes: float64(2), int32(1), int64(1), object(5)\n",
            "memory usage: 704.3+ KB\n"
          ]
        }
      ]
    },
    {
      "cell_type": "markdown",
      "source": [
        "I will save the cleaned dataset:"
      ],
      "metadata": {
        "id": "3qSCzOhC5F_b"
      }
    },
    {
      "cell_type": "code",
      "source": [
        "# Save the cleaned dataset to a CSV file\n",
        "movies.to_csv('cleaned_movies_dataset.csv', index=False)"
      ],
      "metadata": {
        "id": "L7HMeujuYTD5"
      },
      "execution_count": 583,
      "outputs": []
    }
  ]
}